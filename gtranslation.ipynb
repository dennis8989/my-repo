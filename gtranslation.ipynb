{
 "cells": [
  {
   "cell_type": "code",
   "execution_count": 1,
   "metadata": {},
   "outputs": [
    {
     "data": {
      "text/plain": [
       "'熊'"
      ]
     },
     "execution_count": 1,
     "metadata": {},
     "output_type": "execute_result"
    }
   ],
   "source": [
    "import googletrans\n",
    "\n",
    "# Initial\n",
    "translator = googletrans.Translator(service_urls=[\n",
    "      'translate.google.com.tw'\n",
    "      ])\n",
    "# translator = googletrans.Translator()\n",
    "# translator = Translator(service_urls=[\n",
    "#       'translate.google.com.tw',\n",
    "#       ])\n",
    "result = translator.translate('bear', dest='ZH-TW', src='auto')\n",
    "result.text"
   ]
  },
  {
   "cell_type": "code",
   "execution_count": 19,
   "metadata": {},
   "outputs": [
    {
     "name": "stdout",
     "output_type": "stream",
     "text": [
      "I like to jog in the rain.\n",
      "zh\n"
     ]
    }
   ],
   "source": [
    "text = '我喜歡在雨中慢跑'\n",
    "result = translator.translate(text, dest='ZH-TW', src='auto')\n",
    "if result.src[0:2] == 'zh':\n",
    "    result = translator.translate(text, dest='en', src='ZH-TW')\n",
    "print(result.text)\n",
    "print(result.src[0:2])\n",
    "try:\n",
    "    for i in result.extra_data['parsed'][3][1][0]:\n",
    "#         try:\n",
    "        print(i[0])\n",
    "        print(i[1][0][0])\n",
    "        print(i[1][0][1])\n",
    "        print(\"\\n\")\n",
    "except:\n",
    "    pass\n"
   ]
  },
  {
   "cell_type": "code",
   "execution_count": 132,
   "metadata": {},
   "outputs": [
    {
     "name": "stdout",
     "output_type": "stream",
     "text": [
      "['Qīnqiè', None, 'zh-CN', [[[0, [[[None, 2]], [True]]]], 2]]\n",
      "Qīnqiè\n",
      "\n",
      "\n",
      "[[[None, None, None, None, None, [['kind', ['kind', 'cordial', 'Intimate']]]]], 'en', 1, 'zh-CN', ['親切', 'auto', 'en', True]]\n",
      "[[None, None, None, None, None, [['kind', ['kind', 'cordial', 'Intimate']]]]]\n",
      "\n",
      "\n",
      "zh-CN\n",
      "z\n",
      "\n",
      "\n",
      "['親切', None, None, None, None, [[['形容詞', [['kind', None, ['親切', '厚道', '仁慈', '和藹', '和善', '善'], 1, True], ['cordial', None, ['親切', '傾心', '誠摯', '熱誠', '衷心', '真摯'], 1, True], ['intimate', None, ['親密', '貼心', '親熱', '親切', '密切', '親昵'], 2, True], ['gracious', None, ['親切', '高尚的'], 2, True], ['familiar', None, ['親切', '昵', '暱', '密切', '諳練', '貼心'], 2, True], ['close', None, ['密切', '緊密', '閉合', '親密', '密', '親切'], 2, True], ['dear', None, ['親愛', '親', '親切', '嶢', '昂貴的', '貴的'], 3, True], ['approachable', None, ['親切', '可接近的', '易接近的'], 3, True], ['bosom', None, ['親密', '親切', '摯'], 3, True]], 'en', 'zh-CN'], ['名詞', [['affability', None, ['親切', '和藹'], 3, True]], 'en', 'zh-CN']], 10], None, None, 'zh-CN', 1]\n",
      "親切\n",
      "\n",
      "\n"
     ]
    }
   ],
   "source": [
    "result = translator.translate('親切', dest='en', src='auto')\n",
    "for i in result.extra_data['parsed']:\n",
    "    print(i)\n",
    "    print(i[0])\n",
    "    print(\"\\n\")\n"
   ]
  },
  {
   "cell_type": "code",
   "execution_count": null,
   "metadata": {},
   "outputs": [],
   "source": [
    "'''Help on Translated in module googletrans.models object:\n",
    "\n",
    "class Translated(Base)\n",
    " |  Translated(src, dest, origin, text, pronunciation, parts: List[googletrans.models.TranslatedPart], extra_data=None, **kwargs)\n",
    " |  \n",
    " |  Translate result object\n",
    " |  \n",
    " |  :param src: source language (default: auto)\n",
    " |  :param dest: destination language (default: en)\n",
    " |  :param origin: original text\n",
    " |  :param text: translated text\n",
    " |  :param pronunciation: pronunciation'''\n"
   ]
  },
  {
   "cell_type": "code",
   "execution_count": 155,
   "metadata": {},
   "outputs": [
    {
     "name": "stdout",
     "output_type": "stream",
     "text": [
      "T\n"
     ]
    }
   ],
   "source": [
    "a= translator.detect('寶寶')\n",
    "if 'zh' in str(a):\n",
    "    print(\"T\")\n"
   ]
  },
  {
   "cell_type": "code",
   "execution_count": 141,
   "metadata": {},
   "outputs": [
    {
     "name": "stdout",
     "output_type": "stream",
     "text": [
      "Help on method detect in module googletrans.client:\n",
      "\n",
      "detect(text: str) method of googletrans.client.Translator instance\n",
      "\n"
     ]
    }
   ],
   "source": [
    "help(translator.detect)"
   ]
  }
 ],
 "metadata": {
  "kernelspec": {
   "display_name": "Python 3",
   "language": "python",
   "name": "python3"
  },
  "language_info": {
   "codemirror_mode": {
    "name": "ipython",
    "version": 3
   },
   "file_extension": ".py",
   "mimetype": "text/x-python",
   "name": "python",
   "nbconvert_exporter": "python",
   "pygments_lexer": "ipython3",
   "version": "3.8.5"
  }
 },
 "nbformat": 4,
 "nbformat_minor": 4
}
