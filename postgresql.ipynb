{
 "cells": [
  {
   "cell_type": "markdown",
   "metadata": {},
   "source": [
    "! pip install psycopg2"
   ]
  },
  {
   "cell_type": "code",
   "execution_count": 1,
   "metadata": {},
   "outputs": [],
   "source": [
    "import os\n",
    "import psycopg2"
   ]
  },
  {
   "cell_type": "markdown",
   "metadata": {},
   "source": [
    "# creat database"
   ]
  },
  {
   "cell_type": "code",
   "execution_count": null,
   "metadata": {},
   "outputs": [],
   "source": [
    "DATABASE_URL = os.popen('heroku config:get DATABASE_URL -a dennis89linebot').read()[:-1]\n",
    "# DATABASE_URL = os.environ['DATABASE_URL'] #on heroku\n",
    "conn = psycopg2.connect(DATABASE_URL, sslmode='require')\n",
    "cursor = conn.cursor()\n",
    "\n",
    "create_table_query = '''CREATE TABLE alpaca_training(\n",
    "   record_no serial PRIMARY KEY,\n",
    "   alpaca_name VARCHAR (50) NOT NULL,\n",
    "   training VARCHAR (50) NOT NULL,\n",
    "   duration INTERVAL NOT NULL,\n",
    "   date DATE NOT NULL\n",
    ");'''\n",
    "\n",
    "cursor.execute(create_table_query)\n",
    "conn.commit()\n",
    "\n",
    "cursor.close()\n",
    "conn.close()"
   ]
  },
  {
   "cell_type": "markdown",
   "metadata": {},
   "source": [
    "# list all table"
   ]
  },
  {
   "cell_type": "code",
   "execution_count": 14,
   "metadata": {},
   "outputs": [
    {
     "name": "stdout",
     "output_type": "stream",
     "text": [
      "('alpaca_training',)\n",
      "('apscheduler_jobs',)\n"
     ]
    }
   ],
   "source": [
    "DATABASE_URL = os.popen('heroku config:get DATABASE_URL -a dennis89linebot').read()[:-1]\n",
    "# DATABASE_URL = os.environ['DATABASE_URL'] #on heroku\n",
    "conn = psycopg2.connect(DATABASE_URL, sslmode='require')\n",
    "cursor = conn.cursor()\n",
    "cursor.execute(\"\"\"SELECT table_name FROM information_schema.tables\n",
    "       WHERE table_schema = 'public'\"\"\")\n",
    "for table in cursor.fetchall():\n",
    "    print(table)\n",
    "cursor.close()\n",
    "conn.close()"
   ]
  },
  {
   "cell_type": "markdown",
   "metadata": {},
   "source": [
    "# fetch data type"
   ]
  },
  {
   "cell_type": "code",
   "execution_count": 15,
   "metadata": {},
   "outputs": [
    {
     "name": "stdout",
     "output_type": "stream",
     "text": [
      "[('id', 'character varying'), ('next_run_time', 'double precision'), ('job_state', 'bytea')]\n"
     ]
    }
   ],
   "source": [
    "DATABASE_URL = os.popen('heroku config:get DATABASE_URL -a dennis89linebot').read()[:-1]\n",
    "\n",
    "conn = psycopg2.connect(DATABASE_URL, sslmode='require')\n",
    "cursor = conn.cursor()\n",
    "\n",
    "cursor.execute(\"SELECT column_name, data_type FROM information_schema.columns WHERE table_name = 'apscheduler_jobs'\")\n",
    "data = []\n",
    "while True:\n",
    "    temp = cursor.fetchone()\n",
    "    if temp:\n",
    "        data.append(temp)\n",
    "    else:\n",
    "        break\n",
    "print(data)\n",
    "cursor.close()\n",
    "conn.close()"
   ]
  },
  {
   "cell_type": "markdown",
   "metadata": {},
   "source": [
    "# insert data"
   ]
  },
  {
   "cell_type": "code",
   "execution_count": 4,
   "metadata": {},
   "outputs": [
    {
     "name": "stdout",
     "output_type": "stream",
     "text": [
      "4 Record inserted successfully into alpaca_training\n"
     ]
    }
   ],
   "source": [
    "conn = psycopg2.connect(DATABASE_URL, sslmode='require')\n",
    "cursor = conn.cursor()\n",
    "\n",
    "records = [('大衛', '肌力訓練', '1:00:00', '2019-09-24'),\n",
    "           ('威廉', '咬合訓練', '1:00:00', '2019-09-24'),\n",
    "           ('威廉', '牧草訓練', '1:30:00', '2019-09-24'),\n",
    "           ('彼得', '牧草進食', '1:30:00', '2019-09-24')]\n",
    "table_columns = '(alpaca_name, training, duration, date)'\n",
    "postgres_insert_query = f\"\"\"INSERT INTO alpaca_training {table_columns} VALUES (%s, %s, %s, %s);\"\"\"\n",
    "\n",
    "cursor.executemany(postgres_insert_query, records) # use executemany for mulitple, but execute for single\n",
    "conn.commit()\n",
    "\n",
    "count = cursor.rowcount\n",
    "\n",
    "print(count, \"Record inserted successfully into alpaca_training\")\n",
    "\n",
    "cursor.close()\n",
    "conn.close()"
   ]
  },
  {
   "cell_type": "markdown",
   "metadata": {},
   "source": [
    "# fetch data"
   ]
  },
  {
   "cell_type": "code",
   "execution_count": 16,
   "metadata": {},
   "outputs": [
    {
     "name": "stdout",
     "output_type": "stream",
     "text": [
      "[('cron_job1', 1623925800.0, <memory at 0x0000024B8F49E7C0>), ('cron_job2', 1623942000.0, <memory at 0x0000024B8F49E880>), ('cron_job3', 1623972600.0, <memory at 0x0000024B8F49E940>), ('cron_job5', 1623978060.0, <memory at 0x0000024B8F49E4C0>), ('2021-06-17 21:10:00', 1623935400.0, <memory at 0x0000024B8F49E580>)]\n"
     ]
    }
   ],
   "source": [
    "conn = psycopg2.connect(DATABASE_URL, sslmode='require')\n",
    "cursor = conn.cursor()\n",
    "\n",
    "postgres_select_query = f\"\"\"SELECT * FROM apscheduler_jobs\"\"\"\n",
    "\n",
    "cursor.execute(postgres_select_query)\n",
    "# cursor.fetchone()\n",
    "# print(cursor.fetchmany(2))\n",
    "print(cursor.fetchall())\n",
    "cursor.close()\n",
    "conn.close()"
   ]
  },
  {
   "cell_type": "markdown",
   "metadata": {},
   "source": [
    "# search data"
   ]
  },
  {
   "cell_type": "code",
   "execution_count": 6,
   "metadata": {},
   "outputs": [
    {
     "name": "stdout",
     "output_type": "stream",
     "text": [
      "[(2, '威廉', '咬合訓練', datetime.timedelta(seconds=3600), datetime.date(2019, 9, 24))]\n"
     ]
    }
   ],
   "source": [
    "conn = psycopg2.connect(DATABASE_URL, sslmode='require')\n",
    "cursor = conn.cursor()\n",
    "\n",
    "training = '咬合訓練'\n",
    "postgres_select_query = f\"\"\"SELECT * FROM alpaca_training WHERE training = %s\"\"\"\n",
    "\n",
    "cursor.execute(postgres_select_query, (training,))\n",
    "print(cursor.fetchall())"
   ]
  },
  {
   "cell_type": "markdown",
   "metadata": {},
   "source": [
    "# update data"
   ]
  },
  {
   "cell_type": "code",
   "execution_count": 7,
   "metadata": {},
   "outputs": [
    {
     "name": "stdout",
     "output_type": "stream",
     "text": [
      "1 Record updated successfully into alpaca_training\n"
     ]
    }
   ],
   "source": [
    " conn = psycopg2.connect(DATABASE_URL, sslmode='require')\n",
    " cursor = conn.cursor()\n",
    "\n",
    " training = '牧草訓練'\n",
    " postgres_update_query = f\"\"\"UPDATE alpaca_training SET training = '牧草進食' WHERE training = %s\"\"\"\n",
    "\n",
    " cursor.execute(postgres_update_query, (training,))\n",
    " conn.commit()\n",
    "\n",
    " count = cursor.rowcount\n",
    "\n",
    " print(count, \"Record updated successfully into alpaca_training\")"
   ]
  },
  {
   "cell_type": "markdown",
   "metadata": {},
   "source": [
    "# delete data"
   ]
  },
  {
   "cell_type": "code",
   "execution_count": 8,
   "metadata": {},
   "outputs": [
    {
     "name": "stdout",
     "output_type": "stream",
     "text": [
      "1 Record delete successfully into alpaca_training\n"
     ]
    }
   ],
   "source": [
    "conn = psycopg2.connect(DATABASE_URL, sslmode='require')\n",
    "cursor = conn.cursor()\n",
    "\n",
    "training = '牧草訓練'\n",
    "postgres_delete_query = f\"\"\"DELETE FROM alpaca_training WHERE record_no = 2\"\"\"\n",
    "\n",
    "cursor.execute(postgres_delete_query)\n",
    "conn.commit()\n",
    "count = cursor.rowcount\n",
    "\n",
    "print(count, \"Record delete successfully into alpaca_training\")"
   ]
  },
  {
   "cell_type": "markdown",
   "metadata": {},
   "source": [
    "# delete database"
   ]
  },
  {
   "cell_type": "code",
   "execution_count": 9,
   "metadata": {},
   "outputs": [],
   "source": [
    "DATABASE_URL = os.popen('heroku config:get DATABASE_URL -a dennis89linebot').read()[:-1]\n",
    "\n",
    "conn = psycopg2.connect(DATABASE_URL, sslmode='require')\n",
    "cursor = conn.cursor()\n",
    "\n",
    "delete_table_query = '''DROP TABLE IF EXISTS alpaca_training'''\n",
    "\n",
    "cursor.execute(delete_table_query)\n",
    "conn.commit()\n",
    "cursor.close()\n",
    "conn.close()"
   ]
  },
  {
   "cell_type": "code",
   "execution_count": null,
   "metadata": {},
   "outputs": [],
   "source": []
  }
 ],
 "metadata": {
  "kernelspec": {
   "display_name": "Python 3",
   "language": "python",
   "name": "python3"
  },
  "language_info": {
   "codemirror_mode": {
    "name": "ipython",
    "version": 3
   },
   "file_extension": ".py",
   "mimetype": "text/x-python",
   "name": "python",
   "nbconvert_exporter": "python",
   "pygments_lexer": "ipython3",
   "version": "3.8.5"
  }
 },
 "nbformat": 4,
 "nbformat_minor": 4
}
