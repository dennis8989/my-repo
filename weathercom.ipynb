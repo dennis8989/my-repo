{
 "cells": [
  {
   "cell_type": "code",
   "execution_count": 137,
   "metadata": {},
   "outputs": [],
   "source": [
    "import json\n",
    "import weathercom\n",
    "import requests\n",
    "from bs4 import BeautifulSoup\n",
    "\n",
    "from googleapiclient.discovery import build\n",
    "from google_auth_oauthlib.flow import InstalledAppFlow\n",
    "from google.auth.transport.requests import Request\n",
    "from google.oauth2.credentials import Credentials\n",
    "import gspread\n",
    "from oauth2client.service_account import ServiceAccountCredentials"
   ]
  },
  {
   "cell_type": "code",
   "execution_count": 142,
   "metadata": {},
   "outputs": [],
   "source": [
    "\n",
    "import bitlyshortener\n",
    "tokens_pool = ['533974390e18ead340d15f7845ab032349f16e10','d30faf515a949e8347e9158a22bf490d3f334cf5']  # Use your own.\n",
    "shortener = bitlyshortener.Shortener(tokens=tokens_pool, max_cache_size=256)"
   ]
  },
  {
   "cell_type": "code",
   "execution_count": 143,
   "metadata": {},
   "outputs": [],
   "source": [
    "def save_to_gs():\n",
    "        # --------------authorize google sheet---------------------\n",
    "    scopes = [\"https://spreadsheets.google.com/feeds\"]\n",
    "    credentials = ServiceAccountCredentials.from_json_keyfile_name(\"credentials_gs.json\", scopes)\n",
    "    gc = gspread.authorize(credentials)\n",
    "#     sh = gc.open_by_key(\"1590Pln7GfV3vvcvvsRNLbMHJzM78Bmtnh9mvTpXBVi4\")#juhao\n",
    "#     sh = gc.open_by_key(\"1LMoh8cbY2-KdP40Z98DYGWs6r5Dd0aDJWSgxo2f6AII\")#english word\n",
    "    sh = gc.open_by_key(\"1VqJPzS8pA89MmzdqkYMyrROxQlNfdrtLH-XV2vNU-CU\")#weather\n",
    "    Sheet1 = sh.worksheet(\"weathercom\")\n",
    "    return Sheet1"
   ]
  },
  {
   "cell_type": "code",
   "execution_count": 147,
   "metadata": {},
   "outputs": [],
   "source": [
    "def get_url(area):\n",
    "    weatherDetails = weathercom.getCityWeatherDetails(area)\n",
    "    res = json.loads(weatherDetails)\n",
    "    citycode = res['weather.comCityCode']\n",
    "    url = 'https://weather.com/zh-TW/weather/today/l/' + citycode\n",
    "    print(url)\n",
    "    # result = requests.get('https://opendata.cwb.gov.tw/api/v1/rest/datastore/F-C0032-001?Authorization=CWB-5B414EA1-34DB-4168-8B56-7EBFE0BBACCF')\n",
    "    result = requests.get(url)\n",
    "    soup = BeautifulSoup(result.text,'html.parser')\n",
    "    long_urls = [url]\n",
    "    url_short = shortener.shorten_urls(long_urls)\n",
    "    print(url_short)\n",
    "    return soup\n",
    "    # print(soup.prettify())"
   ]
  },
  {
   "cell_type": "markdown",
   "metadata": {},
   "source": [
    "# search title"
   ]
  },
  {
   "cell_type": "code",
   "execution_count": 145,
   "metadata": {
    "tags": []
   },
   "outputs": [],
   "source": [
    "def filter_data(soup):\n",
    "    data = []\n",
    "    data_1 = []\n",
    "    data.append(soup.select(\"title\")[0].get_text().split('—')[0]) #title\n",
    "    data.append(soup.select(\".SunriseSunset--dateValue--2nwgx\")[0].get_text())#sun rise\n",
    "    data.append(soup.select(\".SunriseSunset--dateValue--2nwgx\")[1].get_text())#sunset\n",
    "    data.append(soup.select('[data-testid=\"wxPhrase\"]')[0].get_text()) #current status\n",
    "    data.append(soup.select('[data-testid=\"UVIndexValue\"]')[0].get_text()) #紫外綫指數\n",
    "    data.append(soup.select('[data-testid=\"VisibilityValue\"]')[0].get_text()) #能見度\n",
    "    data.append(soup.select('[data-testid=\"PercentageValue\"]')[0].get_text()) #濕度\n",
    "    data.append(soup.select('[data-testid=\"TemperatureValue\"]')[0].get_text()) #露點\n",
    "    data.append(soup.select('[data-testid=\"wxData\"]')[1].get_text()[14:]) #風向\n",
    "    data.append(soup.select('[data-testid=\"wxData\"]')[-1].get_text()) #moon\n",
    "    data.append(soup.select('[data-testid=\"Description\"]')[0].get_text()) #flower\n",
    "    data.append(soup.select('[data-testid=\"DonutChartValue\"]')[0].get_text()) #AQI\n",
    "    data.append(soup.select('[data-testid=\"AirQualityCategory\"]')[0].get_text()) #AQI level\n",
    "\n",
    "    for i in soup.select(\".Column--column--2bRa6\"):\n",
    "        data.append(i.select(\".Ellipsis--ellipsis--lfjoB\")[0].get_text())#time\n",
    "        data.append(i.select('[data-testid=\"TemperatureValue\"]')[0].get_text()) #temp\n",
    "        try:\n",
    "            data.append(i.select('[data-testid=\"TemperatureValue\"]')[1].get_text()) #temp2\n",
    "        except:\n",
    "            pass\n",
    "        data.append(i.select('title')[0].get_text()) #status\n",
    "        data.append(i.select(\".Column--precip--2H5Iw\")[0].get_text()[8:]) #rain\n",
    "        data.append('')\n",
    "\n",
    "    sheet1 = save_to_gs()\n",
    "    data_all=[data]\n",
    "    sheet1.update('A1', data_all)\n",
    "    return data_all"
   ]
  },
  {
   "cell_type": "code",
   "execution_count": 148,
   "metadata": {
    "collapsed": true,
    "jupyter": {
     "outputs_hidden": true
    },
    "tags": []
   },
   "outputs": [
    {
     "name": "stdout",
     "output_type": "stream",
     "text": [
      "https://weather.com/zh-TW/weather/today/l/2e42c7eb8925daeec6059f12994f1a8c0cb3c49d5948965349e3c00f290dca4f\n",
      "['https://j.mp/2RlDlmz']\n",
      "聖荷西, CA, 美國天氣預報和天氣狀況\n",
      "05:59\n",
      "20:08\n",
      "多雲\n",
      "1 (最大值 10)\n",
      "無限制的\n",
      "83%\n",
      "11°\n",
      "14 km/h\n",
      "眉月\n",
      "您所在地區的青草花粉含量高\n",
      "32\n",
      "良好\n",
      "午前\n",
      "15°\n",
      "Partly Cloudy\n",
      "1%\n",
      "\n",
      "午後\n",
      "23°\n",
      "Mostly Sunny\n",
      "\n",
      "\n",
      "傍晚\n",
      "14°\n",
      "Partly Cloudy Night\n",
      "8%\n",
      "\n",
      "徹夜\n",
      "11°\n",
      "Cloudy\n",
      "16%\n",
      "\n",
      "現在\n",
      "11°\n",
      "Cloudy\n",
      "1%\n",
      "\n",
      "09:00\n",
      "13°\n",
      "Partly Cloudy\n",
      "1%\n",
      "\n",
      "10:00\n",
      "15°\n",
      "Partly Cloudy\n",
      "1%\n",
      "\n",
      "11:00\n",
      "18°\n",
      "Partly Cloudy\n",
      "\n",
      "\n",
      "12:00\n",
      "21°\n",
      "Partly Cloudy\n",
      "\n",
      "\n",
      "今天\n",
      "25°\n",
      "10°\n",
      "Partly Cloudy\n",
      "2%\n",
      "\n",
      "週六 15\n",
      "21°\n",
      "11°\n",
      "Partly Cloudy\n",
      "14%\n",
      "\n",
      "週日 16\n",
      "23°\n",
      "11°\n",
      "Partly Cloudy\n",
      "7%\n",
      "\n",
      "週一 17\n",
      "23°\n",
      "10°\n",
      "Partly Cloudy\n",
      "7%\n",
      "\n",
      "週二 18\n",
      "23°\n",
      "10°\n",
      "Mostly Sunny\n",
      "6%\n",
      "\n"
     ]
    }
   ],
   "source": [
    "def main(area):\n",
    "    soup = get_url(area)\n",
    "    data_all = filter_data(soup)\n",
    "    for i in data_all[0]:\n",
    "        print(i)\n",
    "    \n",
    "main('san jose')\n"
   ]
  },
  {
   "cell_type": "markdown",
   "metadata": {},
   "source": [
    "# 获得所有href"
   ]
  },
  {
   "cell_type": "code",
   "execution_count": 83,
   "metadata": {
    "tags": []
   },
   "outputs": [
    {
     "data": {
      "text/plain": [
       "'殘月'"
      ]
     },
     "execution_count": 83,
     "metadata": {},
     "output_type": "execute_result"
    }
   ],
   "source": [
    "soup.select('[data-testid=\"wxData\"]')[-1].get_text() #moon"
   ]
  },
  {
   "cell_type": "code",
   "execution_count": 84,
   "metadata": {},
   "outputs": [
    {
     "data": {
      "text/plain": [
       "'大部多雲'"
      ]
     },
     "execution_count": 84,
     "metadata": {},
     "output_type": "execute_result"
    }
   ],
   "source": [
    "soup.select(\".CurrentConditions--phraseValue--2xXSr\")[0].get_text()"
   ]
  },
  {
   "cell_type": "code",
   "execution_count": 90,
   "metadata": {},
   "outputs": [
    {
     "data": {
      "text/plain": [
       "'您所在地區的青草花粉含量低'"
      ]
     },
     "execution_count": 90,
     "metadata": {},
     "output_type": "execute_result"
    }
   ],
   "source": [
    "soup.select('[data-testid=\"Description\"]')[0].get_text() #flower"
   ]
  },
  {
   "cell_type": "code",
   "execution_count": 90,
   "metadata": {},
   "outputs": [
    {
     "data": {
      "text/plain": [
       "'您所在地區的青草花粉含量低'"
      ]
     },
     "execution_count": 90,
     "metadata": {},
     "output_type": "execute_result"
    }
   ],
   "source": [
    "soup.select('[data-testid=\"Description\"]')[0].get_text() #flower"
   ]
  }
 ],
 "metadata": {
  "kernelspec": {
   "display_name": "Python 3",
   "language": "python",
   "name": "python3"
  },
  "language_info": {
   "codemirror_mode": {
    "name": "ipython",
    "version": 3
   },
   "file_extension": ".py",
   "mimetype": "text/x-python",
   "name": "python",
   "nbconvert_exporter": "python",
   "pygments_lexer": "ipython3",
   "version": "3.8.5"
  }
 },
 "nbformat": 4,
 "nbformat_minor": 4
}
