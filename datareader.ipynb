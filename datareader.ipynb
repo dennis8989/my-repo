{
 "cells": [
  {
   "cell_type": "markdown",
   "metadata": {},
   "source": [
    "# http://mrjbq7.github.io/ta-lib/doc_index.html"
   ]
  },
  {
   "cell_type": "code",
   "execution_count": 2,
   "metadata": {},
   "outputs": [],
   "source": [
    "# basic\n",
    "import numpy as np\n",
    "import pandas as pd\n",
    "\n",
    "# get data\n",
    "import pandas_datareader as pdr\n",
    "\n",
    "# visual\n",
    "import matplotlib.pyplot as plt\n",
    "%matplotlib inline\n",
    "import seaborn as sns\n",
    "# import mpl_finance as mpf\n",
    "\n",
    "#time\n",
    "import datetime as datetime\n",
    "\n",
    "#talib\n",
    "import talib\n",
    "from talib import abstract"
   ]
  },
  {
   "cell_type": "code",
   "execution_count": 3,
   "metadata": {},
   "outputs": [
    {
     "ename": "RemoteDataError",
     "evalue": "No data fetched for symbol 6130.TW using YahooDailyReader",
     "output_type": "error",
     "traceback": [
      "\u001b[1;31m---------------------------------------------------------------------------\u001b[0m",
      "\u001b[1;31mKeyError\u001b[0m                                  Traceback (most recent call last)",
      "\u001b[1;32m~\\anaconda3\\lib\\site-packages\\pandas_datareader\\yahoo\\daily.py\u001b[0m in \u001b[0;36m_read_one_data\u001b[1;34m(self, url, params)\u001b[0m\n\u001b[0;32m    156\u001b[0m             \u001b[0mj\u001b[0m \u001b[1;33m=\u001b[0m \u001b[0mjson\u001b[0m\u001b[1;33m.\u001b[0m\u001b[0mloads\u001b[0m\u001b[1;33m(\u001b[0m\u001b[0mre\u001b[0m\u001b[1;33m.\u001b[0m\u001b[0msearch\u001b[0m\u001b[1;33m(\u001b[0m\u001b[0mptrn\u001b[0m\u001b[1;33m,\u001b[0m \u001b[0mresp\u001b[0m\u001b[1;33m.\u001b[0m\u001b[0mtext\u001b[0m\u001b[1;33m,\u001b[0m \u001b[0mre\u001b[0m\u001b[1;33m.\u001b[0m\u001b[0mDOTALL\u001b[0m\u001b[1;33m)\u001b[0m\u001b[1;33m.\u001b[0m\u001b[0mgroup\u001b[0m\u001b[1;33m(\u001b[0m\u001b[1;36m1\u001b[0m\u001b[1;33m)\u001b[0m\u001b[1;33m)\u001b[0m\u001b[1;33m\u001b[0m\u001b[1;33m\u001b[0m\u001b[0m\n\u001b[1;32m--> 157\u001b[1;33m             \u001b[0mdata\u001b[0m \u001b[1;33m=\u001b[0m \u001b[0mj\u001b[0m\u001b[1;33m[\u001b[0m\u001b[1;34m\"context\"\u001b[0m\u001b[1;33m]\u001b[0m\u001b[1;33m[\u001b[0m\u001b[1;34m\"dispatcher\"\u001b[0m\u001b[1;33m]\u001b[0m\u001b[1;33m[\u001b[0m\u001b[1;34m\"stores\"\u001b[0m\u001b[1;33m]\u001b[0m\u001b[1;33m[\u001b[0m\u001b[1;34m\"HistoricalPriceStore\"\u001b[0m\u001b[1;33m]\u001b[0m\u001b[1;33m\u001b[0m\u001b[1;33m\u001b[0m\u001b[0m\n\u001b[0m\u001b[0;32m    158\u001b[0m         \u001b[1;32mexcept\u001b[0m \u001b[0mKeyError\u001b[0m\u001b[1;33m:\u001b[0m\u001b[1;33m\u001b[0m\u001b[1;33m\u001b[0m\u001b[0m\n",
      "\u001b[1;31mKeyError\u001b[0m: 'HistoricalPriceStore'",
      "\nDuring handling of the above exception, another exception occurred:\n",
      "\u001b[1;31mRemoteDataError\u001b[0m                           Traceback (most recent call last)",
      "\u001b[1;32m<ipython-input-3-4ed380332a8b>\u001b[0m in \u001b[0;36m<module>\u001b[1;34m\u001b[0m\n\u001b[0;32m      1\u001b[0m \u001b[0mstart\u001b[0m \u001b[1;33m=\u001b[0m \u001b[0mdatetime\u001b[0m\u001b[1;33m.\u001b[0m\u001b[0mdatetime\u001b[0m\u001b[1;33m(\u001b[0m\u001b[1;36m2020\u001b[0m\u001b[1;33m,\u001b[0m\u001b[1;36m1\u001b[0m\u001b[1;33m,\u001b[0m\u001b[1;36m5\u001b[0m\u001b[1;33m)\u001b[0m\u001b[1;33m\u001b[0m\u001b[1;33m\u001b[0m\u001b[0m\n\u001b[0;32m      2\u001b[0m \u001b[0mdf_2330\u001b[0m \u001b[1;33m=\u001b[0m \u001b[0mpdr\u001b[0m\u001b[1;33m.\u001b[0m\u001b[0mDataReader\u001b[0m\u001b[1;33m(\u001b[0m\u001b[1;34m'2330.TW'\u001b[0m\u001b[1;33m,\u001b[0m \u001b[1;34m'yahoo'\u001b[0m\u001b[1;33m,\u001b[0m \u001b[0mstart\u001b[0m\u001b[1;33m=\u001b[0m\u001b[0mstart\u001b[0m\u001b[1;33m)\u001b[0m\u001b[1;33m\u001b[0m\u001b[1;33m\u001b[0m\u001b[0m\n\u001b[1;32m----> 3\u001b[1;33m \u001b[0mdf_2492\u001b[0m \u001b[1;33m=\u001b[0m \u001b[0mpdr\u001b[0m\u001b[1;33m.\u001b[0m\u001b[0mDataReader\u001b[0m\u001b[1;33m(\u001b[0m\u001b[1;34m'6130.TW'\u001b[0m\u001b[1;33m,\u001b[0m \u001b[1;34m'yahoo'\u001b[0m\u001b[1;33m,\u001b[0m \u001b[0mstart\u001b[0m\u001b[1;33m=\u001b[0m\u001b[0mstart\u001b[0m\u001b[1;33m)\u001b[0m\u001b[1;33m\u001b[0m\u001b[1;33m\u001b[0m\u001b[0m\n\u001b[0m",
      "\u001b[1;32m~\\AppData\\Roaming\\Python\\Python38\\site-packages\\pandas\\util\\_decorators.py\u001b[0m in \u001b[0;36mwrapper\u001b[1;34m(*args, **kwargs)\u001b[0m\n\u001b[0;32m    197\u001b[0m                 \u001b[1;32melse\u001b[0m\u001b[1;33m:\u001b[0m\u001b[1;33m\u001b[0m\u001b[1;33m\u001b[0m\u001b[0m\n\u001b[0;32m    198\u001b[0m                     \u001b[0mkwargs\u001b[0m\u001b[1;33m[\u001b[0m\u001b[0mnew_arg_name\u001b[0m\u001b[1;33m]\u001b[0m \u001b[1;33m=\u001b[0m \u001b[0mnew_arg_value\u001b[0m\u001b[1;33m\u001b[0m\u001b[1;33m\u001b[0m\u001b[0m\n\u001b[1;32m--> 199\u001b[1;33m             \u001b[1;32mreturn\u001b[0m \u001b[0mfunc\u001b[0m\u001b[1;33m(\u001b[0m\u001b[1;33m*\u001b[0m\u001b[0margs\u001b[0m\u001b[1;33m,\u001b[0m \u001b[1;33m**\u001b[0m\u001b[0mkwargs\u001b[0m\u001b[1;33m)\u001b[0m\u001b[1;33m\u001b[0m\u001b[1;33m\u001b[0m\u001b[0m\n\u001b[0m\u001b[0;32m    200\u001b[0m \u001b[1;33m\u001b[0m\u001b[0m\n\u001b[0;32m    201\u001b[0m         \u001b[1;32mreturn\u001b[0m \u001b[0mcast\u001b[0m\u001b[1;33m(\u001b[0m\u001b[0mF\u001b[0m\u001b[1;33m,\u001b[0m \u001b[0mwrapper\u001b[0m\u001b[1;33m)\u001b[0m\u001b[1;33m\u001b[0m\u001b[1;33m\u001b[0m\u001b[0m\n",
      "\u001b[1;32m~\\anaconda3\\lib\\site-packages\\pandas_datareader\\data.py\u001b[0m in \u001b[0;36mDataReader\u001b[1;34m(name, data_source, start, end, retry_count, pause, session, api_key)\u001b[0m\n\u001b[0;32m    374\u001b[0m \u001b[1;33m\u001b[0m\u001b[0m\n\u001b[0;32m    375\u001b[0m     \u001b[1;32mif\u001b[0m \u001b[0mdata_source\u001b[0m \u001b[1;33m==\u001b[0m \u001b[1;34m\"yahoo\"\u001b[0m\u001b[1;33m:\u001b[0m\u001b[1;33m\u001b[0m\u001b[1;33m\u001b[0m\u001b[0m\n\u001b[1;32m--> 376\u001b[1;33m         return YahooDailyReader(\n\u001b[0m\u001b[0;32m    377\u001b[0m             \u001b[0msymbols\u001b[0m\u001b[1;33m=\u001b[0m\u001b[0mname\u001b[0m\u001b[1;33m,\u001b[0m\u001b[1;33m\u001b[0m\u001b[1;33m\u001b[0m\u001b[0m\n\u001b[0;32m    378\u001b[0m             \u001b[0mstart\u001b[0m\u001b[1;33m=\u001b[0m\u001b[0mstart\u001b[0m\u001b[1;33m,\u001b[0m\u001b[1;33m\u001b[0m\u001b[1;33m\u001b[0m\u001b[0m\n",
      "\u001b[1;32m~\\anaconda3\\lib\\site-packages\\pandas_datareader\\base.py\u001b[0m in \u001b[0;36mread\u001b[1;34m(self)\u001b[0m\n\u001b[0;32m    251\u001b[0m         \u001b[1;31m# If a single symbol, (e.g., 'GOOG')\u001b[0m\u001b[1;33m\u001b[0m\u001b[1;33m\u001b[0m\u001b[1;33m\u001b[0m\u001b[0m\n\u001b[0;32m    252\u001b[0m         \u001b[1;32mif\u001b[0m \u001b[0misinstance\u001b[0m\u001b[1;33m(\u001b[0m\u001b[0mself\u001b[0m\u001b[1;33m.\u001b[0m\u001b[0msymbols\u001b[0m\u001b[1;33m,\u001b[0m \u001b[1;33m(\u001b[0m\u001b[0mstring_types\u001b[0m\u001b[1;33m,\u001b[0m \u001b[0mint\u001b[0m\u001b[1;33m)\u001b[0m\u001b[1;33m)\u001b[0m\u001b[1;33m:\u001b[0m\u001b[1;33m\u001b[0m\u001b[1;33m\u001b[0m\u001b[0m\n\u001b[1;32m--> 253\u001b[1;33m             \u001b[0mdf\u001b[0m \u001b[1;33m=\u001b[0m \u001b[0mself\u001b[0m\u001b[1;33m.\u001b[0m\u001b[0m_read_one_data\u001b[0m\u001b[1;33m(\u001b[0m\u001b[0mself\u001b[0m\u001b[1;33m.\u001b[0m\u001b[0murl\u001b[0m\u001b[1;33m,\u001b[0m \u001b[0mparams\u001b[0m\u001b[1;33m=\u001b[0m\u001b[0mself\u001b[0m\u001b[1;33m.\u001b[0m\u001b[0m_get_params\u001b[0m\u001b[1;33m(\u001b[0m\u001b[0mself\u001b[0m\u001b[1;33m.\u001b[0m\u001b[0msymbols\u001b[0m\u001b[1;33m)\u001b[0m\u001b[1;33m)\u001b[0m\u001b[1;33m\u001b[0m\u001b[1;33m\u001b[0m\u001b[0m\n\u001b[0m\u001b[0;32m    254\u001b[0m         \u001b[1;31m# Or multiple symbols, (e.g., ['GOOG', 'AAPL', 'MSFT'])\u001b[0m\u001b[1;33m\u001b[0m\u001b[1;33m\u001b[0m\u001b[1;33m\u001b[0m\u001b[0m\n\u001b[0;32m    255\u001b[0m         \u001b[1;32melif\u001b[0m \u001b[0misinstance\u001b[0m\u001b[1;33m(\u001b[0m\u001b[0mself\u001b[0m\u001b[1;33m.\u001b[0m\u001b[0msymbols\u001b[0m\u001b[1;33m,\u001b[0m \u001b[0mDataFrame\u001b[0m\u001b[1;33m)\u001b[0m\u001b[1;33m:\u001b[0m\u001b[1;33m\u001b[0m\u001b[1;33m\u001b[0m\u001b[0m\n",
      "\u001b[1;32m~\\anaconda3\\lib\\site-packages\\pandas_datareader\\yahoo\\daily.py\u001b[0m in \u001b[0;36m_read_one_data\u001b[1;34m(self, url, params)\u001b[0m\n\u001b[0;32m    158\u001b[0m         \u001b[1;32mexcept\u001b[0m \u001b[0mKeyError\u001b[0m\u001b[1;33m:\u001b[0m\u001b[1;33m\u001b[0m\u001b[1;33m\u001b[0m\u001b[0m\n\u001b[0;32m    159\u001b[0m             \u001b[0mmsg\u001b[0m \u001b[1;33m=\u001b[0m \u001b[1;34m\"No data fetched for symbol {} using {}\"\u001b[0m\u001b[1;33m\u001b[0m\u001b[1;33m\u001b[0m\u001b[0m\n\u001b[1;32m--> 160\u001b[1;33m             \u001b[1;32mraise\u001b[0m \u001b[0mRemoteDataError\u001b[0m\u001b[1;33m(\u001b[0m\u001b[0mmsg\u001b[0m\u001b[1;33m.\u001b[0m\u001b[0mformat\u001b[0m\u001b[1;33m(\u001b[0m\u001b[0msymbol\u001b[0m\u001b[1;33m,\u001b[0m \u001b[0mself\u001b[0m\u001b[1;33m.\u001b[0m\u001b[0m__class__\u001b[0m\u001b[1;33m.\u001b[0m\u001b[0m__name__\u001b[0m\u001b[1;33m)\u001b[0m\u001b[1;33m)\u001b[0m\u001b[1;33m\u001b[0m\u001b[1;33m\u001b[0m\u001b[0m\n\u001b[0m\u001b[0;32m    161\u001b[0m \u001b[1;33m\u001b[0m\u001b[0m\n\u001b[0;32m    162\u001b[0m         \u001b[1;31m# price data\u001b[0m\u001b[1;33m\u001b[0m\u001b[1;33m\u001b[0m\u001b[1;33m\u001b[0m\u001b[0m\n",
      "\u001b[1;31mRemoteDataError\u001b[0m: No data fetched for symbol 6130.TW using YahooDailyReader"
     ]
    }
   ],
   "source": [
    "start = datetime.datetime(2020,1,5)\n",
    "df_2330 = pdr.DataReader('2330.TW', 'yahoo', start=start)\n",
    "df_2492 = pdr.DataReader('6130.TW', 'yahoo', start=start)"
   ]
  },
  {
   "cell_type": "code",
   "execution_count": 64,
   "metadata": {
    "tags": []
   },
   "outputs": [
    {
     "data": {
      "text/html": [
       "<div>\n",
       "<style scoped>\n",
       "    .dataframe tbody tr th:only-of-type {\n",
       "        vertical-align: middle;\n",
       "    }\n",
       "\n",
       "    .dataframe tbody tr th {\n",
       "        vertical-align: top;\n",
       "    }\n",
       "\n",
       "    .dataframe thead th {\n",
       "        text-align: right;\n",
       "    }\n",
       "</style>\n",
       "<table border=\"1\" class=\"dataframe\">\n",
       "  <thead>\n",
       "    <tr style=\"text-align: right;\">\n",
       "      <th></th>\n",
       "      <th>high</th>\n",
       "      <th>low</th>\n",
       "      <th>open</th>\n",
       "      <th>close</th>\n",
       "      <th>volume</th>\n",
       "      <th>Adj Close</th>\n",
       "    </tr>\n",
       "    <tr>\n",
       "      <th>Date</th>\n",
       "      <th></th>\n",
       "      <th></th>\n",
       "      <th></th>\n",
       "      <th></th>\n",
       "      <th></th>\n",
       "      <th></th>\n",
       "    </tr>\n",
       "  </thead>\n",
       "  <tbody>\n",
       "    <tr>\n",
       "      <th>2020-01-06</th>\n",
       "      <td>334.5</td>\n",
       "      <td>332.0</td>\n",
       "      <td>333.0</td>\n",
       "      <td>332.0</td>\n",
       "      <td>45343057.0</td>\n",
       "      <td>321.516846</td>\n",
       "    </tr>\n",
       "    <tr>\n",
       "      <th>2020-01-07</th>\n",
       "      <td>333.0</td>\n",
       "      <td>326.5</td>\n",
       "      <td>332.5</td>\n",
       "      <td>329.5</td>\n",
       "      <td>50879181.0</td>\n",
       "      <td>319.095795</td>\n",
       "    </tr>\n",
       "    <tr>\n",
       "      <th>2020-01-08</th>\n",
       "      <td>333.0</td>\n",
       "      <td>325.0</td>\n",
       "      <td>325.0</td>\n",
       "      <td>329.5</td>\n",
       "      <td>37567748.0</td>\n",
       "      <td>319.095795</td>\n",
       "    </tr>\n",
       "    <tr>\n",
       "      <th>2020-01-09</th>\n",
       "      <td>337.5</td>\n",
       "      <td>333.5</td>\n",
       "      <td>335.0</td>\n",
       "      <td>337.5</td>\n",
       "      <td>31481504.0</td>\n",
       "      <td>326.843170</td>\n",
       "    </tr>\n",
       "    <tr>\n",
       "      <th>2020-01-10</th>\n",
       "      <td>341.0</td>\n",
       "      <td>336.0</td>\n",
       "      <td>340.5</td>\n",
       "      <td>339.5</td>\n",
       "      <td>27032115.0</td>\n",
       "      <td>328.780060</td>\n",
       "    </tr>\n",
       "    <tr>\n",
       "      <th>...</th>\n",
       "      <td>...</td>\n",
       "      <td>...</td>\n",
       "      <td>...</td>\n",
       "      <td>...</td>\n",
       "      <td>...</td>\n",
       "      <td>...</td>\n",
       "    </tr>\n",
       "    <tr>\n",
       "      <th>2021-05-19</th>\n",
       "      <td>572.0</td>\n",
       "      <td>565.0</td>\n",
       "      <td>571.0</td>\n",
       "      <td>567.0</td>\n",
       "      <td>28908777.0</td>\n",
       "      <td>567.000000</td>\n",
       "    </tr>\n",
       "    <tr>\n",
       "      <th>2021-05-20</th>\n",
       "      <td>571.0</td>\n",
       "      <td>560.0</td>\n",
       "      <td>567.0</td>\n",
       "      <td>567.0</td>\n",
       "      <td>29709287.0</td>\n",
       "      <td>567.000000</td>\n",
       "    </tr>\n",
       "    <tr>\n",
       "      <th>2021-05-21</th>\n",
       "      <td>577.0</td>\n",
       "      <td>568.0</td>\n",
       "      <td>572.0</td>\n",
       "      <td>573.0</td>\n",
       "      <td>27376731.0</td>\n",
       "      <td>573.000000</td>\n",
       "    </tr>\n",
       "    <tr>\n",
       "      <th>2021-05-24</th>\n",
       "      <td>572.0</td>\n",
       "      <td>566.0</td>\n",
       "      <td>570.0</td>\n",
       "      <td>568.0</td>\n",
       "      <td>15629736.0</td>\n",
       "      <td>568.000000</td>\n",
       "    </tr>\n",
       "    <tr>\n",
       "      <th>2021-05-25</th>\n",
       "      <td>584.0</td>\n",
       "      <td>573.0</td>\n",
       "      <td>576.0</td>\n",
       "      <td>583.0</td>\n",
       "      <td>33761275.0</td>\n",
       "      <td>583.000000</td>\n",
       "    </tr>\n",
       "  </tbody>\n",
       "</table>\n",
       "<p>333 rows × 6 columns</p>\n",
       "</div>"
      ],
      "text/plain": [
       "             high    low   open  close      volume   Adj Close\n",
       "Date                                                          \n",
       "2020-01-06  334.5  332.0  333.0  332.0  45343057.0  321.516846\n",
       "2020-01-07  333.0  326.5  332.5  329.5  50879181.0  319.095795\n",
       "2020-01-08  333.0  325.0  325.0  329.5  37567748.0  319.095795\n",
       "2020-01-09  337.5  333.5  335.0  337.5  31481504.0  326.843170\n",
       "2020-01-10  341.0  336.0  340.5  339.5  27032115.0  328.780060\n",
       "...           ...    ...    ...    ...         ...         ...\n",
       "2021-05-19  572.0  565.0  571.0  567.0  28908777.0  567.000000\n",
       "2021-05-20  571.0  560.0  567.0  567.0  29709287.0  567.000000\n",
       "2021-05-21  577.0  568.0  572.0  573.0  27376731.0  573.000000\n",
       "2021-05-24  572.0  566.0  570.0  568.0  15629736.0  568.000000\n",
       "2021-05-25  584.0  573.0  576.0  583.0  33761275.0  583.000000\n",
       "\n",
       "[333 rows x 6 columns]"
      ]
     },
     "execution_count": 64,
     "metadata": {},
     "output_type": "execute_result"
    }
   ],
   "source": [
    "df=df_2330\n",
    "\n",
    "df.columns = ['high', 'low', 'open', 'close', 'volume', 'Adj Close']\n",
    "df"
   ]
  },
  {
   "cell_type": "code",
   "execution_count": 111,
   "metadata": {
    "tags": []
   },
   "outputs": [
    {
     "data": {
      "text/plain": [
       "<AxesSubplot:xlabel='Date'>"
      ]
     },
     "execution_count": 111,
     "metadata": {},
     "output_type": "execute_result"
    },
    {
     "data": {
      "image/png": "[encoded data removed]",
      "text/plain": [
       "<Figure size 432x288 with 1 Axes>"
      ]
     },
     "metadata": {
      "needs_background": "light"
     },
     "output_type": "display_data"
    }
   ],
   "source": [
    "# fig = plt.figure()\n",
    "df_2330['Adj Close'].plot(label=\"台積電\")\n",
    "df_2492['Adj Close'].plot(label=\"華新科\")\n",
    "# plt.savefig(\"2330.jpg\")\n",
    "# plt.legend()"
   ]
  },
  {
   "cell_type": "code",
   "execution_count": 8,
   "metadata": {
    "collapsed": true,
    "jupyter": {
     "outputs_hidden": true
    },
    "tags": []
   },
   "outputs": [
    {
     "data": {
      "image/png": "[encoded data removed]",
      "text/plain": [
       "<Figure size 720x72 with 1 Axes>"
      ]
     },
     "metadata": {
      "needs_background": "light"
     },
     "output_type": "display_data"
    }
   ],
   "source": [
    "sns.palplot(sns.color_palette())"
   ]
  },
  {
   "cell_type": "code",
   "execution_count": 6,
   "metadata": {},
   "outputs": [
    {
     "data": {
      "text/plain": [
       "<AxesSubplot:xlabel='Date'>"
      ]
     },
     "execution_count": 6,
     "metadata": {},
     "output_type": "execute_result"
    },
    {
     "data": {
      "image/png": "[encoded data removed]",
      "text/plain": [
       "<Figure size 432x288 with 1 Axes>"
      ]
     },
     "metadata": {
      "needs_background": "light"
     },
     "output_type": "display_data"
    }
   ],
   "source": [
    "df_2330['Volume'].plot(label=\"台積電\")\n",
    "df_2492['Volume'].plot(label=\"華新科\")\n",
    "# plt.legend()"
   ]
  },
  {
   "cell_type": "code",
   "execution_count": 9,
   "metadata": {},
   "outputs": [],
   "source": []
  },
  {
   "cell_type": "code",
   "execution_count": 10,
   "metadata": {},
   "outputs": [
    {
     "data": {
      "text/plain": [
       "158"
      ]
     },
     "execution_count": 10,
     "metadata": {},
     "output_type": "execute_result"
    }
   ],
   "source": [
    "# 透過『get_functions』語法，查看 TA-Lib 提供的所有技術指標的代碼\n",
    "all_ta_label = talib.get_functions()\n",
    "# 看一下清單\n",
    "all_ta_label\n",
    "# 共有 158 個技術指標可以運算\n",
    "len(all_ta_label)"
   ]
  },
  {
   "cell_type": "code",
   "execution_count": 11,
   "metadata": {
    "collapsed": true,
    "jupyter": {
     "outputs_hidden": true
    },
    "tags": []
   },
   "outputs": [
    {
     "data": {
      "text/plain": [
       "['HT_DCPERIOD',\n",
       " 'HT_DCPHASE',\n",
       " 'HT_PHASOR',\n",
       " 'HT_SINE',\n",
       " 'HT_TRENDMODE',\n",
       " 'ADD',\n",
       " 'DIV',\n",
       " 'MAX',\n",
       " 'MAXINDEX',\n",
       " 'MIN',\n",
       " 'MININDEX',\n",
       " 'MINMAX',\n",
       " 'MINMAXINDEX',\n",
       " 'MULT',\n",
       " 'SUB',\n",
       " 'SUM',\n",
       " 'ACOS',\n",
       " 'ASIN',\n",
       " 'ATAN',\n",
       " 'CEIL',\n",
       " 'COS',\n",
       " 'COSH',\n",
       " 'EXP',\n",
       " 'FLOOR',\n",
       " 'LN',\n",
       " 'LOG10',\n",
       " 'SIN',\n",
       " 'SINH',\n",
       " 'SQRT',\n",
       " 'TAN',\n",
       " 'TANH',\n",
       " 'ADX',\n",
       " 'ADXR',\n",
       " 'APO',\n",
       " 'AROON',\n",
       " 'AROONOSC',\n",
       " 'BOP',\n",
       " 'CCI',\n",
       " 'CMO',\n",
       " 'DX',\n",
       " 'MACD',\n",
       " 'MACDEXT',\n",
       " 'MACDFIX',\n",
       " 'MFI',\n",
       " 'MINUS_DI',\n",
       " 'MINUS_DM',\n",
       " 'MOM',\n",
       " 'PLUS_DI',\n",
       " 'PLUS_DM',\n",
       " 'PPO',\n",
       " 'ROC',\n",
       " 'ROCP',\n",
       " 'ROCR',\n",
       " 'ROCR100',\n",
       " 'RSI',\n",
       " 'STOCH',\n",
       " 'STOCHF',\n",
       " 'STOCHRSI',\n",
       " 'TRIX',\n",
       " 'ULTOSC',\n",
       " 'WILLR',\n",
       " 'BBANDS',\n",
       " 'DEMA',\n",
       " 'EMA',\n",
       " 'HT_TRENDLINE',\n",
       " 'KAMA',\n",
       " 'MA',\n",
       " 'MAMA',\n",
       " 'MAVP',\n",
       " 'MIDPOINT',\n",
       " 'MIDPRICE',\n",
       " 'SAR',\n",
       " 'SAREXT',\n",
       " 'SMA',\n",
       " 'T3',\n",
       " 'TEMA',\n",
       " 'TRIMA',\n",
       " 'WMA',\n",
       " 'CDL2CROWS',\n",
       " 'CDL3BLACKCROWS',\n",
       " 'CDL3INSIDE',\n",
       " 'CDL3LINESTRIKE',\n",
       " 'CDL3OUTSIDE',\n",
       " 'CDL3STARSINSOUTH',\n",
       " 'CDL3WHITESOLDIERS',\n",
       " 'CDLABANDONEDBABY',\n",
       " 'CDLADVANCEBLOCK',\n",
       " 'CDLBELTHOLD',\n",
       " 'CDLBREAKAWAY',\n",
       " 'CDLCLOSINGMARUBOZU',\n",
       " 'CDLCONCEALBABYSWALL',\n",
       " 'CDLCOUNTERATTACK',\n",
       " 'CDLDARKCLOUDCOVER',\n",
       " 'CDLDOJI',\n",
       " 'CDLDOJISTAR',\n",
       " 'CDLDRAGONFLYDOJI',\n",
       " 'CDLENGULFING',\n",
       " 'CDLEVENINGDOJISTAR',\n",
       " 'CDLEVENINGSTAR',\n",
       " 'CDLGAPSIDESIDEWHITE',\n",
       " 'CDLGRAVESTONEDOJI',\n",
       " 'CDLHAMMER',\n",
       " 'CDLHANGINGMAN',\n",
       " 'CDLHARAMI',\n",
       " 'CDLHARAMICROSS',\n",
       " 'CDLHIGHWAVE',\n",
       " 'CDLHIKKAKE',\n",
       " 'CDLHIKKAKEMOD',\n",
       " 'CDLHOMINGPIGEON',\n",
       " 'CDLIDENTICAL3CROWS',\n",
       " 'CDLINNECK',\n",
       " 'CDLINVERTEDHAMMER',\n",
       " 'CDLKICKING',\n",
       " 'CDLKICKINGBYLENGTH',\n",
       " 'CDLLADDERBOTTOM',\n",
       " 'CDLLONGLEGGEDDOJI',\n",
       " 'CDLLONGLINE',\n",
       " 'CDLMARUBOZU',\n",
       " 'CDLMATCHINGLOW',\n",
       " 'CDLMATHOLD',\n",
       " 'CDLMORNINGDOJISTAR',\n",
       " 'CDLMORNINGSTAR',\n",
       " 'CDLONNECK',\n",
       " 'CDLPIERCING',\n",
       " 'CDLRICKSHAWMAN',\n",
       " 'CDLRISEFALL3METHODS',\n",
       " 'CDLSEPARATINGLINES',\n",
       " 'CDLSHOOTINGSTAR',\n",
       " 'CDLSHORTLINE',\n",
       " 'CDLSPINNINGTOP',\n",
       " 'CDLSTALLEDPATTERN',\n",
       " 'CDLSTICKSANDWICH',\n",
       " 'CDLTAKURI',\n",
       " 'CDLTASUKIGAP',\n",
       " 'CDLTHRUSTING',\n",
       " 'CDLTRISTAR',\n",
       " 'CDLUNIQUE3RIVER',\n",
       " 'CDLUPSIDEGAP2CROWS',\n",
       " 'CDLXSIDEGAP3METHODS',\n",
       " 'AVGPRICE',\n",
       " 'MEDPRICE',\n",
       " 'TYPPRICE',\n",
       " 'WCLPRICE',\n",
       " 'BETA',\n",
       " 'CORREL',\n",
       " 'LINEARREG',\n",
       " 'LINEARREG_ANGLE',\n",
       " 'LINEARREG_INTERCEPT',\n",
       " 'LINEARREG_SLOPE',\n",
       " 'STDDEV',\n",
       " 'TSF',\n",
       " 'VAR',\n",
       " 'ATR',\n",
       " 'NATR',\n",
       " 'TRANGE',\n",
       " 'AD',\n",
       " 'ADOSC',\n",
       " 'OBV']"
      ]
     },
     "execution_count": 11,
     "metadata": {},
     "output_type": "execute_result"
    }
   ],
   "source": [
    "all_ta_label"
   ]
  },
  {
   "cell_type": "code",
   "execution_count": 12,
   "metadata": {},
   "outputs": [],
   "source": [
    "# 透過『get_function_groups』，取得分類後的技術指標清單\n",
    "all_ta_groups = talib.get_function_groups()\n",
    "# 看一下這個字典"
   ]
  },
  {
   "cell_type": "code",
   "execution_count": 13,
   "metadata": {
    "collapsed": true,
    "jupyter": {
     "outputs_hidden": true
    },
    "tags": []
   },
   "outputs": [
    {
     "data": {
      "text/plain": [
       "{'Cycle Indicators': ['HT_DCPERIOD',\n",
       "  'HT_DCPHASE',\n",
       "  'HT_PHASOR',\n",
       "  'HT_SINE',\n",
       "  'HT_TRENDMODE'],\n",
       " 'Math Operators': ['ADD',\n",
       "  'DIV',\n",
       "  'MAX',\n",
       "  'MAXINDEX',\n",
       "  'MIN',\n",
       "  'MININDEX',\n",
       "  'MINMAX',\n",
       "  'MINMAXINDEX',\n",
       "  'MULT',\n",
       "  'SUB',\n",
       "  'SUM'],\n",
       " 'Math Transform': ['ACOS',\n",
       "  'ASIN',\n",
       "  'ATAN',\n",
       "  'CEIL',\n",
       "  'COS',\n",
       "  'COSH',\n",
       "  'EXP',\n",
       "  'FLOOR',\n",
       "  'LN',\n",
       "  'LOG10',\n",
       "  'SIN',\n",
       "  'SINH',\n",
       "  'SQRT',\n",
       "  'TAN',\n",
       "  'TANH'],\n",
       " 'Momentum Indicators': ['ADX',\n",
       "  'ADXR',\n",
       "  'APO',\n",
       "  'AROON',\n",
       "  'AROONOSC',\n",
       "  'BOP',\n",
       "  'CCI',\n",
       "  'CMO',\n",
       "  'DX',\n",
       "  'MACD',\n",
       "  'MACDEXT',\n",
       "  'MACDFIX',\n",
       "  'MFI',\n",
       "  'MINUS_DI',\n",
       "  'MINUS_DM',\n",
       "  'MOM',\n",
       "  'PLUS_DI',\n",
       "  'PLUS_DM',\n",
       "  'PPO',\n",
       "  'ROC',\n",
       "  'ROCP',\n",
       "  'ROCR',\n",
       "  'ROCR100',\n",
       "  'RSI',\n",
       "  'STOCH',\n",
       "  'STOCHF',\n",
       "  'STOCHRSI',\n",
       "  'TRIX',\n",
       "  'ULTOSC',\n",
       "  'WILLR'],\n",
       " 'Overlap Studies': ['BBANDS',\n",
       "  'DEMA',\n",
       "  'EMA',\n",
       "  'HT_TRENDLINE',\n",
       "  'KAMA',\n",
       "  'MA',\n",
       "  'MAMA',\n",
       "  'MAVP',\n",
       "  'MIDPOINT',\n",
       "  'MIDPRICE',\n",
       "  'SAR',\n",
       "  'SAREXT',\n",
       "  'SMA',\n",
       "  'T3',\n",
       "  'TEMA',\n",
       "  'TRIMA',\n",
       "  'WMA'],\n",
       " 'Pattern Recognition': ['CDL2CROWS',\n",
       "  'CDL3BLACKCROWS',\n",
       "  'CDL3INSIDE',\n",
       "  'CDL3LINESTRIKE',\n",
       "  'CDL3OUTSIDE',\n",
       "  'CDL3STARSINSOUTH',\n",
       "  'CDL3WHITESOLDIERS',\n",
       "  'CDLABANDONEDBABY',\n",
       "  'CDLADVANCEBLOCK',\n",
       "  'CDLBELTHOLD',\n",
       "  'CDLBREAKAWAY',\n",
       "  'CDLCLOSINGMARUBOZU',\n",
       "  'CDLCONCEALBABYSWALL',\n",
       "  'CDLCOUNTERATTACK',\n",
       "  'CDLDARKCLOUDCOVER',\n",
       "  'CDLDOJI',\n",
       "  'CDLDOJISTAR',\n",
       "  'CDLDRAGONFLYDOJI',\n",
       "  'CDLENGULFING',\n",
       "  'CDLEVENINGDOJISTAR',\n",
       "  'CDLEVENINGSTAR',\n",
       "  'CDLGAPSIDESIDEWHITE',\n",
       "  'CDLGRAVESTONEDOJI',\n",
       "  'CDLHAMMER',\n",
       "  'CDLHANGINGMAN',\n",
       "  'CDLHARAMI',\n",
       "  'CDLHARAMICROSS',\n",
       "  'CDLHIGHWAVE',\n",
       "  'CDLHIKKAKE',\n",
       "  'CDLHIKKAKEMOD',\n",
       "  'CDLHOMINGPIGEON',\n",
       "  'CDLIDENTICAL3CROWS',\n",
       "  'CDLINNECK',\n",
       "  'CDLINVERTEDHAMMER',\n",
       "  'CDLKICKING',\n",
       "  'CDLKICKINGBYLENGTH',\n",
       "  'CDLLADDERBOTTOM',\n",
       "  'CDLLONGLEGGEDDOJI',\n",
       "  'CDLLONGLINE',\n",
       "  'CDLMARUBOZU',\n",
       "  'CDLMATCHINGLOW',\n",
       "  'CDLMATHOLD',\n",
       "  'CDLMORNINGDOJISTAR',\n",
       "  'CDLMORNINGSTAR',\n",
       "  'CDLONNECK',\n",
       "  'CDLPIERCING',\n",
       "  'CDLRICKSHAWMAN',\n",
       "  'CDLRISEFALL3METHODS',\n",
       "  'CDLSEPARATINGLINES',\n",
       "  'CDLSHOOTINGSTAR',\n",
       "  'CDLSHORTLINE',\n",
       "  'CDLSPINNINGTOP',\n",
       "  'CDLSTALLEDPATTERN',\n",
       "  'CDLSTICKSANDWICH',\n",
       "  'CDLTAKURI',\n",
       "  'CDLTASUKIGAP',\n",
       "  'CDLTHRUSTING',\n",
       "  'CDLTRISTAR',\n",
       "  'CDLUNIQUE3RIVER',\n",
       "  'CDLUPSIDEGAP2CROWS',\n",
       "  'CDLXSIDEGAP3METHODS'],\n",
       " 'Price Transform': ['AVGPRICE', 'MEDPRICE', 'TYPPRICE', 'WCLPRICE'],\n",
       " 'Statistic Functions': ['BETA',\n",
       "  'CORREL',\n",
       "  'LINEARREG',\n",
       "  'LINEARREG_ANGLE',\n",
       "  'LINEARREG_INTERCEPT',\n",
       "  'LINEARREG_SLOPE',\n",
       "  'STDDEV',\n",
       "  'TSF',\n",
       "  'VAR'],\n",
       " 'Volatility Indicators': ['ATR', 'NATR', 'TRANGE'],\n",
       " 'Volume Indicators': ['AD', 'ADOSC', 'OBV']}"
      ]
     },
     "execution_count": 13,
     "metadata": {},
     "output_type": "execute_result"
    }
   ],
   "source": [
    "all_ta_groups"
   ]
  },
  {
   "cell_type": "code",
   "execution_count": null,
   "metadata": {},
   "outputs": [],
   "source": [
    "# 有哪些大類別？"
   ]
  },
  {
   "cell_type": "code",
   "execution_count": 14,
   "metadata": {
    "collapsed": true,
    "jupyter": {
     "outputs_hidden": true
    },
    "tags": []
   },
   "outputs": [
    {
     "data": {
      "text/plain": [
       "['ADX',\n",
       " 'ADXR',\n",
       " 'APO',\n",
       " 'AROON',\n",
       " 'AROONOSC',\n",
       " 'BOP',\n",
       " 'CCI',\n",
       " 'CMO',\n",
       " 'DX',\n",
       " 'MACD',\n",
       " 'MACDEXT',\n",
       " 'MACDFIX',\n",
       " 'MFI',\n",
       " 'MINUS_DI',\n",
       " 'MINUS_DM',\n",
       " 'MOM',\n",
       " 'PLUS_DI',\n",
       " 'PLUS_DM',\n",
       " 'PPO',\n",
       " 'ROC',\n",
       " 'ROCP',\n",
       " 'ROCR',\n",
       " 'ROCR100',\n",
       " 'RSI',\n",
       " 'STOCH',\n",
       " 'STOCHF',\n",
       " 'STOCHRSI',\n",
       " 'TRIX',\n",
       " 'ULTOSC',\n",
       " 'WILLR']"
      ]
     },
     "execution_count": 14,
     "metadata": {},
     "output_type": "execute_result"
    }
   ],
   "source": [
    "all_ta_groups.keys()\n",
    "# 查看某類別底下的技術指標清單\n",
    "all_ta_groups['Momentum Indicators']"
   ]
  },
  {
   "cell_type": "code",
   "execution_count": 15,
   "metadata": {},
   "outputs": [
    {
     "data": {
      "text/html": [
       "<div>\n",
       "<style scoped>\n",
       "    .dataframe tbody tr th:only-of-type {\n",
       "        vertical-align: middle;\n",
       "    }\n",
       "\n",
       "    .dataframe tbody tr th {\n",
       "        vertical-align: top;\n",
       "    }\n",
       "\n",
       "    .dataframe thead th {\n",
       "        text-align: right;\n",
       "    }\n",
       "</style>\n",
       "<table border=\"1\" class=\"dataframe\">\n",
       "  <thead>\n",
       "    <tr style=\"text-align: right;\">\n",
       "      <th></th>\n",
       "      <th>技術指標類別名稱</th>\n",
       "      <th>該類別指標總數</th>\n",
       "    </tr>\n",
       "  </thead>\n",
       "  <tbody>\n",
       "    <tr>\n",
       "      <th>0</th>\n",
       "      <td>Cycle Indicators</td>\n",
       "      <td>5</td>\n",
       "    </tr>\n",
       "    <tr>\n",
       "      <th>1</th>\n",
       "      <td>Math Operators</td>\n",
       "      <td>11</td>\n",
       "    </tr>\n",
       "    <tr>\n",
       "      <th>2</th>\n",
       "      <td>Math Transform</td>\n",
       "      <td>15</td>\n",
       "    </tr>\n",
       "    <tr>\n",
       "      <th>3</th>\n",
       "      <td>Momentum Indicators</td>\n",
       "      <td>30</td>\n",
       "    </tr>\n",
       "    <tr>\n",
       "      <th>4</th>\n",
       "      <td>Overlap Studies</td>\n",
       "      <td>17</td>\n",
       "    </tr>\n",
       "    <tr>\n",
       "      <th>5</th>\n",
       "      <td>Pattern Recognition</td>\n",
       "      <td>61</td>\n",
       "    </tr>\n",
       "    <tr>\n",
       "      <th>6</th>\n",
       "      <td>Price Transform</td>\n",
       "      <td>4</td>\n",
       "    </tr>\n",
       "    <tr>\n",
       "      <th>7</th>\n",
       "      <td>Statistic Functions</td>\n",
       "      <td>9</td>\n",
       "    </tr>\n",
       "    <tr>\n",
       "      <th>8</th>\n",
       "      <td>Volatility Indicators</td>\n",
       "      <td>3</td>\n",
       "    </tr>\n",
       "    <tr>\n",
       "      <th>9</th>\n",
       "      <td>Volume Indicators</td>\n",
       "      <td>3</td>\n",
       "    </tr>\n",
       "  </tbody>\n",
       "</table>\n",
       "</div>"
      ],
      "text/plain": [
       "                技術指標類別名稱  該類別指標總數\n",
       "0       Cycle Indicators        5\n",
       "1         Math Operators       11\n",
       "2         Math Transform       15\n",
       "3    Momentum Indicators       30\n",
       "4        Overlap Studies       17\n",
       "5    Pattern Recognition       61\n",
       "6        Price Transform        4\n",
       "7    Statistic Functions        9\n",
       "8  Volatility Indicators        3\n",
       "9      Volume Indicators        3"
      ]
     },
     "execution_count": 15,
     "metadata": {},
     "output_type": "execute_result"
    }
   ],
   "source": [
    "# 查看所有類別的指標數量\n",
    "table = pd.DataFrame({\n",
    "            '技術指標類別名稱': list(all_ta_groups.keys()),\n",
    "            '該類別指標總數': list(map(lambda x: len(x), all_ta_groups.values()))\n",
    "        })\n",
    "table"
   ]
  },
  {
   "cell_type": "code",
   "execution_count": 109,
   "metadata": {
    "tags": []
   },
   "outputs": [
    {
     "name": "stdout",
     "output_type": "stream",
     "text": [
      "MAVP\n"
     ]
    }
   ],
   "source": [
    "\n",
    "# 確認價量資料表 df 的值都是 float 格式\n",
    "df.astype('float')\n",
    "\n",
    "# # 準備一份你想要計算並且併入 df 的技術指標清單\n",
    "# ta_list = ['MACD','RSI']\n",
    "# # 這裡示範全部 158 種技術指標\n",
    "ta_list = talib.get_functions()\n",
    "\n",
    "# 迴圈執行，看看結果吧！\n",
    "for x in ta_list:\n",
    "    try:\n",
    "        # x 為技術指標的代碼，透過迴圈填入，再透過 eval 計算出 output\n",
    "        output = eval('abstract.'+x+'(df)')\n",
    "        # 如果輸出是一維資料，幫這個指標取名為 x 本身；多維資料則不需命名\n",
    "        output.name = x.lower() if type(output) == pd.core.series.Series else None\n",
    "        # 透過 merge 把輸出結果併入 df DataFrame\n",
    "        df = pd.merge(df, pd.DataFrame(output), left_on = df.index, right_on = output.index)\n",
    "        df = df.set_index('key_0')\n",
    "    except:\n",
    "        print(x)"
   ]
  },
  {
   "cell_type": "code",
   "execution_count": null,
   "metadata": {},
   "outputs": [],
   "source": [
    "periods =np.array([30], dtype=float)\n",
    "talib.MAVP(df['close'],periods)"
   ]
  },
  {
   "cell_type": "code",
   "execution_count": 73,
   "metadata": {},
   "outputs": [
    {
     "data": {
      "text/html": [
       "<div>\n",
       "<style scoped>\n",
       "    .dataframe tbody tr th:only-of-type {\n",
       "        vertical-align: middle;\n",
       "    }\n",
       "\n",
       "    .dataframe tbody tr th {\n",
       "        vertical-align: top;\n",
       "    }\n",
       "\n",
       "    .dataframe thead th {\n",
       "        text-align: right;\n",
       "    }\n",
       "</style>\n",
       "<table border=\"1\" class=\"dataframe\">\n",
       "  <thead>\n",
       "    <tr style=\"text-align: right;\">\n",
       "      <th></th>\n",
       "      <th>high</th>\n",
       "      <th>low</th>\n",
       "      <th>open</th>\n",
       "      <th>close</th>\n",
       "      <th>volume</th>\n",
       "      <th>Adj Close</th>\n",
       "      <th>ht_dcperiod_x</th>\n",
       "      <th>ht_dcphase_x</th>\n",
       "      <th>inphase_x</th>\n",
       "      <th>quadrature_x</th>\n",
       "      <th>...</th>\n",
       "      <th>linearreg_slope</th>\n",
       "      <th>stddev</th>\n",
       "      <th>tsf</th>\n",
       "      <th>var</th>\n",
       "      <th>atr</th>\n",
       "      <th>natr</th>\n",
       "      <th>trange</th>\n",
       "      <th>ad</th>\n",
       "      <th>adosc</th>\n",
       "      <th>obv</th>\n",
       "    </tr>\n",
       "    <tr>\n",
       "      <th>key_0</th>\n",
       "      <th></th>\n",
       "      <th></th>\n",
       "      <th></th>\n",
       "      <th></th>\n",
       "      <th></th>\n",
       "      <th></th>\n",
       "      <th></th>\n",
       "      <th></th>\n",
       "      <th></th>\n",
       "      <th></th>\n",
       "      <th></th>\n",
       "      <th></th>\n",
       "      <th></th>\n",
       "      <th></th>\n",
       "      <th></th>\n",
       "      <th></th>\n",
       "      <th></th>\n",
       "      <th></th>\n",
       "      <th></th>\n",
       "      <th></th>\n",
       "      <th></th>\n",
       "    </tr>\n",
       "  </thead>\n",
       "  <tbody>\n",
       "    <tr>\n",
       "      <th>2020-01-06</th>\n",
       "      <td>334.5</td>\n",
       "      <td>332.0</td>\n",
       "      <td>333.0</td>\n",
       "      <td>332.0</td>\n",
       "      <td>45343057.0</td>\n",
       "      <td>321.516846</td>\n",
       "      <td>NaN</td>\n",
       "      <td>NaN</td>\n",
       "      <td>NaN</td>\n",
       "      <td>NaN</td>\n",
       "      <td>...</td>\n",
       "      <td>NaN</td>\n",
       "      <td>NaN</td>\n",
       "      <td>NaN</td>\n",
       "      <td>NaN</td>\n",
       "      <td>NaN</td>\n",
       "      <td>NaN</td>\n",
       "      <td>NaN</td>\n",
       "      <td>-4.534306e+07</td>\n",
       "      <td>NaN</td>\n",
       "      <td>45343057.0</td>\n",
       "    </tr>\n",
       "    <tr>\n",
       "      <th>2020-01-07</th>\n",
       "      <td>333.0</td>\n",
       "      <td>326.5</td>\n",
       "      <td>332.5</td>\n",
       "      <td>329.5</td>\n",
       "      <td>50879181.0</td>\n",
       "      <td>319.095795</td>\n",
       "      <td>NaN</td>\n",
       "      <td>NaN</td>\n",
       "      <td>NaN</td>\n",
       "      <td>NaN</td>\n",
       "      <td>...</td>\n",
       "      <td>NaN</td>\n",
       "      <td>NaN</td>\n",
       "      <td>NaN</td>\n",
       "      <td>NaN</td>\n",
       "      <td>NaN</td>\n",
       "      <td>NaN</td>\n",
       "      <td>6.5</td>\n",
       "      <td>-4.925684e+07</td>\n",
       "      <td>NaN</td>\n",
       "      <td>-5536124.0</td>\n",
       "    </tr>\n",
       "    <tr>\n",
       "      <th>2020-01-08</th>\n",
       "      <td>333.0</td>\n",
       "      <td>325.0</td>\n",
       "      <td>325.0</td>\n",
       "      <td>329.5</td>\n",
       "      <td>37567748.0</td>\n",
       "      <td>319.095795</td>\n",
       "      <td>NaN</td>\n",
       "      <td>NaN</td>\n",
       "      <td>NaN</td>\n",
       "      <td>NaN</td>\n",
       "      <td>...</td>\n",
       "      <td>NaN</td>\n",
       "      <td>NaN</td>\n",
       "      <td>NaN</td>\n",
       "      <td>NaN</td>\n",
       "      <td>NaN</td>\n",
       "      <td>NaN</td>\n",
       "      <td>8.0</td>\n",
       "      <td>-4.456087e+07</td>\n",
       "      <td>NaN</td>\n",
       "      <td>-5536124.0</td>\n",
       "    </tr>\n",
       "    <tr>\n",
       "      <th>2020-01-09</th>\n",
       "      <td>337.5</td>\n",
       "      <td>333.5</td>\n",
       "      <td>335.0</td>\n",
       "      <td>337.5</td>\n",
       "      <td>31481504.0</td>\n",
       "      <td>326.843170</td>\n",
       "      <td>NaN</td>\n",
       "      <td>NaN</td>\n",
       "      <td>NaN</td>\n",
       "      <td>NaN</td>\n",
       "      <td>...</td>\n",
       "      <td>NaN</td>\n",
       "      <td>NaN</td>\n",
       "      <td>NaN</td>\n",
       "      <td>NaN</td>\n",
       "      <td>NaN</td>\n",
       "      <td>NaN</td>\n",
       "      <td>8.0</td>\n",
       "      <td>-1.307937e+07</td>\n",
       "      <td>NaN</td>\n",
       "      <td>25945380.0</td>\n",
       "    </tr>\n",
       "    <tr>\n",
       "      <th>2020-01-10</th>\n",
       "      <td>341.0</td>\n",
       "      <td>336.0</td>\n",
       "      <td>340.5</td>\n",
       "      <td>339.5</td>\n",
       "      <td>27032115.0</td>\n",
       "      <td>328.780060</td>\n",
       "      <td>NaN</td>\n",
       "      <td>NaN</td>\n",
       "      <td>NaN</td>\n",
       "      <td>NaN</td>\n",
       "      <td>...</td>\n",
       "      <td>NaN</td>\n",
       "      <td>4.152108</td>\n",
       "      <td>NaN</td>\n",
       "      <td>17.24</td>\n",
       "      <td>NaN</td>\n",
       "      <td>NaN</td>\n",
       "      <td>5.0</td>\n",
       "      <td>-2.266522e+06</td>\n",
       "      <td>NaN</td>\n",
       "      <td>52977495.0</td>\n",
       "    </tr>\n",
       "    <tr>\n",
       "      <th>...</th>\n",
       "      <td>...</td>\n",
       "      <td>...</td>\n",
       "      <td>...</td>\n",
       "      <td>...</td>\n",
       "      <td>...</td>\n",
       "      <td>...</td>\n",
       "      <td>...</td>\n",
       "      <td>...</td>\n",
       "      <td>...</td>\n",
       "      <td>...</td>\n",
       "      <td>...</td>\n",
       "      <td>...</td>\n",
       "      <td>...</td>\n",
       "      <td>...</td>\n",
       "      <td>...</td>\n",
       "      <td>...</td>\n",
       "      <td>...</td>\n",
       "      <td>...</td>\n",
       "      <td>...</td>\n",
       "      <td>...</td>\n",
       "      <td>...</td>\n",
       "    </tr>\n",
       "    <tr>\n",
       "      <th>2021-05-19</th>\n",
       "      <td>572.0</td>\n",
       "      <td>565.0</td>\n",
       "      <td>571.0</td>\n",
       "      <td>567.0</td>\n",
       "      <td>28908777.0</td>\n",
       "      <td>567.000000</td>\n",
       "      <td>19.308488</td>\n",
       "      <td>-10.362763</td>\n",
       "      <td>-25.882556</td>\n",
       "      <td>-21.634867</td>\n",
       "      <td>...</td>\n",
       "      <td>-3.327473</td>\n",
       "      <td>9.789791</td>\n",
       "      <td>550.901099</td>\n",
       "      <td>95.84</td>\n",
       "      <td>15.095944</td>\n",
       "      <td>2.662424</td>\n",
       "      <td>7.0</td>\n",
       "      <td>-4.858884e+08</td>\n",
       "      <td>8.503373e+06</td>\n",
       "      <td>91951244.0</td>\n",
       "    </tr>\n",
       "    <tr>\n",
       "      <th>2021-05-20</th>\n",
       "      <td>571.0</td>\n",
       "      <td>560.0</td>\n",
       "      <td>567.0</td>\n",
       "      <td>567.0</td>\n",
       "      <td>29709287.0</td>\n",
       "      <td>567.000000</td>\n",
       "      <td>19.404831</td>\n",
       "      <td>0.847156</td>\n",
       "      <td>-31.920885</td>\n",
       "      <td>3.200473</td>\n",
       "      <td>...</td>\n",
       "      <td>-2.784615</td>\n",
       "      <td>8.284926</td>\n",
       "      <td>552.615385</td>\n",
       "      <td>68.64</td>\n",
       "      <td>14.803376</td>\n",
       "      <td>2.610825</td>\n",
       "      <td>11.0</td>\n",
       "      <td>-4.777859e+08</td>\n",
       "      <td>1.047826e+07</td>\n",
       "      <td>91951244.0</td>\n",
       "    </tr>\n",
       "    <tr>\n",
       "      <th>2021-05-21</th>\n",
       "      <td>577.0</td>\n",
       "      <td>568.0</td>\n",
       "      <td>572.0</td>\n",
       "      <td>573.0</td>\n",
       "      <td>27376731.0</td>\n",
       "      <td>573.000000</td>\n",
       "      <td>20.116196</td>\n",
       "      <td>7.284044</td>\n",
       "      <td>-23.648556</td>\n",
       "      <td>28.347265</td>\n",
       "      <td>...</td>\n",
       "      <td>-2.320879</td>\n",
       "      <td>8.662563</td>\n",
       "      <td>555.021978</td>\n",
       "      <td>75.04</td>\n",
       "      <td>14.460278</td>\n",
       "      <td>2.523609</td>\n",
       "      <td>10.0</td>\n",
       "      <td>-4.747440e+08</td>\n",
       "      <td>1.130146e+07</td>\n",
       "      <td>119327975.0</td>\n",
       "    </tr>\n",
       "    <tr>\n",
       "      <th>2021-05-24</th>\n",
       "      <td>572.0</td>\n",
       "      <td>566.0</td>\n",
       "      <td>570.0</td>\n",
       "      <td>568.0</td>\n",
       "      <td>15629736.0</td>\n",
       "      <td>568.000000</td>\n",
       "      <td>20.733312</td>\n",
       "      <td>12.949491</td>\n",
       "      <td>-12.603367</td>\n",
       "      <td>40.813981</td>\n",
       "      <td>...</td>\n",
       "      <td>-1.835165</td>\n",
       "      <td>2.576820</td>\n",
       "      <td>557.021978</td>\n",
       "      <td>6.64</td>\n",
       "      <td>13.927401</td>\n",
       "      <td>2.452007</td>\n",
       "      <td>7.0</td>\n",
       "      <td>-4.799539e+08</td>\n",
       "      <td>8.953122e+06</td>\n",
       "      <td>103698239.0</td>\n",
       "    </tr>\n",
       "    <tr>\n",
       "      <th>2021-05-25</th>\n",
       "      <td>584.0</td>\n",
       "      <td>573.0</td>\n",
       "      <td>576.0</td>\n",
       "      <td>583.0</td>\n",
       "      <td>33761275.0</td>\n",
       "      <td>583.000000</td>\n",
       "      <td>20.815444</td>\n",
       "      <td>24.799913</td>\n",
       "      <td>3.007419</td>\n",
       "      <td>44.965283</td>\n",
       "      <td>...</td>\n",
       "      <td>-1.017582</td>\n",
       "      <td>6.118823</td>\n",
       "      <td>563.010989</td>\n",
       "      <td>37.44</td>\n",
       "      <td>14.075444</td>\n",
       "      <td>2.414313</td>\n",
       "      <td>16.0</td>\n",
       "      <td>-4.523311e+08</td>\n",
       "      <td>1.596761e+07</td>\n",
       "      <td>137459514.0</td>\n",
       "    </tr>\n",
       "  </tbody>\n",
       "</table>\n",
       "<p>333 rows × 265 columns</p>\n",
       "</div>"
      ],
      "text/plain": [
       "             high    low   open  close      volume   Adj Close  ht_dcperiod_x  \\\n",
       "key_0                                                                           \n",
       "2020-01-06  334.5  332.0  333.0  332.0  45343057.0  321.516846            NaN   \n",
       "2020-01-07  333.0  326.5  332.5  329.5  50879181.0  319.095795            NaN   \n",
       "2020-01-08  333.0  325.0  325.0  329.5  37567748.0  319.095795            NaN   \n",
       "2020-01-09  337.5  333.5  335.0  337.5  31481504.0  326.843170            NaN   \n",
       "2020-01-10  341.0  336.0  340.5  339.5  27032115.0  328.780060            NaN   \n",
       "...           ...    ...    ...    ...         ...         ...            ...   \n",
       "2021-05-19  572.0  565.0  571.0  567.0  28908777.0  567.000000      19.308488   \n",
       "2021-05-20  571.0  560.0  567.0  567.0  29709287.0  567.000000      19.404831   \n",
       "2021-05-21  577.0  568.0  572.0  573.0  27376731.0  573.000000      20.116196   \n",
       "2021-05-24  572.0  566.0  570.0  568.0  15629736.0  568.000000      20.733312   \n",
       "2021-05-25  584.0  573.0  576.0  583.0  33761275.0  583.000000      20.815444   \n",
       "\n",
       "            ht_dcphase_x  inphase_x  quadrature_x  ...  linearreg_slope  \\\n",
       "key_0                                              ...                    \n",
       "2020-01-06           NaN        NaN           NaN  ...              NaN   \n",
       "2020-01-07           NaN        NaN           NaN  ...              NaN   \n",
       "2020-01-08           NaN        NaN           NaN  ...              NaN   \n",
       "2020-01-09           NaN        NaN           NaN  ...              NaN   \n",
       "2020-01-10           NaN        NaN           NaN  ...              NaN   \n",
       "...                  ...        ...           ...  ...              ...   \n",
       "2021-05-19    -10.362763 -25.882556    -21.634867  ...        -3.327473   \n",
       "2021-05-20      0.847156 -31.920885      3.200473  ...        -2.784615   \n",
       "2021-05-21      7.284044 -23.648556     28.347265  ...        -2.320879   \n",
       "2021-05-24     12.949491 -12.603367     40.813981  ...        -1.835165   \n",
       "2021-05-25     24.799913   3.007419     44.965283  ...        -1.017582   \n",
       "\n",
       "              stddev         tsf    var        atr      natr  trange  \\\n",
       "key_0                                                                  \n",
       "2020-01-06       NaN         NaN    NaN        NaN       NaN     NaN   \n",
       "2020-01-07       NaN         NaN    NaN        NaN       NaN     6.5   \n",
       "2020-01-08       NaN         NaN    NaN        NaN       NaN     8.0   \n",
       "2020-01-09       NaN         NaN    NaN        NaN       NaN     8.0   \n",
       "2020-01-10  4.152108         NaN  17.24        NaN       NaN     5.0   \n",
       "...              ...         ...    ...        ...       ...     ...   \n",
       "2021-05-19  9.789791  550.901099  95.84  15.095944  2.662424     7.0   \n",
       "2021-05-20  8.284926  552.615385  68.64  14.803376  2.610825    11.0   \n",
       "2021-05-21  8.662563  555.021978  75.04  14.460278  2.523609    10.0   \n",
       "2021-05-24  2.576820  557.021978   6.64  13.927401  2.452007     7.0   \n",
       "2021-05-25  6.118823  563.010989  37.44  14.075444  2.414313    16.0   \n",
       "\n",
       "                      ad         adosc          obv  \n",
       "key_0                                                \n",
       "2020-01-06 -4.534306e+07           NaN   45343057.0  \n",
       "2020-01-07 -4.925684e+07           NaN   -5536124.0  \n",
       "2020-01-08 -4.456087e+07           NaN   -5536124.0  \n",
       "2020-01-09 -1.307937e+07           NaN   25945380.0  \n",
       "2020-01-10 -2.266522e+06           NaN   52977495.0  \n",
       "...                  ...           ...          ...  \n",
       "2021-05-19 -4.858884e+08  8.503373e+06   91951244.0  \n",
       "2021-05-20 -4.777859e+08  1.047826e+07   91951244.0  \n",
       "2021-05-21 -4.747440e+08  1.130146e+07  119327975.0  \n",
       "2021-05-24 -4.799539e+08  8.953122e+06  103698239.0  \n",
       "2021-05-25 -4.523311e+08  1.596761e+07  137459514.0  \n",
       "\n",
       "[333 rows x 265 columns]"
      ]
     },
     "execution_count": 73,
     "metadata": {},
     "output_type": "execute_result"
    }
   ],
   "source": [
    "df"
   ]
  },
  {
   "cell_type": "code",
   "execution_count": 26,
   "metadata": {},
   "outputs": [],
   "source": [
    "sma20 = talib.SMA(df['Close'], 20) # 計算20日簡單平均"
   ]
  },
  {
   "cell_type": "code",
   "execution_count": 30,
   "metadata": {},
   "outputs": [
    {
     "data": {
      "text/plain": [
       "145.1"
      ]
     },
     "execution_count": 30,
     "metadata": {},
     "output_type": "execute_result"
    }
   ],
   "source": [
    "sma20[100]"
   ]
  },
  {
   "cell_type": "code",
   "execution_count": 33,
   "metadata": {},
   "outputs": [],
   "source": [
    "df.index = df.index.format(formatter=lambda x: x.strftime('%Y-%m-%d')) "
   ]
  },
  {
   "cell_type": "code",
   "execution_count": 34,
   "metadata": {},
   "outputs": [
    {
     "data": {
      "text/plain": [
       "Index(['2015-01-05', '2015-01-06', '2015-01-07', '2015-01-08', '2015-01-09',\n",
       "       '2015-01-12', '2015-01-13', '2015-01-14', '2015-01-15', '2015-01-16',\n",
       "       ...\n",
       "       '2021-05-12', '2021-05-13', '2021-05-14', '2021-05-17', '2021-05-18',\n",
       "       '2021-05-19', '2021-05-20', '2021-05-21', '2021-05-24', '2021-05-25'],\n",
       "      dtype='object', length=1554)"
      ]
     },
     "execution_count": 34,
     "metadata": {},
     "output_type": "execute_result"
    }
   ],
   "source": [
    "df.index"
   ]
  },
  {
   "cell_type": "code",
   "execution_count": 35,
   "metadata": {},
   "outputs": [
    {
     "data": {
      "text/plain": [
       "Index(['2015-01-05', '2015-01-06', '2015-01-07', '2015-01-08', '2015-01-09',\n",
       "       '2015-01-12', '2015-01-13', '2015-01-14', '2015-01-15', '2015-01-16',\n",
       "       ...\n",
       "       '2021-05-12', '2021-05-13', '2021-05-14', '2021-05-17', '2021-05-18',\n",
       "       '2021-05-19', '2021-05-20', '2021-05-21', '2021-05-24', '2021-05-25'],\n",
       "      dtype='object', length=1554)"
      ]
     },
     "execution_count": 35,
     "metadata": {},
     "output_type": "execute_result"
    }
   ],
   "source": [
    "df_2330.index"
   ]
  },
  {
   "cell_type": "code",
   "execution_count": 52,
   "metadata": {},
   "outputs": [
    {
     "data": {
      "image/png": "[encoded data removed]",
      "text/plain": [
       "<Figure size 1728x576 with 1 Axes>"
      ]
     },
     "metadata": {
      "needs_background": "light"
     },
     "output_type": "display_data"
    }
   ],
   "source": [
    "sma_10 = talib.SMA(np.array(df_2330['Close']), 10)\n",
    "sma_30 = talib.SMA(np.array(df_2330['Close']), 30)\n",
    "\n",
    "fig = plt.figure(figsize=(24, 8))\n",
    "ax = fig.add_subplot(2, 1, 1)\n",
    "ax.set_xticks(range(0, len(df_2330.index), 10))\n",
    "ax.set_xticklabels(df_2330.index[::10])\n",
    "mpf.candlestick2_ochl(ax, df_2330['Open'], df_2330['Close'], df_2330['High'],\n",
    "                      df_2330['Low'], width=0.6, colorup='r', colordown='g', alpha=0.75);\n",
    "plt.rcParams['font.sans-serif']=['Microsoft JhengHei'] \n",
    "ax.plot(sma_10, label='10日均線')\n",
    "ax.plot(sma_30, label='30日均線')\n",
    "ax.legend();"
   ]
  },
  {
   "cell_type": "code",
   "execution_count": 92,
   "metadata": {},
   "outputs": [
    {
     "data": {
      "text/plain": [
       "[<matplotlib.lines.Line2D at 0x135eb3b7400>,\n",
       " <matplotlib.lines.Line2D at 0x135eb3796a0>]"
      ]
     },
     "execution_count": 92,
     "metadata": {},
     "output_type": "execute_result"
    },
    {
     "data": {
      "image/png": "[encoded data removed]",
      "text/plain": [
       "<Figure size 432x288 with 1 Axes>"
      ]
     },
     "metadata": {
      "needs_background": "light"
     },
     "output_type": "display_data"
    }
   ],
   "source": [
    "plt.plot([1,2,3,5],[1,2,6,10],[2,3,4,5],'ko')\n"
   ]
  },
  {
   "cell_type": "code",
   "execution_count": 101,
   "metadata": {},
   "outputs": [
    {
     "data": {
      "text/plain": [
       "<BarContainer object of 4 artists>"
      ]
     },
     "execution_count": 101,
     "metadata": {},
     "output_type": "execute_result"
    },
    {
     "data": {
      "image/png": "[encoded data removed]",
      "text/plain": [
       "<Figure size 432x288 with 1 Axes>"
      ]
     },
     "metadata": {
      "needs_background": "light"
     },
     "output_type": "display_data"
    }
   ],
   "source": [
    "plt.bar([2,3,4,5],[1,2,6,10])"
   ]
  },
  {
   "cell_type": "code",
   "execution_count": 108,
   "metadata": {},
   "outputs": [
    {
     "data": {
      "image/png": "[encoded data removed]",
      "text/plain": [
       "<Figure size 432x288 with 1 Axes>"
      ]
     },
     "metadata": {
      "needs_background": "light"
     },
     "output_type": "display_data"
    }
   ],
   "source": [
    "import numpy as np\n",
    "\n",
    "# evenly sampled time at 200ms intervals\n",
    "t = np.arange(0., 5., 0.2)\n",
    "\n",
    "# red dashes, blue squares and green triangles\n",
    "plt.plot(t, t, 'ro', t, t**5, 'bs', t, t**3, 'g^')\n",
    "plt.show()"
   ]
  },
  {
   "cell_type": "code",
   "execution_count": 11,
   "metadata": {},
   "outputs": [
    {
     "name": "stdout",
     "output_type": "stream",
     "text": [
      "french\n"
     ]
    }
   ],
   "source": [
    "x = \"print('french')\"\n",
    "eval(x)"
   ]
  },
  {
   "cell_type": "markdown",
   "metadata": {},
   "source": [
    "https://ithelp.ithome.com.tw/articles/10205113"
   ]
  },
  {
   "cell_type": "code",
   "execution_count": 6,
   "metadata": {},
   "outputs": [
    {
     "data": {
      "text/plain": [
       "StockCodeInfo(type='股票', code='6207', name='雷科', ISIN='TW0006207004', start='2002/12/23', market='上櫃', group='電子零組件業', CFI='ESVUFR')"
      ]
     },
     "execution_count": 6,
     "metadata": {},
     "output_type": "execute_result"
    }
   ],
   "source": [
    "import twstock\n",
    "twstock.codes['6207']"
   ]
  },
  {
   "cell_type": "code",
   "execution_count": 26,
   "metadata": {},
   "outputs": [
    {
     "name": "stdout",
     "output_type": "stream",
     "text": [
      "price_6207---> 31\n",
      "date_6207---> [datetime.datetime(2021, 4, 15, 0, 0), datetime.datetime(2021, 4, 16, 0, 0), datetime.datetime(2021, 4, 19, 0, 0), datetime.datetime(2021, 4, 20, 0, 0), datetime.datetime(2021, 4, 21, 0, 0), datetime.datetime(2021, 4, 22, 0, 0), datetime.datetime(2021, 4, 23, 0, 0), datetime.datetime(2021, 4, 26, 0, 0), datetime.datetime(2021, 4, 27, 0, 0), datetime.datetime(2021, 4, 28, 0, 0), datetime.datetime(2021, 4, 29, 0, 0), datetime.datetime(2021, 5, 3, 0, 0), datetime.datetime(2021, 5, 4, 0, 0), datetime.datetime(2021, 5, 5, 0, 0), datetime.datetime(2021, 5, 6, 0, 0), datetime.datetime(2021, 5, 7, 0, 0), datetime.datetime(2021, 5, 10, 0, 0), datetime.datetime(2021, 5, 11, 0, 0), datetime.datetime(2021, 5, 12, 0, 0), datetime.datetime(2021, 5, 13, 0, 0), datetime.datetime(2021, 5, 14, 0, 0), datetime.datetime(2021, 5, 17, 0, 0), datetime.datetime(2021, 5, 18, 0, 0), datetime.datetime(2021, 5, 19, 0, 0), datetime.datetime(2021, 5, 20, 0, 0), datetime.datetime(2021, 5, 21, 0, 0), datetime.datetime(2021, 5, 24, 0, 0), datetime.datetime(2021, 5, 25, 0, 0), datetime.datetime(2021, 5, 26, 0, 0), datetime.datetime(2021, 5, 27, 0, 0), datetime.datetime(2021, 5, 28, 0, 0)]\n"
     ]
    }
   ],
   "source": [
    "\n",
    "stock_6207 = twstock.Stock('6207')\n",
    "\n",
    "price_6207 = stock_6207.price[-200:]       # 近五日之收盤價\n",
    "high_6207 = stock_6207.high[-5:]         # 近五日之盤中高點\n",
    "low_6207 = stock_6207.low[-5:]           # 近五日之盤中低點\n",
    "date_6207 = stock_6207.date\n",
    "\n",
    "# \n",
    "print('price_6207--->', len(price_6207))\n",
    "# print('high_6207--->', high_6207)\n",
    "# print('low_6207--->', low_6207)\n",
    "print('date_6207--->', date_6207)"
   ]
  },
  {
   "cell_type": "code",
   "execution_count": 16,
   "metadata": {},
   "outputs": [],
   "source": [
    "stock_6207_2018 = stock_6207.fetch_from(2015,1)     # 獲取 2018 年 01 月至今日之股票資料\n",
    "stock_6207_2018_pd = pd.DataFrame(stock_6207_2018)\n",
    "stock_6207_2018_pd = stock_6207_2018_pd.set_index('date')"
   ]
  },
  {
   "cell_type": "code",
   "execution_count": 17,
   "metadata": {},
   "outputs": [
    {
     "data": {
      "text/html": [
       "<div>\n",
       "<style scoped>\n",
       "    .dataframe tbody tr th:only-of-type {\n",
       "        vertical-align: middle;\n",
       "    }\n",
       "\n",
       "    .dataframe tbody tr th {\n",
       "        vertical-align: top;\n",
       "    }\n",
       "\n",
       "    .dataframe thead th {\n",
       "        text-align: right;\n",
       "    }\n",
       "</style>\n",
       "<table border=\"1\" class=\"dataframe\">\n",
       "  <thead>\n",
       "    <tr style=\"text-align: right;\">\n",
       "      <th></th>\n",
       "      <th>capacity</th>\n",
       "      <th>turnover</th>\n",
       "      <th>open</th>\n",
       "      <th>high</th>\n",
       "      <th>low</th>\n",
       "      <th>close</th>\n",
       "      <th>change</th>\n",
       "      <th>transaction</th>\n",
       "    </tr>\n",
       "    <tr>\n",
       "      <th>date</th>\n",
       "      <th></th>\n",
       "      <th></th>\n",
       "      <th></th>\n",
       "      <th></th>\n",
       "      <th></th>\n",
       "      <th></th>\n",
       "      <th></th>\n",
       "      <th></th>\n",
       "    </tr>\n",
       "  </thead>\n",
       "  <tbody>\n",
       "    <tr>\n",
       "      <th>2015-01-05</th>\n",
       "      <td>4770000</td>\n",
       "      <td>132612000</td>\n",
       "      <td>26.50</td>\n",
       "      <td>28.15</td>\n",
       "      <td>26.50</td>\n",
       "      <td>27.90</td>\n",
       "      <td>1.55</td>\n",
       "      <td>1799</td>\n",
       "    </tr>\n",
       "    <tr>\n",
       "      <th>2015-01-06</th>\n",
       "      <td>2168000</td>\n",
       "      <td>59463000</td>\n",
       "      <td>27.50</td>\n",
       "      <td>27.75</td>\n",
       "      <td>27.05</td>\n",
       "      <td>27.45</td>\n",
       "      <td>-0.45</td>\n",
       "      <td>969</td>\n",
       "    </tr>\n",
       "    <tr>\n",
       "      <th>2015-01-07</th>\n",
       "      <td>1429000</td>\n",
       "      <td>39548000</td>\n",
       "      <td>27.50</td>\n",
       "      <td>28.00</td>\n",
       "      <td>27.15</td>\n",
       "      <td>27.95</td>\n",
       "      <td>0.50</td>\n",
       "      <td>706</td>\n",
       "    </tr>\n",
       "    <tr>\n",
       "      <th>2015-01-08</th>\n",
       "      <td>4853000</td>\n",
       "      <td>141723000</td>\n",
       "      <td>29.90</td>\n",
       "      <td>29.90</td>\n",
       "      <td>28.65</td>\n",
       "      <td>28.90</td>\n",
       "      <td>0.95</td>\n",
       "      <td>2201</td>\n",
       "    </tr>\n",
       "    <tr>\n",
       "      <th>2015-01-09</th>\n",
       "      <td>2083000</td>\n",
       "      <td>60566000</td>\n",
       "      <td>29.20</td>\n",
       "      <td>29.55</td>\n",
       "      <td>28.65</td>\n",
       "      <td>28.75</td>\n",
       "      <td>-0.15</td>\n",
       "      <td>1059</td>\n",
       "    </tr>\n",
       "    <tr>\n",
       "      <th>...</th>\n",
       "      <td>...</td>\n",
       "      <td>...</td>\n",
       "      <td>...</td>\n",
       "      <td>...</td>\n",
       "      <td>...</td>\n",
       "      <td>...</td>\n",
       "      <td>...</td>\n",
       "      <td>...</td>\n",
       "    </tr>\n",
       "    <tr>\n",
       "      <th>2021-05-24</th>\n",
       "      <td>270000</td>\n",
       "      <td>7537000</td>\n",
       "      <td>27.30</td>\n",
       "      <td>28.20</td>\n",
       "      <td>27.30</td>\n",
       "      <td>28.10</td>\n",
       "      <td>0.60</td>\n",
       "      <td>196</td>\n",
       "    </tr>\n",
       "    <tr>\n",
       "      <th>2021-05-25</th>\n",
       "      <td>411000</td>\n",
       "      <td>11692000</td>\n",
       "      <td>28.15</td>\n",
       "      <td>28.70</td>\n",
       "      <td>28.15</td>\n",
       "      <td>28.35</td>\n",
       "      <td>0.25</td>\n",
       "      <td>282</td>\n",
       "    </tr>\n",
       "    <tr>\n",
       "      <th>2021-05-26</th>\n",
       "      <td>163000</td>\n",
       "      <td>4601000</td>\n",
       "      <td>28.40</td>\n",
       "      <td>28.50</td>\n",
       "      <td>28.10</td>\n",
       "      <td>28.20</td>\n",
       "      <td>-0.15</td>\n",
       "      <td>105</td>\n",
       "    </tr>\n",
       "    <tr>\n",
       "      <th>2021-05-27</th>\n",
       "      <td>251000</td>\n",
       "      <td>7093000</td>\n",
       "      <td>28.05</td>\n",
       "      <td>28.40</td>\n",
       "      <td>27.90</td>\n",
       "      <td>28.20</td>\n",
       "      <td>0.00</td>\n",
       "      <td>138</td>\n",
       "    </tr>\n",
       "    <tr>\n",
       "      <th>2021-05-28</th>\n",
       "      <td>363000</td>\n",
       "      <td>10333000</td>\n",
       "      <td>28.30</td>\n",
       "      <td>28.65</td>\n",
       "      <td>28.30</td>\n",
       "      <td>28.60</td>\n",
       "      <td>0.40</td>\n",
       "      <td>189</td>\n",
       "    </tr>\n",
       "  </tbody>\n",
       "</table>\n",
       "<p>1562 rows × 8 columns</p>\n",
       "</div>"
      ],
      "text/plain": [
       "            capacity   turnover   open   high    low  close  change  \\\n",
       "date                                                                  \n",
       "2015-01-05   4770000  132612000  26.50  28.15  26.50  27.90    1.55   \n",
       "2015-01-06   2168000   59463000  27.50  27.75  27.05  27.45   -0.45   \n",
       "2015-01-07   1429000   39548000  27.50  28.00  27.15  27.95    0.50   \n",
       "2015-01-08   4853000  141723000  29.90  29.90  28.65  28.90    0.95   \n",
       "2015-01-09   2083000   60566000  29.20  29.55  28.65  28.75   -0.15   \n",
       "...              ...        ...    ...    ...    ...    ...     ...   \n",
       "2021-05-24    270000    7537000  27.30  28.20  27.30  28.10    0.60   \n",
       "2021-05-25    411000   11692000  28.15  28.70  28.15  28.35    0.25   \n",
       "2021-05-26    163000    4601000  28.40  28.50  28.10  28.20   -0.15   \n",
       "2021-05-27    251000    7093000  28.05  28.40  27.90  28.20    0.00   \n",
       "2021-05-28    363000   10333000  28.30  28.65  28.30  28.60    0.40   \n",
       "\n",
       "            transaction  \n",
       "date                     \n",
       "2015-01-05         1799  \n",
       "2015-01-06          969  \n",
       "2015-01-07          706  \n",
       "2015-01-08         2201  \n",
       "2015-01-09         1059  \n",
       "...                 ...  \n",
       "2021-05-24          196  \n",
       "2021-05-25          282  \n",
       "2021-05-26          105  \n",
       "2021-05-27          138  \n",
       "2021-05-28          189  \n",
       "\n",
       "[1562 rows x 8 columns]"
      ]
     },
     "execution_count": 17,
     "metadata": {},
     "output_type": "execute_result"
    }
   ],
   "source": [
    "stock_6207_2018_pd"
   ]
  },
  {
   "cell_type": "code",
   "execution_count": 18,
   "metadata": {},
   "outputs": [
    {
     "name": "stderr",
     "output_type": "stream",
     "text": [
      "C:\\Users\\devil\\anaconda3\\lib\\site-packages\\matplotlib\\backends\\backend_agg.py:238: RuntimeWarning: Glyph 38647 missing from current font.\n",
      "  font.set_text(s, 0.0, flags=flags)\n",
      "C:\\Users\\devil\\anaconda3\\lib\\site-packages\\matplotlib\\backends\\backend_agg.py:238: RuntimeWarning: Glyph 31185 missing from current font.\n",
      "  font.set_text(s, 0.0, flags=flags)\n",
      "C:\\Users\\devil\\anaconda3\\lib\\site-packages\\matplotlib\\backends\\backend_agg.py:238: RuntimeWarning: Glyph 32929 missing from current font.\n",
      "  font.set_text(s, 0.0, flags=flags)\n",
      "C:\\Users\\devil\\anaconda3\\lib\\site-packages\\matplotlib\\backends\\backend_agg.py:238: RuntimeWarning: Glyph 20221 missing from current font.\n",
      "  font.set_text(s, 0.0, flags=flags)\n",
      "C:\\Users\\devil\\anaconda3\\lib\\site-packages\\matplotlib\\backends\\backend_agg.py:238: RuntimeWarning: Glyph 38283 missing from current font.\n",
      "  font.set_text(s, 0.0, flags=flags)\n",
      "C:\\Users\\devil\\anaconda3\\lib\\site-packages\\matplotlib\\backends\\backend_agg.py:238: RuntimeWarning: Glyph 30436 missing from current font.\n",
      "  font.set_text(s, 0.0, flags=flags)\n",
      "C:\\Users\\devil\\anaconda3\\lib\\site-packages\\matplotlib\\backends\\backend_agg.py:238: RuntimeWarning: Glyph 25910 missing from current font.\n",
      "  font.set_text(s, 0.0, flags=flags)\n",
      "C:\\Users\\devil\\anaconda3\\lib\\site-packages\\matplotlib\\backends\\backend_agg.py:238: RuntimeWarning: Glyph 20729 missing from current font.\n",
      "  font.set_text(s, 0.0, flags=flags)\n",
      "C:\\Users\\devil\\anaconda3\\lib\\site-packages\\matplotlib\\backends\\backend_agg.py:238: RuntimeWarning: Glyph 26354 missing from current font.\n",
      "  font.set_text(s, 0.0, flags=flags)\n",
      "C:\\Users\\devil\\anaconda3\\lib\\site-packages\\matplotlib\\backends\\backend_agg.py:238: RuntimeWarning: Glyph 32218 missing from current font.\n",
      "  font.set_text(s, 0.0, flags=flags)\n",
      "C:\\Users\\devil\\anaconda3\\lib\\site-packages\\matplotlib\\backends\\backend_agg.py:238: RuntimeWarning: Glyph 26085 missing from current font.\n",
      "  font.set_text(s, 0.0, flags=flags)\n",
      "C:\\Users\\devil\\anaconda3\\lib\\site-packages\\matplotlib\\backends\\backend_agg.py:238: RuntimeWarning: Glyph 26399 missing from current font.\n",
      "  font.set_text(s, 0.0, flags=flags)\n",
      "C:\\Users\\devil\\anaconda3\\lib\\site-packages\\matplotlib\\backends\\backend_agg.py:201: RuntimeWarning: Glyph 26085 missing from current font.\n",
      "  font.set_text(s, 0, flags=flags)\n",
      "C:\\Users\\devil\\anaconda3\\lib\\site-packages\\matplotlib\\backends\\backend_agg.py:201: RuntimeWarning: Glyph 26399 missing from current font.\n",
      "  font.set_text(s, 0, flags=flags)\n",
      "C:\\Users\\devil\\anaconda3\\lib\\site-packages\\matplotlib\\backends\\backend_agg.py:201: RuntimeWarning: Glyph 25910 missing from current font.\n",
      "  font.set_text(s, 0, flags=flags)\n",
      "C:\\Users\\devil\\anaconda3\\lib\\site-packages\\matplotlib\\backends\\backend_agg.py:201: RuntimeWarning: Glyph 30436 missing from current font.\n",
      "  font.set_text(s, 0, flags=flags)\n",
      "C:\\Users\\devil\\anaconda3\\lib\\site-packages\\matplotlib\\backends\\backend_agg.py:201: RuntimeWarning: Glyph 20729 missing from current font.\n",
      "  font.set_text(s, 0, flags=flags)\n",
      "C:\\Users\\devil\\anaconda3\\lib\\site-packages\\matplotlib\\backends\\backend_agg.py:201: RuntimeWarning: Glyph 38647 missing from current font.\n",
      "  font.set_text(s, 0, flags=flags)\n",
      "C:\\Users\\devil\\anaconda3\\lib\\site-packages\\matplotlib\\backends\\backend_agg.py:201: RuntimeWarning: Glyph 31185 missing from current font.\n",
      "  font.set_text(s, 0, flags=flags)\n",
      "C:\\Users\\devil\\anaconda3\\lib\\site-packages\\matplotlib\\backends\\backend_agg.py:201: RuntimeWarning: Glyph 32929 missing from current font.\n",
      "  font.set_text(s, 0, flags=flags)\n",
      "C:\\Users\\devil\\anaconda3\\lib\\site-packages\\matplotlib\\backends\\backend_agg.py:201: RuntimeWarning: Glyph 20221 missing from current font.\n",
      "  font.set_text(s, 0, flags=flags)\n",
      "C:\\Users\\devil\\anaconda3\\lib\\site-packages\\matplotlib\\backends\\backend_agg.py:201: RuntimeWarning: Glyph 38283 missing from current font.\n",
      "  font.set_text(s, 0, flags=flags)\n",
      "C:\\Users\\devil\\anaconda3\\lib\\site-packages\\matplotlib\\backends\\backend_agg.py:201: RuntimeWarning: Glyph 26354 missing from current font.\n",
      "  font.set_text(s, 0, flags=flags)\n",
      "C:\\Users\\devil\\anaconda3\\lib\\site-packages\\matplotlib\\backends\\backend_agg.py:201: RuntimeWarning: Glyph 32218 missing from current font.\n",
      "  font.set_text(s, 0, flags=flags)\n"
     ]
    },
    {
     "data": {
      "image/png": "[encoded data removed]",
      "text/plain": [
       "<Figure size 720x432 with 1 Axes>"
      ]
     },
     "metadata": {
      "needs_background": "light"
     },
     "output_type": "display_data"
    }
   ],
   "source": [
    "fig = plt.figure(figsize=(10, 6))\n",
    "plt.plot(stock_6207_2018_pd.close, '-' , label=\"收盤價\")\n",
    "plt.plot(stock_6207_2018_pd.open, '-' , label=\"開盤價\")\n",
    "plt.title('雷科股份2018 開盤/收盤價曲線',loc='right')\n",
    "# loc->title的位置\n",
    "plt.xlabel('日期')\n",
    "plt.ylabel('收盤價')\n",
    "plt.grid(True, axis='y')\n",
    "plt.legend()\n",
    "fig.savefig('day20_01.png')"
   ]
  },
  {
   "cell_type": "code",
   "execution_count": null,
   "metadata": {},
   "outputs": [],
   "source": []
  }
 ],
 "metadata": {
  "kernelspec": {
   "display_name": "Python 3",
   "language": "python",
   "name": "python3"
  },
  "language_info": {
   "codemirror_mode": {
    "name": "ipython",
    "version": 3
   },
   "file_extension": ".py",
   "mimetype": "text/x-python",
   "name": "python",
   "nbconvert_exporter": "python",
   "pygments_lexer": "ipython3",
   "version": "3.8.10"
  }
 },
 "nbformat": 4,
 "nbformat_minor": 4
}
