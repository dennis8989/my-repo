{
 "cells": [
  {
   "cell_type": "markdown",
   "id": "981ee197-56f7-4cf4-83bd-2a25016f2a45",
   "metadata": {
    "jupyter": {
     "outputs_hidden": true
    },
    "tags": []
   },
   "source": [
    "!pip install libpurecoollink\n"
   ]
  },
  {
   "cell_type": "code",
   "execution_count": 20,
   "id": "07eef735-6a61-4669-9ad2-b28488cb0d3c",
   "metadata": {},
   "outputs": [
    {
     "name": "stdout",
     "output_type": "stream",
     "text": [
      "Unable to login to Dyson account\n"
     ]
    },
    {
     "name": "stderr",
     "output_type": "stream",
     "text": [
      "C:\\Users\\devil\\.conda\\envs\\linebot\\lib\\site-packages\\urllib3\\connectionpool.py:997: InsecureRequestWarning: Unverified HTTPS request is being made to host 'api.cp.dyson.com'. Adding certificate verification is strongly advised. See: https://urllib3.readthedocs.io/en/latest/advanced-usage.html#ssl-warnings\n",
      "  warnings.warn(\n"
     ]
    }
   ],
   "source": [
    "from libpurecoollink.dyson import DysonAccount\n",
    "\n",
    "# Log to Dyson account\n",
    "# Language is a two characters code (eg: FR)\n",
    "# dyson_account = DysonAccount(\"devilcool1985@gmail.com\",\"dl110789\",\"TW\")\n",
    "dyson_account = DysonAccount(\"leo21018@hotmail.com\",\"dl110789\",\"TW\")\n",
    "logged = dyson_account.login()\n",
    "if not logged:\n",
    "    print('Unable to login to Dyson account')\n",
    "    exit(1)"
   ]
  },
  {
   "cell_type": "code",
   "execution_count": 15,
   "id": "e5bde92e-2f9d-4388-8c0d-bf9c4c830598",
   "metadata": {},
   "outputs": [
    {
     "name": "stderr",
     "output_type": "stream",
     "text": [
      "Not logged to Dyson Web Services.\n"
     ]
    },
    {
     "ename": "DysonNotLoggedException",
     "evalue": "",
     "output_type": "error",
     "traceback": [
      "\u001b[1;31m---------------------------------------------------------------------------\u001b[0m",
      "\u001b[1;31mDysonNotLoggedException\u001b[0m                   Traceback (most recent call last)",
      "\u001b[1;32m<ipython-input-15-a48751202bd7>\u001b[0m in \u001b[0;36m<module>\u001b[1;34m\u001b[0m\n\u001b[0;32m      1\u001b[0m \u001b[1;31m# List devices available on the Dyson account\u001b[0m\u001b[1;33m\u001b[0m\u001b[1;33m\u001b[0m\u001b[1;33m\u001b[0m\u001b[0m\n\u001b[1;32m----> 2\u001b[1;33m \u001b[0mdevices\u001b[0m \u001b[1;33m=\u001b[0m \u001b[0mdyson_account\u001b[0m\u001b[1;33m.\u001b[0m\u001b[0mdevices\u001b[0m\u001b[1;33m(\u001b[0m\u001b[1;33m)\u001b[0m\u001b[1;33m\u001b[0m\u001b[1;33m\u001b[0m\u001b[0m\n\u001b[0m",
      "\u001b[1;32m~\\.conda\\envs\\linebot\\lib\\site-packages\\libpurecoollink\\dyson.py\u001b[0m in \u001b[0;36mdevices\u001b[1;34m(self)\u001b[0m\n\u001b[0;32m     72\u001b[0m         \u001b[1;32melse\u001b[0m\u001b[1;33m:\u001b[0m\u001b[1;33m\u001b[0m\u001b[1;33m\u001b[0m\u001b[0m\n\u001b[0;32m     73\u001b[0m             \u001b[0m_LOGGER\u001b[0m\u001b[1;33m.\u001b[0m\u001b[0mwarning\u001b[0m\u001b[1;33m(\u001b[0m\u001b[1;34m\"Not logged to Dyson Web Services.\"\u001b[0m\u001b[1;33m)\u001b[0m\u001b[1;33m\u001b[0m\u001b[1;33m\u001b[0m\u001b[0m\n\u001b[1;32m---> 74\u001b[1;33m             \u001b[1;32mraise\u001b[0m \u001b[0mDysonNotLoggedException\u001b[0m\u001b[1;33m(\u001b[0m\u001b[1;33m)\u001b[0m\u001b[1;33m\u001b[0m\u001b[1;33m\u001b[0m\u001b[0m\n\u001b[0m\u001b[0;32m     75\u001b[0m \u001b[1;33m\u001b[0m\u001b[0m\n\u001b[0;32m     76\u001b[0m     \u001b[1;33m@\u001b[0m\u001b[0mproperty\u001b[0m\u001b[1;33m\u001b[0m\u001b[1;33m\u001b[0m\u001b[0m\n",
      "\u001b[1;31mDysonNotLoggedException\u001b[0m: "
     ]
    }
   ],
   "source": [
    "# List devices available on the Dyson account\n",
    "devices = dyson_account.devices()"
   ]
  },
  {
   "cell_type": "code",
   "execution_count": null,
   "id": "7248978a-c861-45a5-aa32-8c1934071171",
   "metadata": {},
   "outputs": [],
   "source": []
  },
  {
   "cell_type": "code",
   "execution_count": null,
   "id": "b3cc1a3a-abfe-4ff7-bf8e-5b7262a42014",
   "metadata": {},
   "outputs": [],
   "source": []
  }
 ],
 "metadata": {
  "kernelspec": {
   "display_name": "Python 3",
   "language": "python",
   "name": "python3"
  },
  "language_info": {
   "codemirror_mode": {
    "name": "ipython",
    "version": 3
   },
   "file_extension": ".py",
   "mimetype": "text/x-python",
   "name": "python",
   "nbconvert_exporter": "python",
   "pygments_lexer": "ipython3",
   "version": "3.8.10"
  }
 },
 "nbformat": 4,
 "nbformat_minor": 5
}
