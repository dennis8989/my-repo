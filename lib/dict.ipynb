{
 "cells": [
  {
   "cell_type": "markdown",
   "id": "73b6c96a-1756-492a-a89a-3b5eb1ad0760",
   "metadata": {},
   "source": [
    "#### clssify by type"
   ]
  },
  {
   "cell_type": "code",
   "execution_count": 4,
   "id": "41f81ba7-a5bd-48de-8dd7-fa189fbca4bc",
   "metadata": {},
   "outputs": [],
   "source": [
    "models = [{\"type\":\"apple\"},{\"type\":\"apple\"},{\"type\":\"orange\"},{\"type\":\"banana\"},{\"type\":\"orange\"}]"
   ]
  },
  {
   "cell_type": "code",
   "execution_count": 22,
   "id": "46656caf-8892-4df1-82f9-ac12a0098cfd",
   "metadata": {},
   "outputs": [
    {
     "data": {
      "text/plain": [
       "[{type: 'apple'}, {type: 'apple'}]"
      ]
     },
     "execution_count": 22,
     "metadata": {},
     "output_type": "execute_result"
    }
   ],
   "source": [
    "category ={}\n",
    "for model in models:\n",
    "    if not category.get(model[type]):\n",
    "        category[model[type]] = [model]\n",
    "    else:\n",
    "        category[model[type]] = category.get(model[type]) + [model]\n",
    "category[\"apple\"]"
   ]
  },
  {
   "cell_type": "code",
   "execution_count": 25,
   "id": "d4708d07-36ea-4ae7-b92b-733f43ddb74a",
   "metadata": {},
   "outputs": [
    {
     "data": {
      "text/plain": [
       "{'apple': [{type: 'apple'}, {type: 'apple'}],\n",
       " 'orange': [{type: 'orange'}, {type: 'orange'}],\n",
       " 'banana': [{type: 'banana'}]}"
      ]
     },
     "execution_count": 25,
     "metadata": {},
     "output_type": "execute_result"
    }
   ],
   "source": [
    "category"
   ]
  },
  {
   "cell_type": "code",
   "execution_count": null,
   "id": "ea9211bb-5d22-4636-b2b2-090fe0db4ff5",
   "metadata": {},
   "outputs": [],
   "source": []
  }
 ],
 "metadata": {
  "kernelspec": {
   "display_name": "Python 3",
   "language": "python",
   "name": "python3"
  },
  "language_info": {
   "codemirror_mode": {
    "name": "ipython",
    "version": 3
   },
   "file_extension": ".py",
   "mimetype": "text/x-python",
   "name": "python",
   "nbconvert_exporter": "python",
   "pygments_lexer": "ipython3",
   "version": "3.8.8"
  }
 },
 "nbformat": 4,
 "nbformat_minor": 5
}
