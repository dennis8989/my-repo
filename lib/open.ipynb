{
 "cells": [
  {
   "cell_type": "code",
   "execution_count": 40,
   "metadata": {},
   "outputs": [
    {
     "name": "stdout",
     "output_type": "stream",
     "text": [
      "Try to use file.write()\n",
      "Hail HYDRA\n"
     ]
    }
   ],
   "source": [
    "f = open(\"open.txt\", \"r\")\n",
    "word = f.read()\n",
    "first_line = f.readline()\n",
    "second_line = f.readlines()\n",
    "print(word)\n",
    "# first_line\n",
    "f.close()\n"
   ]
  },
  {
   "cell_type": "code",
   "execution_count": 30,
   "metadata": {},
   "outputs": [
    {
     "name": "stdout",
     "output_type": "stream",
     "text": [
      "123\n",
      "\n",
      "1313 \\n\n",
      "\n",
      "adadf\n"
     ]
    }
   ],
   "source": [
    "f = open(\"open.txt\", \"r\")\n",
    "for line in f:\n",
    "    print(line)\n",
    "f.close()"
   ]
  },
  {
   "cell_type": "code",
   "execution_count": 35,
   "metadata": {},
   "outputs": [],
   "source": [
    "f = open('open.txt', 'w')\n",
    "f.write(\"this \\t dsfa\")\n",
    "f.close()"
   ]
  },
  {
   "cell_type": "code",
   "execution_count": 37,
   "metadata": {},
   "outputs": [],
   "source": [
    "f = open('open.txt', 'w')\n",
    "seq = [\"Try to use file.write()\\n\",\"Hail HYDRA\"]\n",
    "f.writelines(seq)\n",
    "f.close()"
   ]
  },
  {
   "cell_type": "code",
   "execution_count": 41,
   "metadata": {},
   "outputs": [],
   "source": [
    "movielist=[\"The Shawshank Redemption\", \n",
    "           \"The Godfather\", \n",
    "           \"The Dark Knight\", \n",
    "           \"12 Angry Men\", \n",
    "           \"Schindler's List\", \n",
    "           \"The Lord of the Rings: The Return of the King\", \n",
    "           \"Pulp Fiction\", \n",
    "           \"Fight Club\"]"
   ]
  },
  {
   "cell_type": "code",
   "execution_count": 42,
   "metadata": {},
   "outputs": [],
   "source": [
    "f = open('movies.txt','w')\n",
    "print(movielist, file = f)\n",
    "f.close()"
   ]
  },
  {
   "cell_type": "code",
   "execution_count": 44,
   "metadata": {},
   "outputs": [
    {
     "name": "stdout",
     "output_type": "stream",
     "text": [
      "Try to use file.write()\n",
      "\n",
      "Hail HYDRA\n",
      "Try to use file.write()\n",
      "\n",
      "Hail HYDRA\n",
      "35\n"
     ]
    }
   ],
   "source": [
    "f = open('open.txt')\n",
    "for line in f:\n",
    "    print(line)\n",
    "f.seek(0) #將指針歸位到最開頭的地方 f.seek(1):從第2個字母開始讀取\n",
    "for line in f:\n",
    "    print(line)\n",
    "print(f.tell()) #指針目前位子\n",
    "f.close()"
   ]
  },
  {
   "cell_type": "code",
   "execution_count": null,
   "metadata": {},
   "outputs": [],
   "source": []
  }
 ],
 "metadata": {
  "kernelspec": {
   "display_name": "Python 3",
   "language": "python",
   "name": "python3"
  },
  "language_info": {
   "codemirror_mode": {
    "name": "ipython",
    "version": 3
   },
   "file_extension": ".py",
   "mimetype": "text/x-python",
   "name": "python",
   "nbconvert_exporter": "python",
   "pygments_lexer": "ipython3",
   "version": "3.8.5"
  }
 },
 "nbformat": 4,
 "nbformat_minor": 4
}
