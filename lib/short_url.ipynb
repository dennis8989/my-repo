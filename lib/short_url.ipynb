{
 "cells": [
  {
   "cell_type": "markdown",
   "metadata": {},
   "source": [
    "# short url"
   ]
  },
  {
   "cell_type": "code",
   "execution_count": 1,
   "metadata": {},
   "outputs": [],
   "source": [
    "import bitlyshortener\n",
    "tokens_pool = ['533974390e18ead340d15f7845ab032349f16e10','d30faf515a949e8347e9158a22bf490d3f334cf5']  # Use your own.\n",
    "shortener = bitlyshortener.Shortener(tokens=tokens_pool, max_cache_size=256)"
   ]
  },
  {
   "cell_type": "code",
   "execution_count": 2,
   "metadata": {
    "tags": []
   },
   "outputs": [
    {
     "data": {
      "text/plain": [
       "['https://amzn.to/3f5QTdM', 'https://cnn.it/3tyk9iv', 'https://j.mp/3flEJOb']"
      ]
     },
     "execution_count": 2,
     "metadata": {},
     "output_type": "execute_result"
    }
   ],
   "source": [
    "long_urls = ['https://www.amazon.com/gp/product/B07LFJMS2S/', 'https://www.cnn.com/election/2020', 'https://paperswithcode.com/sota']\n",
    "shortener.shorten_urls(long_urls)"
   ]
  },
  {
   "cell_type": "code",
   "execution_count": 3,
   "metadata": {},
   "outputs": [
    {
     "name": "stdout",
     "output_type": "stream",
     "text": [
      "Help on Shortener in module bitlyshortener.shortener object:\n",
      "\n",
      "class Shortener(builtins.object)\n",
      " |  Shortener(*, tokens: List[str], max_cache_size: int = 256)\n",
      " |  \n",
      " |  Shortener.\n",
      " |  \n",
      " |  Methods defined here:\n",
      " |  \n",
      " |  __init__(self, *, tokens: List[str], max_cache_size: int = 256)\n",
      " |      Initialize self.  See help(type(self)) for accurate signature.\n",
      " |  \n",
      " |  shorten_urls(self, long_urls: List[str]) -> List[str]\n",
      " |      Return a list of short URLs for the given long URLs.\n",
      " |  \n",
      " |  shorten_urls_to_dict(self, long_urls: List[str]) -> Dict[str, str]\n",
      " |      Return a mapping of short URLs for the given long URLs.\n",
      " |  \n",
      " |  usage(self) -> float\n",
      " |      Return the fraction of URL shortening quota used across the pool of tokens for the current calendar month.\n",
      " |      \n",
      " |      The returned value is cached for an hour for the class instance.\n",
      " |      This is to attempt to prevent the usage tracking quota from being exceeded.\n",
      " |  \n",
      " |  ----------------------------------------------------------------------\n",
      " |  Readonly properties defined here:\n",
      " |  \n",
      " |  cache_info\n",
      " |      Return cache info.\n",
      " |  \n",
      " |  ----------------------------------------------------------------------\n",
      " |  Data descriptors defined here:\n",
      " |  \n",
      " |  __dict__\n",
      " |      dictionary for instance variables (if defined)\n",
      " |  \n",
      " |  __weakref__\n",
      " |      list of weak references to the object (if defined)\n",
      "\n"
     ]
    }
   ],
   "source": [
    "help(shortener)"
   ]
  },
  {
   "cell_type": "code",
   "execution_count": 5,
   "metadata": {
    "tags": []
   },
   "outputs": [
    {
     "ename": "ZeroDivisionError",
     "evalue": "float division by zero",
     "output_type": "error",
     "traceback": [
      "\u001b[1;31m---------------------------------------------------------------------------\u001b[0m",
      "\u001b[1;31mZeroDivisionError\u001b[0m                         Traceback (most recent call last)",
      "\u001b[1;32m<ipython-input-5-e2fea0e8b471>\u001b[0m in \u001b[0;36m<module>\u001b[1;34m\u001b[0m\n\u001b[1;32m----> 1\u001b[1;33m \u001b[0mshortener\u001b[0m\u001b[1;33m.\u001b[0m\u001b[0mshorten_urls_to_dict\u001b[0m\u001b[1;33m(\u001b[0m\u001b[0mlong_urls\u001b[0m\u001b[1;33m)\u001b[0m\u001b[1;33m\u001b[0m\u001b[1;33m\u001b[0m\u001b[0m\n\u001b[0m",
      "\u001b[1;32mC:\\ProgramData\\Anaconda3\\lib\\site-packages\\bitlyshortener\\shortener.py\u001b[0m in \u001b[0;36mshorten_urls_to_dict\u001b[1;34m(self, long_urls)\u001b[0m\n\u001b[0;32m    286\u001b[0m         \u001b[1;34m\"\"\"Return a mapping of short URLs for the given long URLs.\"\"\"\u001b[0m\u001b[1;33m\u001b[0m\u001b[1;33m\u001b[0m\u001b[0m\n\u001b[0;32m    287\u001b[0m         \u001b[0mself\u001b[0m\u001b[1;33m.\u001b[0m\u001b[0m_check_long_urls\u001b[0m\u001b[1;33m(\u001b[0m\u001b[0mlong_urls\u001b[0m\u001b[1;33m)\u001b[0m\u001b[1;33m\u001b[0m\u001b[1;33m\u001b[0m\u001b[0m\n\u001b[1;32m--> 288\u001b[1;33m         \u001b[0mshort_urls\u001b[0m \u001b[1;33m=\u001b[0m \u001b[0mself\u001b[0m\u001b[1;33m.\u001b[0m\u001b[0mshorten_urls\u001b[0m\u001b[1;33m(\u001b[0m\u001b[0mlong_urls\u001b[0m\u001b[1;33m)\u001b[0m\u001b[1;33m\u001b[0m\u001b[1;33m\u001b[0m\u001b[0m\n\u001b[0m\u001b[0;32m    289\u001b[0m         \u001b[0murl_map\u001b[0m \u001b[1;33m=\u001b[0m \u001b[0mdict\u001b[0m\u001b[1;33m(\u001b[0m\u001b[0mzip\u001b[0m\u001b[1;33m(\u001b[0m\u001b[0mlong_urls\u001b[0m\u001b[1;33m,\u001b[0m \u001b[0mshort_urls\u001b[0m\u001b[1;33m)\u001b[0m\u001b[1;33m)\u001b[0m\u001b[1;33m\u001b[0m\u001b[1;33m\u001b[0m\u001b[0m\n\u001b[0;32m    290\u001b[0m         \u001b[1;32mreturn\u001b[0m \u001b[0murl_map\u001b[0m\u001b[1;33m\u001b[0m\u001b[1;33m\u001b[0m\u001b[0m\n",
      "\u001b[1;32mC:\\ProgramData\\Anaconda3\\lib\\site-packages\\bitlyshortener\\shortener.py\u001b[0m in \u001b[0;36mshorten_urls\u001b[1;34m(self, long_urls)\u001b[0m\n\u001b[0;32m    271\u001b[0m         \u001b[0mnum_short_urls\u001b[0m \u001b[1;33m=\u001b[0m \u001b[0mlen\u001b[0m\u001b[1;33m(\u001b[0m\u001b[0mshort_urls\u001b[0m\u001b[1;33m)\u001b[0m\u001b[1;33m\u001b[0m\u001b[1;33m\u001b[0m\u001b[0m\n\u001b[0;32m    272\u001b[0m         \u001b[1;32massert\u001b[0m \u001b[0mnum_long_urls\u001b[0m \u001b[1;33m==\u001b[0m \u001b[0mnum_short_urls\u001b[0m\u001b[1;33m\u001b[0m\u001b[1;33m\u001b[0m\u001b[0m\n\u001b[1;32m--> 273\u001b[1;33m         \u001b[0mrate_per_second\u001b[0m \u001b[1;33m=\u001b[0m \u001b[0mnum_short_urls\u001b[0m \u001b[1;33m/\u001b[0m \u001b[0mtime_used\u001b[0m\u001b[1;33m\u001b[0m\u001b[1;33m\u001b[0m\u001b[0m\n\u001b[0m\u001b[0;32m    274\u001b[0m         log.info(\n\u001b[0;32m    275\u001b[0m             \u001b[1;34m\"%s retrieved %s short URLs%s in %.1fs at a rate of %s/s. %s\"\u001b[0m\u001b[1;33m,\u001b[0m\u001b[1;33m\u001b[0m\u001b[1;33m\u001b[0m\u001b[0m\n",
      "\u001b[1;31mZeroDivisionError\u001b[0m: float division by zero"
     ]
    }
   ],
   "source": [
    "shortener.shorten_urls_to_dict(long_urls)"
   ]
  },
  {
   "cell_type": "code",
   "execution_count": 6,
   "metadata": {},
   "outputs": [
    {
     "data": {
      "text/plain": [
       "0.002"
      ]
     },
     "execution_count": 6,
     "metadata": {},
     "output_type": "execute_result"
    }
   ],
   "source": [
    "shortener.usage()"
   ]
  }
 ],
 "metadata": {
  "kernelspec": {
   "display_name": "Python 3",
   "language": "python",
   "name": "python3"
  },
  "language_info": {
   "codemirror_mode": {
    "name": "ipython",
    "version": 3
   },
   "file_extension": ".py",
   "mimetype": "text/x-python",
   "name": "python",
   "nbconvert_exporter": "python",
   "pygments_lexer": "ipython3",
   "version": "3.8.5"
  }
 },
 "nbformat": 4,
 "nbformat_minor": 4
}
