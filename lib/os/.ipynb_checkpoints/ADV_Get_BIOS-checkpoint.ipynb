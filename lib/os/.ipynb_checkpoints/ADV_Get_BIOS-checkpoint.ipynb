{
 "cells": [
  {
   "cell_type": "code",
   "execution_count": 1,
   "metadata": {},
   "outputs": [],
   "source": [
    "import os\n",
    "import re"
   ]
  },
  {
   "cell_type": "markdown",
   "metadata": {},
   "source": [
    "# list all filename"
   ]
  },
  {
   "cell_type": "code",
   "execution_count": 2,
   "metadata": {
    "tags": []
   },
   "outputs": [
    {
     "name": "stdout",
     "output_type": "stream",
     "text": [
      "C:\\Users\\dennis89.huang\\Downloads\\line-bot-tutorial-master\n",
      "C:\\Users\\dennis89.huang\\Downloads\\wsusoffline120\n",
      "C:\\Users\\dennis89.huang\\Downloads\\新增資料夾\n"
     ]
    }
   ],
   "source": [
    "url ='Y://NEW'\n",
    "url = r\"C:\\Users\\dennis89.huang\\Downloads\"\n",
    "list = os.listdir(url)\n",
    "list\n",
    "for i in list:\n",
    "    if i != \"Forti Client VPN\":\n",
    "        file_path = os.path.join(url, i)\n",
    "\n",
    "        try:\n",
    "            os.remove(file_path)\n",
    "        except:\n",
    "            print(file_path)\n",
    "            pass"
   ]
  },
  {
   "cell_type": "markdown",
   "metadata": {},
   "source": [
    "# rename"
   ]
  },
  {
   "cell_type": "code",
   "execution_count": 34,
   "metadata": {
    "collapsed": true,
    "jupyter": {
     "outputs_hidden": true
    },
    "tags": []
   },
   "outputs": [
    {
     "name": "stdout",
     "output_type": "stream",
     "text": [
      " ( NEW ) ! g@y japan - [hercules] Starved Men (雄餓 - 筋肉奴隷復讐外伝) [WFA61] (2 117 799 880).mp4\n",
      "[bravo!] Super-Brother with Sex Object (超兄貴W肉便器) - 1of2 [BRV56] (1 107 312 982).avi\n",
      "[bravo!] Super-Brother with Sex Object (超兄貴W肉便器) - 2of2 [BRV56] (1 733 227 572).avi\n",
      "[g@mes] Brawny Dick (ガタイマラ) - 720p [GMS398] (2 092 502 946).mp4\n",
      "[gumption] Sex Errantry with Mr. Aota in Taiwan (青田先生と行く!! 台湾ズコバコ武者修) [STG25] 2 097 654 248).mp4\n",
      " ( NEWRIP ) ! gay japan - [danji plus!] Desire Under the Uniforms (制服の下の欲望) [DNJ124] (1 846 458 404).mp4\n",
      "!NEW 【ブルビデオ】 がち太トライアングル.avi\n",
      "[bravo!] Wind God Gorita (風神ゴリ太 - 元カレとの変態エロマン対決!) - 1of2 [BRV96] (2 040 344 269).mp4\n",
      "[bravo!] Wind God Gorita (風神ゴリ太 - 元カレとの変態エロマン対決!) - 2of2 [BRV96] (1 743 182 084).mp4\n",
      "[gumption] Super Models Final - 2of2 [STG24] (1 662 114 447).mp4\n",
      "[hercules] Starved Men (雄餓 - 筋肉奴隷復讐外伝) [WFA61] (2 117 799 880).avi\n",
      "[hercules] Starved Men (雄餓 - 筋肉奴隷復讐外伝) [WFA61] (2 117 799 880).mp4\n",
      "(Falcon - Sean Zevran and Brandon Rivers - Deep Release.vg1.2016.11.04.mp4\n",
      "(hunk-ch)WAM-015.mp4\n",
      "(Mormon Boyz - Elder White &amp; President Oaks – The New Name (Bareback) 1080p.mp4\n",
      "(ゲイ)【BUMP】 スペルマ喰いしん坊主.avi\n",
      "Alphamale - Maxwell Barber - Best Of Carlo Cox - Carlo Cox, Rocco Banks, Trojan Rock, Alex Corsi, Dan Vega, Dean Monroe, Parker Williams, Butch Grand.avi\n",
      "Bareback That Hole - Sailor Blue & Freddy Wolf.mp4\n",
      "Bravo! - TOUGH2 &#12496;&#12522;&#12522;&#12496;野郎&#12398;FUCK1週間!!.avi\n",
      "Breed Me Raw - Adam Ryker and Tyler Reed (Bareback).mp4\n",
      "Breederfuckers - Officer Brad - CMNM.avi\n",
      "Bromo - Straight Bitch  - Pt 3 (Addison Graham &amp;amp; Aspen - Bareback).mp4\n",
      "Bromo - Used Muscle - Dee & Peter One (Bareback).mp4\n",
      "BRV144.mp4\n",
      "BRV170.mp4\n",
      "BRV178.mp4\n",
      "BRV181.mp4\n",
      "BRV185.mp4\n",
      "BRV188.mp4\n",
      "BRV189 - Bravo! - Oooops!! ゆるぽ乱交.mp4\n",
      "Butch Dixon - Tattooed Lover Boys.avi\n",
      "Closed Set - Titan Stage One - (Tober Brandt, Keith Webb, Cole Ryan, Derrick Hanson, Hunt Parker, Jon Galt, Josh West, Lee Raleigh, Mark Stern) - 2006.avi\n",
      "Cocksure Men - Bo On Top (2009) Bo Dean, Dak Ramsey, Tory Mason, Alto Cox, Dane Hyde, Brock Heart.mp4\n",
      "CockSure Men - Vic Rocco and Jon Galt Bareback.mp4\n",
      "CocksureMen - Jessy Ares & Phillip Aubrey.wmv\n",
      "DANJI  熟年ザ・ベスト7.mp4\n",
      "DANJI - 乱交好きマッチョ.mpg\n",
      "DANJI - 俺のタチ兄貴が….mp4\n",
      "DANJI MACHO - マッスルボンバー 3 ～ 回されるタチ兄貴.mpg\n",
      "danji.video_DVD.Golden.Couple_プレイバック_三郎.プレイバック 啓太_1of2_日本_同志_同性恋_熊_gay_japan_bear.mkv\n",
      "Dark Alley - Sex Club Sluts 2.avi\n",
      "Dick Wadd - Daddies and Piss Boys.mp4\n",
      "DIVX - 熊雷和浣熊.rmvb\n",
      "Elder_Buckley_&_Bishop_Angus_-_Bishop's_Interview.mp4\n",
      "FuckerMate - Gianni Maggio and Mario Domenech - Horny Neighbours.mp4\n",
      "GANT-041慶悟.mp4\n",
      "Gay - Asian - Beard Project - イカニモ系マッスル +  超テク！髭マッチョ.mp4\n",
      "Gay - Bound Gods Presents- The Kink Avenger - Breaking Point - Scott Ambrose, Lance Hart.mp4\n",
      "Gay - Raging Stallion - Unloaded (2010) Austin Wilde,Ryan Patrick,Christian Wilde,Antonio Biaggi,Brandon Lewis,Cameron Adams Dominic Pacifico,Ethan Storm.mp4\n",
      "Gay - Raw Fuck Club - Tex Ass Fuck 'Em - Adam Russo, Tex Davidson - Bareback.mp4\n",
      "Gay - Titan Men - 2 Men Kiss- Daddies Dirk Caber and Anthony London.mp4\n",
      "Gay Japanese Bear - [Bull Video] 淫獣乱.avi\n",
      "Gay Japanese Bear - [パンダ商会] MBP -マスク・ブリーフ・プレイ-.avi\n",
      "Gay-RFC-All About the Dick-Fernando Esteban & Sean Duran.mp4\n",
      "GMS463.mp4\n",
      "Hardkinks - The Creation (Antonio Miracle, Mario Domenech &amp;amp; Rogan Richards).mp4\n",
      "HH-ChrisBines-AustinWolf.mp4\n",
      "Hot Older Male - Movers and Shakers -Rocky LaBarre & Allen Silver.mp4\n",
      "hotoldermale-2014-Alik Zanders and OceanBear.wmv\n",
      "Hunk Channel – Wam-038 – Black Leather 筋肉の塊に性器が付いたそれは欲望が尽きるまで雄穴に勃起マラをハメ続ける!!!.mp4\n",
      "Hunk-ch - WAM-017.wmv\n",
      "hunk-ch.com_OAV502 - 俺ノブチョウ。～雄臭い憧れの営業本部長が俺のイチモツをケツ穴に誘い込む.mp4\n",
      "INS-0250.mp4\n",
      "Kristen Bjorn - Skins - The Handyman - Ansony & Max Toro & Aymeric Deville.mp4\n",
      "KURUU.闇剛体市場-Secret.Party-踊る肉体、喰われていく精神-飼う人間と飼われる人-2of2-KUR25-古河.mp4\n",
      "Lion.2016.雄狮.720p.Chi_Eng.ZMZ-WEB-MP4.mp4\n",
      "MCO47 バルクマッチョ乱交.wmv\n",
      "MEN - Daddys Secret Part 3 - Aspen, Myles Landon (1080p).mp4\n",
      "MEN - JO - My Two Daddies 3 - Aaron Bruiser, Charlie Harding, John Magnum, Luke Adams & Rikk York.mp4\n",
      "MenOver30 - Alessio Romero & Rogue Status - Real Couple.mp4\n",
      "Mormon Boyz - Elder White – Second Anointing (Bareback) 1080p.mp4\n",
      "MormonBoyz#226 - Elder Ricci - Inspection.mp4\n",
      "MuscleBearPorn - MBP0037 - Show Me How Hungry You Are Boy.mp4\n",
      "MuscleBearPorn - MBP0089 - Born for Big Cock - with Tex Davidson - part 1.mp4\n",
      "MuscleBearPorn - MBP0089 - Born for Big Cock - with Tex Davidson - part 2.mp4\n",
      "NEW! gay japan - [g@mes] Big Muscles Guy 3 - Adult Strong Buttocks (凄筋人３『大人の剛尻』 wild) [GMS294] (1 625 905 402).avi\n",
      "NEW! gay japan - [g@mes] Chunky Short-Haired Guys (ガチ坊主) [GMS289] (1 490 497 150).avi\n",
      "NEW! [hunk-ch.com] INS-0004 ユキヤの熱く火照った雄マ◯コが巨根を飲み込む!!(2015-03-06).mp4\n",
      "NextDoorOriginals_-_Markie_More_&_Derek_Bolt_-_Horny_Husbands.mp4\n",
      "NS-321.mp4\n",
      "OAV529_3000k.mp4\n",
      "Pito Savage & OVi Rusty G - Dream Catcher.mp4\n",
      "Raging Stallion - Beef Squad - Sean Zevran & Joey D.mp4\n",
      "Raging Stallion - High n’ Tight - Rikk York, Mick Stallone & Jackson Grant.mp4\n",
      "Raging Stallion - Hung Country - Martin Mazza & Antonio Miracle.mp4\n",
      "Raw and Rough - Muscle Daddy Gang Bang (Aarin Asker, Dolf Dietrich, Hugh Hunter, Johnny Five & Shay Michaels - Bareback).mp4\n",
      "RoganRichards - Motel Muscle 4 Way.mp4\n",
      "RS - Bruce Beckham, Jason Vario And Mick Stallone.mp4\n",
      "Timtales - Threeway With Italo (Bareback).mp4\n",
      "Titan - Full Access (2009) Francois Sagat, Matthew Rush, Charly Diaz, David Dirdam, Luke Hass, C.J. Madison, J.R. Matthews, Brandon Monroe.avi\n",
      "Titan Men - Parole - Jesse Jackman, Lorenzo Flexx.mp4\n",
      "Titan Men - Rent - Bruce Beckham, Jesse Jackman.mp4\n",
      "TitanMen - CAUKE for FREE - Jesse Jackman Matthew Bosch.mp4\n",
      "TitanMen - Cum Laude - Dirk Caber & Lorenzo Flexx.mp4\n",
      "TitanMen - Cum Laude - Jonah Fontana And Lorenzo Flexx.mp4\n",
      "TitanMen - OUT! - Dirk Caber & Luke Adams.mp4\n",
      "[20150605] hunk-ch - WAM-023 MUSCLE ReBORN 零、絶対覇王の超重量筋肉出現!!!.m4v\n",
      "[bolt] Male Beast (男獣) [BLT22].mp4\n",
      "[bolt] Muscle Bounded (筋縛 -kinbaku-) [BLT25].avi\n",
      "[bravo! ajito] Strike Bulky Macho (ガタイ狂襲) [BRV126].mp4\n",
      "[bravo! ajito] Strike Bulky Macho 2 (ガタイ狂襲 2) [BRV160].mp4\n",
      "[bravo! ajito] Strike Bulky Macho 3 (ヤガイガタイ ～ガタイ狂襲 3～) [BRV175].wmv\n",
      "[bravo! ajito] Taiwan Muscle KAI age39 (台湾マッスルKAI age39) [BRV130].wmv\n",
      "[bravo! ajito] マッスルダディ 純平.avi\n",
      "[Bravo! AJITO] 大狂筋 KEIJI 6 - 乱獣の檻 [BRV201].mp4\n",
      "[Bravo! AJITO] 大胸筋 KEIJI 5 [BRV183].mp4\n",
      "[bravo! oooops!] Spout KENTA Starring! (潮噴きケンタ参上!) [BRV137].wmv\n",
      "[bravo!] ANA-KAN 4 (穴姦 4) [BRV162].mp4\n",
      "[Bravo!] GoGo Fuck!.mp4\n",
      "[bravo!] Juicy Body (肉体果実) [BRV171].wmv\n",
      "[bravo!] ガチハメ狂乱性欲.mp4\n",
      "[Bravo!] 処理穴執行 [BRV144].mp4\n",
      "[BRAVO!]ガタイ狂襲 4 -種喰BEAST[BRV186].mp4\n",
      "[BRAVO!]雄筋Battle.AJITO[BRV197].mp4\n",
      "[BUMP] がちデブモロ感コスプレイ.mp4\n",
      "[Bump] 酔いどれ GMPD.wmv\n",
      "[BUMP]BeefyDaddies(交尾屋ガテン親父)[BMP9].wmv\n",
      "[BUMP]がちデブモロ感コスプレイ.wmv\n",
      "[BUMP]ドリチン包&#33550;BEAR.mp4\n",
      "[BUMP}&#37204;いどれGMPD.wmv\n",
      "[COAT] [KURATATSU] danGet 20 射精尻隷 (88m37s) ogm.mp4\n",
      "[CockSureMen] Charlie Harding Barebacks Mike Dozer.mp4\n",
      "[CYBER GUMPTION].[CYBG03] - BIG PORN.mp4\n",
      "[DANJI OVER40] 狙われた肉体派警部補.avi\n",
      "[danji plus!] 丸の内 - イカニモ銀行員 ～ 短髪のイカニモ系銀行員が職場で犯される！ [DNJ69].mp4\n",
      "[DANJI] DVD Golden Couple (プレイバック 三郎＋プレイバック 啓太) - 2of2.mp4\n",
      "[DANJI] DVD Golden Couple (プレイバック 三郎＋プレイバック 啓太).mp4\n",
      "[danji] 犯られる！マッチョなレスキュー隊員 [DNJ173].wmv\n",
      "[DANJI] 豪傑先輩vs純情後輩.mp4\n",
      "[deep] Jail 4 - Record of Men Who Cry in Agony (爆男極悶絶叫録) [DEP75] [by kunimi smth - Shuo Wang - 王硕 发布].mp4\n",
      "[email]G@MES_W.A.M[_email]. BULK02 - MUSCLE Re-BORN.mp4\n",
      "[eros] Eros Golden Disc 001 - Outbreak &amp;amp; Egotist (is ERS1 + ERS3) [ERS26] (1 539 471 360).avi\n",
      "[eros] GOGGLE MAN 5 [ERS104].wmv\n",
      "[eros] Introduce My Boyfriend (俺の相方紹介します。) [ERS97].mp4\n",
      "[eros] Sex Training Camp of the Semen Monkey Boys (種猿男児のSEX合宿) [ERS102].wmv\n",
      "[eros] 週末の雌犬野郎.avi\n",
      "[G-PROJECT] G-men 2013-05 (G-men 206).mp4\n",
      "[G@Mes Hunk Video] がってん!!伍 ～和熊発情注意～.mp4\n",
      "[g@mes] Gants Okey Dokey Vol.7 (がってん!! 七 ～究極兄貴～) [HNK41].mp4\n",
      "[G@MES] KOSUKE COLLECTION 康介が 浩太郎.avi\n",
      "[g@mes] My Producing vol.1 (僕のプロデュース『投稿妄想再現ビデオ』vol.1) [GMS468].wmv\n",
      "[g@mes].筋肉雄マラ大失禁!!.[GMS488].mp4\n",
      "[hercules] Male Flesh Counterattack (雄肉逆襲 - 厳選!! 究極の対決) - 1of2 [WFA65] (2 098 789 984).mp4\n",
      "[hercules] Male Flesh Counterattack (雄肉逆襲 - 厳選!! 究極の対決) - 2of2 [WFA65] (2 098 886 075).mp4\n",
      "[hunk-ch.com] INS-0152 現場職人を公園で誘い抜き (FullHD版).avi\n",
      "[hunk-ch.com] INS-0203 - GOGO2人のMakotoとShoの雄交尾.mp4\n",
      "[hunk-ch.com] WAM028 MUSCLE Re-BORN 伍、デカマラ性欲魔神がSYOのケツ穴を喰い尽くす!!Lサイズのゴムがはち切れそうになりながら、ひたすら挿入を繰り返すソレは圧巻!!!.mp4\n",
      "[hunk-ch.com] WAM032 BLACK LEATHER 圧倒的な質量を保有する重量級バルクマッチョ!!ハーネスを装着したソレは淫猥に自ら快感を貪る!!!.wmv\n",
      "[hunk-ch.com] [MUSCLE ReBORN] 七 WAM-030 絶対覇王の超重量筋肉の爆裂ピストン容赦ない雄穴ファック遂に解禁!!.avi\n",
      "[HUNK-CH] GANT-035 【GANTS：HD高画質】「和熊発情注意!!」弦太GENTAと露天風呂で淫猥SEX三昧デート!!!淫獣覚醒!!!.mp4\n",
      "[hunk-ch] INS-0048 筋筋BODYのイカついタチとガッチリBODYの両者激射精!.mp4\n",
      "[KO COMPANY] - Scoop!! 8 スクープ!!008 発情筋肉Fuck!.mp4\n",
      "[KO Deep] Rope Men Sex (縛男交尾) [DEP89].mp4\n",
      "[KO DEEP] SPERM VIOLENCE 17 (スペルマバイオレンス 第十七章) [DEP91].mp4\n",
      "[koc.Eros].肉壺猿ウケケツ掘りNIGHT.[ERS108].mp4\n",
      "[KOCOMPANY]強豪-淫乱マッチョ-[KOC316].mp4\n",
      "[kong] ど変態Bearリーマン [KON15].wmv\n",
      "[MenAtPlay] The Master 2 Starring Ted Colunga & Marco Salquiero.mp4\n",
      "[men] Musclebate (Braden Charron, Jimmy Fanz) 1080p.mp4\n",
      "[outlaw - bolt] Anal Addicted Hunks (爆筋アナル狂) [BLT24].mp4\n",
      "[over40-01][2005.4.18]うま味紳士.mp4\n",
      "[Raw Fuck Club] Mario Cruz Fucks Ace Era.mp4\n",
      "[Raw Fuck Club] Muscle Daddy Flip Fuck.mp4\n",
      "[STUDIO GUMPTION] G.S.V ～ガチムチ!! セックス!! バイオレンス!!!～ [STG30].wmv\n",
      "[STUDIO GUMPTION] 淫祭堕.mp4\n",
      "[studio-GUMPTION] Beefy Boyz -ROOKIES 2011 Version.avi\n",
      "[Tim Fuck] Cum Junkie - Sc 7 - Live Boys - Antonio Miracle and Mario Domenech.mp4\n",
      "[TYSON SPORTUS]  Team G.avi\n",
      "[Tyson] Lynch 2 (リンチ 2) [TYS138].mpg\n",
      "[V Factory] V.Complete 義人.完全覚醒 [VFT137].mp4\n",
      "[VFactory] Fuck!!!!! 5 the Best of Fuck!.mpg\n",
      "[VFactory] VFT140 V.Complete 現役大学一年生 学.mp4\n",
      "[wrestle factory] Lock Up ～決戦!!変態筋肉獣～ [WFA127].wmv\n",
      "[[Bromo - Aston Springs.Damien Stone.Dante Colle - Keep Watching.raw.2017.06.30.mp4\n",
      "[[M3N - Drill My Hole - A Return - Damien Crosse and Jessy Ares - 2016.10.19.mp4\n",
      "[爱的进行时].Akron.2015.720p.WEB-DL.x264.AAC-QaFoNE.mkv\n",
      "【DANJI MACHO】マッスルボンバー 2 アナル貫通.mp4\n",
      "【G@MES】ROOM072+アナル専科9、175cm75kgアメフト経験者のしんじ君27歳!!.mp4\n",
      "【HUNK-CH】【W.A.M. x EVE】【WEV-0015】【解放された凶器の巨魔羅を見逃すな!!重量級バルクマッチョ2人が衝撃のシンクロ空中ファック!!!】.mp4\n",
      "【KO】【EROS】【ERS120X】EROS PREMIUM DISC068 - は肉弾戦MUSCLE ISLAND本編未収録の映像をお届け!!.mp4\n",
      "金玉拷問勇太.mp4\n"
     ]
    }
   ],
   "source": [
    "for i in list:\n",
    "    new = re.sub(r\"( \\( NEW\\) \\! gay japan \\- )|^\\!\", \"\", i)\n",
    "#     new = re.sub(r\"m4\", \"mp4\", i)\n",
    "    print(new)\n",
    "#     new = re.sub(r\"^Gay - |^\\[.*\\]\", \"\", i)\n",
    "    os.rename(os.path.join(url,i), os.path.join(url, new))"
   ]
  },
  {
   "cell_type": "code",
   "execution_count": 22,
   "metadata": {},
   "outputs": [
    {
     "ename": "FileNotFoundError",
     "evalue": "[WinError 2] The system cannot find the file specified: './123.txt' -> './new_1\\\\456.txt'",
     "output_type": "error",
     "traceback": [
      "\u001b[1;31m---------------------------------------------------------------------------\u001b[0m",
      "\u001b[1;31mFileNotFoundError\u001b[0m                         Traceback (most recent call last)",
      "\u001b[1;32m<ipython-input-22-229936417e5c>\u001b[0m in \u001b[0;36m<module>\u001b[1;34m\u001b[0m\n\u001b[1;32m----> 1\u001b[1;33m \u001b[0mos\u001b[0m\u001b[1;33m.\u001b[0m\u001b[0mrename\u001b[0m\u001b[1;33m(\u001b[0m\u001b[0mos\u001b[0m\u001b[1;33m.\u001b[0m\u001b[0mpath\u001b[0m\u001b[1;33m.\u001b[0m\u001b[0mjoin\u001b[0m\u001b[1;33m(\u001b[0m\u001b[1;34m\"./\"\u001b[0m\u001b[1;33m,\u001b[0m \u001b[1;34m\"123.txt\"\u001b[0m\u001b[1;33m)\u001b[0m\u001b[1;33m,\u001b[0m \u001b[0mos\u001b[0m\u001b[1;33m.\u001b[0m\u001b[0mpath\u001b[0m\u001b[1;33m.\u001b[0m\u001b[0mjoin\u001b[0m\u001b[1;33m(\u001b[0m\u001b[1;34m\"./new_1\"\u001b[0m\u001b[1;33m,\u001b[0m \u001b[1;34m\"456.txt\"\u001b[0m\u001b[1;33m)\u001b[0m\u001b[1;33m)\u001b[0m\u001b[1;33m\u001b[0m\u001b[1;33m\u001b[0m\u001b[0m\n\u001b[0m",
      "\u001b[1;31mFileNotFoundError\u001b[0m: [WinError 2] The system cannot find the file specified: './123.txt' -> './new_1\\\\456.txt'"
     ]
    }
   ],
   "source": [
    "os.rename(os.path.join(\"./\", \"123.txt\"), os.path.join(\"./new_1\", \"456.txt\"))"
   ]
  },
  {
   "cell_type": "code",
   "execution_count": 32,
   "metadata": {},
   "outputs": [
    {
     "name": "stdout",
     "output_type": "stream",
     "text": [
      "X:\\舊資料3\\123.txt\n"
     ]
    }
   ],
   "source": [
    "print(os.path.join(\"X:\\\\舊資料3\\\\\", \"123.txt\"))"
   ]
  },
  {
   "cell_type": "code",
   "execution_count": 14,
   "metadata": {},
   "outputs": [
    {
     "name": "stdout",
     "output_type": "stream",
     "text": [
      " dew\n",
      "None\n"
     ]
    }
   ],
   "source": [
    "print(re.sub(r\"^Gay\", \"\", 'Gay dew')))"
   ]
  },
  {
   "cell_type": "code",
   "execution_count": 9,
   "metadata": {
    "collapsed": true,
    "jupyter": {
     "outputs_hidden": true
    },
    "tags": []
   },
   "outputs": [
    {
     "name": "stdout",
     "output_type": "stream",
     "text": [
      "檔案: ./re.ipynb\n",
      "檔案: ./datetime.ipynb\n",
      "檔案: ./request.ipynb\n",
      "資料夾: ./.ipynb_checkpoints\n",
      "檔案: ./.ipynb_checkpoints\\re-checkpoint.ipynb\n",
      "檔案: ./.ipynb_checkpoints\\datetime-checkpoint.ipynb\n",
      "檔案: ./.ipynb_checkpoints\\request-checkpoint.ipynb\n",
      "檔案: ./.ipynb_checkpoints\\short_url-checkpoint.ipynb\n",
      "檔案: ./.ipynb_checkpoints\\open-checkpoint.txt\n",
      "檔案: ./.ipynb_checkpoints\\open-checkpoint.ipynb\n",
      "檔案: ./.ipynb_checkpoints\\movies-checkpoint.txt\n",
      "檔案: ./.ipynb_checkpoints\\os-checkpoint.ipynb\n",
      "檔案: ./short_url.ipynb\n",
      "檔案: ./open.txt\n",
      "檔案: ./open.ipynb\n",
      "檔案: ./movies.txt\n",
      "檔案: ./os.ipynb\n",
      "資料夾: ./new\n"
     ]
    }
   ],
   "source": [
    "def find_dir(path):\n",
    "    # 函數功能: 遞迴顯示指定路徑下的所有檔案及資料夾名稱\n",
    "    for fd in os.listdir(path):\n",
    "        full_path=os.path.join(path,fd)\n",
    "        if os.path.isdir(full_path):\n",
    "            print('資料夾:',full_path)\n",
    "            find_dir(full_path)\n",
    "        else:\n",
    "            print('檔案:',full_path)\n",
    "find_dir(\"./\")"
   ]
  },
  {
   "cell_type": "code",
   "execution_count": 8,
   "metadata": {},
   "outputs": [
    {
     "name": "stdout",
     "output_type": "stream",
     "text": [
      "re.ipynb\n",
      "datetime.ipynb\n",
      "request.ipynb\n",
      ".ipynb_checkpoints\n",
      "short_url.ipynb\n",
      "open.txt\n",
      "open.ipynb\n",
      "movies.txt\n",
      "os.ipynb\n",
      "new\n"
     ]
    }
   ],
   "source": [
    "def batch_showname(path):\n",
    "    for fname in os.listdir(path):\n",
    "#         print(os.path.join(path, fname))\n",
    "        print(fname)\n",
    "batch_showname(\"./\")"
   ]
  },
  {
   "cell_type": "markdown",
   "metadata": {},
   "source": [
    "# 查詢當前路徑"
   ]
  },
  {
   "cell_type": "code",
   "execution_count": 8,
   "metadata": {},
   "outputs": [
    {
     "data": {
      "text/plain": [
       "'G:\\\\我的雲端硬碟\\\\Python\\\\Project\\\\test\\\\lib\\\\os'"
      ]
     },
     "execution_count": 8,
     "metadata": {},
     "output_type": "execute_result"
    }
   ],
   "source": [
    "os.getcwd()"
   ]
  },
  {
   "cell_type": "code",
   "execution_count": 3,
   "metadata": {},
   "outputs": [
    {
     "ename": "TypeError",
     "evalue": "'str' object is not callable",
     "output_type": "error",
     "traceback": [
      "\u001b[1;31m---------------------------------------------------------------------------\u001b[0m",
      "\u001b[1;31mTypeError\u001b[0m                                 Traceback (most recent call last)",
      "\u001b[1;32m<ipython-input-3-d6b734d3cc07>\u001b[0m in \u001b[0;36m<module>\u001b[1;34m\u001b[0m\n\u001b[1;32m----> 1\u001b[1;33m \u001b[0mos\u001b[0m\u001b[1;33m.\u001b[0m\u001b[0mname\u001b[0m\u001b[1;33m(\u001b[0m\u001b[1;34m'windows'\u001b[0m\u001b[1;33m)\u001b[0m\u001b[1;33m\u001b[0m\u001b[1;33m\u001b[0m\u001b[0m\n\u001b[0m",
      "\u001b[1;31mTypeError\u001b[0m: 'str' object is not callable"
     ]
    }
   ],
   "source": [
    "os.name('windows')"
   ]
  },
  {
   "cell_type": "code",
   "execution_count": 33,
   "metadata": {},
   "outputs": [],
   "source": [
    "os.remove('test1.txt')"
   ]
  },
  {
   "cell_type": "code",
   "execution_count": 23,
   "metadata": {
    "tags": []
   },
   "outputs": [],
   "source": [
    "os.mkdir('new')"
   ]
  },
  {
   "cell_type": "code",
   "execution_count": 24,
   "metadata": {},
   "outputs": [],
   "source": [
    "os.rmdir('new')"
   ]
  },
  {
   "cell_type": "code",
   "execution_count": 31,
   "metadata": {},
   "outputs": [
    {
     "data": {
      "text/plain": [
       "False"
      ]
     },
     "execution_count": 31,
     "metadata": {},
     "output_type": "execute_result"
    }
   ],
   "source": [
    "os.path.isfile('open.txt')"
   ]
  },
  {
   "cell_type": "code",
   "execution_count": 25,
   "metadata": {},
   "outputs": [
    {
     "data": {
      "text/plain": [
       "True"
      ]
     },
     "execution_count": 25,
     "metadata": {},
     "output_type": "execute_result"
    }
   ],
   "source": [
    "os.path.isdir('new_1')"
   ]
  },
  {
   "cell_type": "code",
   "execution_count": 30,
   "metadata": {},
   "outputs": [
    {
     "data": {
      "text/plain": [
       "('G:\\\\我的雲端硬碟\\\\Python\\\\Project\\\\test', 'lib')"
      ]
     },
     "execution_count": 30,
     "metadata": {},
     "output_type": "execute_result"
    }
   ],
   "source": [
    "os.path.split('G:\\\\我的雲端硬碟\\\\Python\\\\Project\\\\test\\\\lib')"
   ]
  },
  {
   "cell_type": "code",
   "execution_count": 34,
   "metadata": {},
   "outputs": [
    {
     "data": {
      "text/plain": [
       "0"
      ]
     },
     "execution_count": 34,
     "metadata": {},
     "output_type": "execute_result"
    }
   ],
   "source": [
    "os.system(\"echo 'hello'\")"
   ]
  },
  {
   "cell_type": "code",
   "execution_count": 35,
   "metadata": {},
   "outputs": [
    {
     "data": {
      "text/plain": [
       "'G:\\\\我的雲端硬碟\\\\Python\\\\Project\\\\test\\\\lib'"
      ]
     },
     "execution_count": 35,
     "metadata": {},
     "output_type": "execute_result"
    }
   ],
   "source": [
    "os.path.abspath('.')"
   ]
  },
  {
   "cell_type": "code",
   "execution_count": 36,
   "metadata": {},
   "outputs": [
    {
     "data": {
      "text/plain": [
       "35"
      ]
     },
     "execution_count": 36,
     "metadata": {},
     "output_type": "execute_result"
    }
   ],
   "source": [
    "os.path.getsize('open.txt')"
   ]
  },
  {
   "cell_type": "code",
   "execution_count": 37,
   "metadata": {},
   "outputs": [
    {
     "data": {
      "text/plain": [
       "'./open.txt'"
      ]
     },
     "execution_count": 37,
     "metadata": {},
     "output_type": "execute_result"
    }
   ],
   "source": [
    "os.path.join(\"./\", 'open.txt')"
   ]
  },
  {
   "cell_type": "code",
   "execution_count": 6,
   "metadata": {},
   "outputs": [
    {
     "ename": "NameError",
     "evalue": "name 'os' is not defined",
     "output_type": "error",
     "traceback": [
      "\u001b[1;31m---------------------------------------------------------------------------\u001b[0m",
      "\u001b[1;31mNameError\u001b[0m                                 Traceback (most recent call last)",
      "\u001b[1;32m<ipython-input-6-074fa2e5d038>\u001b[0m in \u001b[0;36m<module>\u001b[1;34m\u001b[0m\n\u001b[1;32m----> 1\u001b[1;33m os.path.dirname(\n\u001b[0m\u001b[0;32m      2\u001b[0m 'G:\\\\我的雲端硬碟\\\\Python\\\\Project\\\\test\\\\lib')\n",
      "\u001b[1;31mNameError\u001b[0m: name 'os' is not defined"
     ]
    }
   ],
   "source": [
    "os.path.dirname(\n",
    "'G:\\\\我的雲端硬碟\\\\Python\\\\Project\\\\test\\\\lib')"
   ]
  },
  {
   "cell_type": "code",
   "execution_count": 1,
   "metadata": {},
   "outputs": [],
   "source": [
    "with open('./test1.xlsx', 'wb') as f:\n",
    "# f = open('./os/test.xlsx',\"wb\")\n",
    "    for i in ['qweq','dfqwfq']:\n",
    "        f.write('fwfe'.encode())\n",
    "    \n"
   ]
  },
  {
   "cell_type": "code",
   "execution_count": 30,
   "metadata": {},
   "outputs": [],
   "source": [
    "os.makedirs(\"./m\")"
   ]
  },
  {
   "cell_type": "code",
   "execution_count": null,
   "metadata": {},
   "outputs": [],
   "source": []
  }
 ],
 "metadata": {
  "kernelspec": {
   "display_name": "Python 3",
   "language": "python",
   "name": "python3"
  },
  "language_info": {
   "codemirror_mode": {
    "name": "ipython",
    "version": 3
   },
   "file_extension": ".py",
   "mimetype": "text/x-python",
   "name": "python",
   "nbconvert_exporter": "python",
   "pygments_lexer": "ipython3",
   "version": "3.8.5"
  }
 },
 "nbformat": 4,
 "nbformat_minor": 4
}
