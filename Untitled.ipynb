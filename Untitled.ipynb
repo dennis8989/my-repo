import googletrans

translator = googletrans.Translator()
results = translator.translate('我覺得今天天氣不好。')
print(results)
