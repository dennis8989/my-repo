{
 "cells": [
  {
   "cell_type": "code",
   "execution_count": null,
   "metadata": {},
   "outputs": [],
   "source": [
    "weather_pic={\"rain\":rain}"
   ]
  },
  {
   "cell_type": "code",
   "execution_count": null,
   "metadata": {},
   "outputs": [],
   "source": [
    "rain=[\n",
    "    \"https://i.imgur.com/AtRn2qs.jpg\",\n",
    "    \"https://s7d2.scene7.com/is/image/TWCNews/heavy_rain_jpg-6\",\n",
    "    \"https://nation.com.pk/digital_images/large/2021-01-05/rain-in-lahore-other-parts-of-punjab-turns-weather-cold-1609824526-6009.jpg\",\n",
    "    \n",
    "    \n",
    "    \n",
    "    \n",
    "]"
   ]
  },
  {
   "cell_type": "code",
   "execution_count": null,
   "metadata": {},
   "outputs": [],
   "source": [
    "small_rain=[\n",
    "    \"https://www.mxyn.com/mimg/aimg/1907/2-1ZG62050363T.jpg\",\n",
    "    \"https://m.golla.tw/img/6/6ec/cGcq5SMtcTOzUDNx8CNyYDM5EDMy8CcvR3LnJ3bu0manpnLp9yL6MHc0RHa.jpg\",\n",
    "    \"https://p1-tt.byteimg.com/origin/pgc-image/9ee0af50673c439cbbe8ca393328edfd?from=pc\"\n",
    "]"
   ]
  },
  {
   "cell_type": "code",
   "execution_count": 5,
   "metadata": {},
   "outputs": [],
   "source": [
    "sleep=['https://imagesvc.meredithcorp.io/v3/mm/image?url=https%3A%2F%2Fstatic.onecms.io%2Fwp-content%2Fuploads%2Fsites%2F47%2F2021%2F01%2F05%2Fsleeping-puppies-1070810338-2000.jpg',\n",
    "      'https://doggiedesigner.com/wp-content/uploads/2020/06/Golden-Retriever-Puppy-Sleeping.jpg',\n",
    "      'https://www.rover.com/blog/wp-content/uploads/2018/12/golden-retriever-puppy-3843839_1920.jpg',\n",
    "      'https://cdn.shopify.com/s/files/1/1918/4189/articles/The_Importance_of_sleep_for_your_puppy_-_1800x600_2048x.jpg?v=1592839097',\n",
    "      \"https://i.imgur.com/ZgleUF8.jpeg\"]"
   ]
  },
  {
   "cell_type": "code",
   "execution_count": 15,
   "metadata": {},
   "outputs": [
    {
     "name": "stdout",
     "output_type": "stream",
     "text": [
      "https://www.rover.com/blog/wp-content/uploads/2018/12/golden-retriever-puppy-3843839_1920.jpg\n"
     ]
    }
   ],
   "source": [
    "import random\n",
    "sleep_pic = random.choice(sleep)\n",
    "print(sleep_pic)"
   ]
  },
  {
   "cell_type": "code",
   "execution_count": null,
   "metadata": {},
   "outputs": [],
   "source": []
  },
  {
   "cell_type": "code",
   "execution_count": null,
   "metadata": {},
   "outputs": [],
   "source": []
  }
 ],
 "metadata": {
  "kernelspec": {
   "display_name": "Python 3",
   "language": "python",
   "name": "python3"
  },
  "language_info": {
   "codemirror_mode": {
    "name": "ipython",
    "version": 3
   },
   "file_extension": ".py",
   "mimetype": "text/x-python",
   "name": "python",
   "nbconvert_exporter": "python",
   "pygments_lexer": "ipython3",
   "version": "3.8.5"
  }
 },
 "nbformat": 4,
 "nbformat_minor": 4
}
