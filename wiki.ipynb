{
 "cells": [
  {
   "cell_type": "code",
   "execution_count": 105,
   "metadata": {},
   "outputs": [],
   "source": [
    "#!pip install Wikipedia-API\n",
    "import wikipediaapi\n",
    "import googletrans\n",
    "from opencc import OpenCC\n",
    "\n",
    "cc = OpenCC('s2tw')\n",
    "translator = googletrans.Translator(service_urls=[\n",
    "      'translate.google.com'\n",
    "      ])"
   ]
  },
  {
   "cell_type": "code",
   "execution_count": 111,
   "metadata": {},
   "outputs": [
    {
     "name": "stdout",
     "output_type": "stream",
     "text": [
      "Page zh- Exists: False\n",
      "Page en - Exists: False\n",
      "\n"
     ]
    }
   ],
   "source": [
    "def get_page(text):\n",
    "#     text = translator.translate(text, dest='ZH-TW', src='auto').text\n",
    "    wiki_wiki = wikipediaapi.Wikipedia('zh')\n",
    "    page_py = wiki_wiki.page(text)\n",
    "    print(\"Page zh- Exists: %s\" % page_py.exists())\n",
    "    if not page_py.exists(): #如果中文wiki沒有結果\n",
    "        wiki_wiki = wikipediaapi.Wikipedia('en') #搜尋英文wiki\n",
    "        page_py = wiki_wiki.page(text)\n",
    "        print(\"Page en - Exists: %s\" % page_py.exists())\n",
    "        if page_py.exists(): #如果英文wiki有結果\n",
    "            try:\n",
    "                page_py = page_py.langlinks['zh-classical']\n",
    "                print(\"Page zh-classical- Exists: %s\" % page_py.exists())\n",
    "#             if not page_py.exists(): #如果zh-classical wiki沒有結果\n",
    "            except:\n",
    "                try:\n",
    "                    page_py = page_py.langlinks['zh']\n",
    "                    print(\"Page zh- Exists: %s\" % page_py.exists())\n",
    "#                 if not page_py.exists(): #如果zh wiki沒有結果\n",
    "                except:\n",
    "                    page_py = wiki_wiki.page(text)\n",
    "                    print(\"Page en2- Exists: %s\" % page_py.exists())\n",
    "#         else:\n",
    "#             page_py.summary = 'not found'\n",
    "    result = cc.convert(page_py.summary)\n",
    "    print(result)\n",
    "        \n",
    "get_page('copass')"
   ]
  },
  {
   "cell_type": "code",
   "execution_count": 99,
   "metadata": {},
   "outputs": [
    {
     "name": "stdout",
     "output_type": "stream",
     "text": [
      "羅傑·費德勒（德語：Roger Federer，德语：[ˈfeːdərər]，1981年8月8日－），瑞士男子职业網球运动员，现今单打世界排名第六。截至目前，费德勒总共贏得20座大滿貫冠军，单打世界排名第一累计310周，其中包括连续237周世界排名第一的男子網壇纪录。費德勒生涯贏得103個ATP單打冠軍，含創紀錄的20座大满贯冠军和6座ATP年終總決賽冠軍，以及28座大師賽冠軍。他被许多评论家、退役和现役球员认为是有史以来最伟大的网球选手。\n",
      "2003年的温网男单决赛中，費德勒赢下個人的第一座大满贯单打冠军。2004年，他成功于澳網夺冠，登上世界第一，并持续保持这一排名超过四年时间，他所创下的一些纪录至今未被打破。他也是网球公开赛年代第四位同一年里三夺大满贯者、第六位成就全满贯男單球員，以及能實現「爸爸級滿貫」的球星之一。\n",
      "費德勒的20个大满贯冠军中包括八座溫網、六座澳网、五座美网和一座法网，是第一位赢得20座大满贯冠军，以及唯一在两个大满贯至少六次夺冠和在三个大满贯至少五次夺冠的男子球员。費德勒六次登顶世界排名第一並連續五年排名年終第一，其中包括连续237周世界第一（2004.2.2－2008.8.17），超越美國名宿康諾斯连续160週的记录。他在2009年溫網後回归世界第一，持续48週。2012年，费德勒重奪溫網冠军後，重新登上世界第一（第三度登頂），並以總週數287週超过了皮特·桑普拉斯的286週。2012年上海大師賽结束后，费德勒世界第一的总週数达到了300周，是公开赛年代以来第一位成為球王周數達到300的男子球員。2018年鹿特丹公開賽晋级半决赛後，費德勒第四度登頂，超越阿加西成为史上最年長的世界第一。2018年斯圖加特網球賽闖入決賽後，費德勒第六度登頂，改寫最年長世界第一的紀錄。\n",
      "費德勒被认为是全面型打法的代表球员，打法包括：底線相持、发球上網、切削上网、SABR战术等。在草地球场的表现尤為突出：闯入温网男单决赛总计十二次，包括连续七年打进温网决赛；温网男单冠军八座，为温网之最，其中温网五连冠也为温网之最。草地赛事连胜65场以及公開賽年代最高草地勝率使他成为网球史上的“草地之王”。其与同时代的另一位选手纳达尔之间的较量被誉为是网球史上最伟大的对决之一，费德勒与纳达尔对战史留下许多经典比赛。加之随后的德约科维奇，三人所引领的时代常被认為是網球史上的黃金年代。他們三人被大眾媒介譽為網壇三巨頭，並互相追趕。在這三位的統治下，新生代球手仍未能威脅他們的統治地位。\n",
      "费德勒的绰号包括「瑞士特快車」、「瑞士大師」、「瑞士指揮家」、「指揮家」、「熱狗王」和「費神」等。他亦為多間國際知名品牌代言，響應賑災與進行慈善活動。\n"
     ]
    }
   ],
   "source": [
    "wiki_wiki = wikipediaapi.Wikipedia('en')\n",
    "page_py = wiki_wiki.page('roger federer')\n",
    "page_py = page_py.langlinks['zh']\n",
    "print(page_py.summary[0:])"
   ]
  },
  {
   "cell_type": "code",
   "execution_count": 5,
   "metadata": {},
   "outputs": [
    {
     "data": {
      "text/plain": [
       "文藝復興 (id: ??, ns: 0)"
      ]
     },
     "execution_count": 5,
     "metadata": {},
     "output_type": "execute_result"
    }
   ],
   "source": [
    "page_py"
   ]
  },
  {
   "cell_type": "code",
   "execution_count": 6,
   "metadata": {},
   "outputs": [
    {
     "name": "stdout",
     "output_type": "stream",
     "text": [
      "Page - Exists: True\n"
     ]
    }
   ],
   "source": [
    "print(\"Page - Exists: %s\" % page_py.exists())"
   ]
  },
  {
   "cell_type": "code",
   "execution_count": 14,
   "metadata": {},
   "outputs": [
    {
     "data": {
      "text/plain": [
       "True"
      ]
     },
     "execution_count": 14,
     "metadata": {},
     "output_type": "execute_result"
    }
   ],
   "source": [
    "page_py.exists()"
   ]
  },
  {
   "cell_type": "code",
   "execution_count": 7,
   "metadata": {},
   "outputs": [
    {
     "name": "stdout",
     "output_type": "stream",
     "text": [
      "Page - Title: 文艺复兴\n"
     ]
    }
   ],
   "source": [
    "print(\"Page - Title: %s\" % page_py.title)"
   ]
  },
  {
   "cell_type": "code",
   "execution_count": 70,
   "metadata": {
    "tags": []
   },
   "outputs": [
    {
     "name": "stdout",
     "output_type": "stream",
     "text": [
      "Page - Summary: 文藝復興者，泰西移風易俗之舉也。始乎十二世紀，迄於十七世紀，凡五百餘年。夫西羅馬亡國以降，泰西諸國並立，連年爭戰，民不聊生，黔首遂有出世之心，乃求諸神明，致文藝之事，問津者日鮮。方是時，文教之存，在乎修道院，然修士多附會神明之說，曲典籍之本意，故古之智慧，殆無承焉。至若東羅馬、阿拉伯，則文教大盛，遠勝西歐，故史稱之曰「西歐黑暗時期」焉。\n",
      "迨十二、十三世紀之時，商業日盛，平民漸富，教會出世之說，益不合宜，遂生入世重人之言。而義大利邦國林立，競相致富，遂先發斯事；且乎東羅馬日衰，學者紛去，而之義國者眾矣，古希臘羅馬之學遂漸復焉。\n",
      "若夫泰西上古之學，重人而不重神，髣若孔孟之道，其所復見，大易世俗，民智遂啟。乃致方言詩文、藝術、格致諸事興焉。會活字印刷之行，學論益盛，布及全歐，英國、法國、德意志、西班牙、葡萄牙等，咸有見焉。\n"
     ]
    }
   ],
   "source": [
    "page_py_cs = page_py.langlinks['zh-classical']\n",
    "print(\"Page - Summary: %s\" % page_py_cs.summary[0:])\n",
    "# print(\"Page - Summary: %s\" % page_py.summary[0:])"
   ]
  },
  {
   "cell_type": "code",
   "execution_count": 65,
   "metadata": {},
   "outputs": [
    {
     "name": "stdout",
     "output_type": "stream",
     "text": [
      "https://zh.wikipedia.org/wiki/%E6%96%87%E8%89%BA%E5%A4%8D%E5%85%B4\n"
     ]
    }
   ],
   "source": [
    "print(page_py.fullurl)"
   ]
  },
  {
   "cell_type": "code",
   "execution_count": 66,
   "metadata": {
    "collapsed": true,
    "jupyter": {
     "outputs_hidden": true
    },
    "tags": []
   },
   "outputs": [
    {
     "name": "stdout",
     "output_type": "stream",
     "text": [
      "文艺复兴是一场大致发生在14世纪至17世纪欧洲的文化运动，在中世纪晚期发源于意大利中部的佛罗伦萨、威尼斯等意大利城市，即意大利文艺复兴，后扩展至欧洲各国。其辭源為義大利語「Rinascimento」。“文艺复兴”一词的意大利语源由ri-（意為“重新”）和nascere（意為“出生”）构成。文艺复兴时期的思想基础是人文浪漫主义，它源于罗马人文主义的概念和对普罗塔哥拉斯等古典希腊哲学的重新发现，后者说“人是万物的尺度”。\n",
      "“文艺复兴”一词亦可粗略地指代这一历史时期，但由于欧洲各地因其引发的变化并非完全一致，故“文艺复兴”只是对这一时期的通称。这场文化运动基本上以復興古羅馬為名，動機大致上是要改變中世紀社會逐漸嚴重的腐敗，卻不是將古羅馬原樣重現，反而是加入新思考和檢討，所以做出實際上是一種徹底不同的新型態文化變革，其中雖囊括了对古典文献的重新学习和承接，卻在绘画方面透過直线透视法的发展，以及逐步而广泛开展的中古時代教育变革，乃至於人體結構、化學、天文技術和科學知識的追求等等，這些極重要的近代科學發展，除了打破神權時代，也打破了希臘羅馬的古文化。传统观点认为，这种知识上的转变让文艺复兴发挥了衔接中世纪和近代的作用。尽管文艺复兴在知识、文學、社会和政治各个方面都引发了巨大變革，但令其闻名于世的或许还在于这一时期的艺术成就，以及列奥纳多·達文西、米开朗基罗等博学家做出的創新贡献。一般认为，文藝復興始于義大利，這與其北部興盛的地中海貿易有關，商人除了將當時中東和希臘獲得的古羅馬文獻匯集於此進行研究，富裕的風雅紳商更傾力支持著藝術創作。正式的發展是從14世纪托斯卡纳的佛罗伦萨開展的，但对此尚有质疑之声。就这场运动的起源和特点而言，多种理论已经提出了各自的见解，但其关注的焦点不尽相同：其中包括有当时佛罗伦萨的社会和公民的特点；当地的政治结构；当地统治阶级美第奇家族的赞助；以及奥斯曼土耳其人攻陷君士坦丁堡后，大批流入意大利的希腊语学者及书籍。史学上关于文艺复兴的内容很多且颇为复杂，而“文艺复兴”作为词汇的作用，及其作为历史过渡期的意义，都引发了史学家的诸多争论。文艺复兴一詞能否作為是中世纪后的文化“进步”，一些史学家对此是持怀疑态度的：他们认为，这个阶段只是对古典时代抱持悲观与缅怀的时期，社會早就不是單純的撿拾古人的思想，反而是巨大創新的重塑了一個時代。而另一些人则关注两个时代之间的连续性。实际上，现在已有人提出不应继续使用这个词汇，因为他们认为“文艺复兴”一词只是现代主义的产物，是使用历史来验证和发扬当代理想的工具。“文艺复兴”一词也被用于其他历史或文化运动，如卡洛林文艺复兴和12世纪的文艺复兴就是这样的例子。\n",
      "\n",
      "概述\n",
      "文艺复兴这场文化运动对近代早期欧洲的学术生活造成了深刻的影响。它从意大利兴起，在16世纪时已扩大至欧洲各国，其影响遍及文学、哲学、艺术、政治、科学、宗教等知识探索的各个方面。文艺复兴时期的学者在学术研究中使用人文主义的方法，并在艺术创作中追寻现实主义和人类的情感。在欧洲的修道院图书馆中和没落的拜占庭帝国里，文艺复兴时期的思想家们搜集到了古典时代的文学、历史和演说文献。这些文献大多使用拉丁语或古希腊语写成，多数内容晦涩难懂。文艺复兴时期的学者同12世纪文艺复兴时期的中世纪学者最显著的差别在于，前者将文学和历史等文化方面的文献作为新的研究重点，而后者只专注于自然科学、物理学和数学的希腊语和阿拉伯语典籍。文艺复兴时期的人文学者并不反对基督教；恰恰相反，这一时期众多的伟大作品都是为宗教而作，而且许多艺术作品得到了教会的赞助。然而，从文化生活的其他领域可以看出，学者们对待宗教的方式还是发生了微妙的转变。此外，包括希腊语《新约》在内的大量希腊语基督教著作从拜占庭流入了西欧，这是自古典时代末期后，西方学者首次接触到如此具有吸引力的内容。这些希腊语的基督教作品，特别是由洛伦佐·瓦拉和伊拉斯谟整理完善的希腊语原文《新约》，为后来的宗教改革创造了条件。\n",
      "马萨乔等艺术家们为了更自然地表现透视和明暗关系，都在改善自己的技法，努力做到能真实地描摹人体形态。以尼可罗·马基亚维利为首的政治哲学家们理性地分析政治生活，设法让叙述符合事实。米兰多拉的著名作品《论人的尊严》（De hominis dignitate，1486年）为意大利文艺复兴的人文主义作出了巨大贡献；文中论述了哲学、自然思想、宗教信仰和巫术这一系列的话题，并以理性为依据，有力地回击了反对者。除了学习古拉丁语和希腊语，文艺复兴时期的作家们还开始更多地使用地方语言写作；而印刷术的推广亦使得更多的人能够接触到各种书籍，特别是圣经。总而言之，文艺复兴可被视为学者们研究和改善俗世的一次尝试，他们通过复兴古典时代思想和创新思考方式来推动变革。罗德尼·斯塔克等学者认为中世纪盛期发生在意大利城邦的改革的意义并不亚于文艺复兴运动，前者产生了回应型政府、基督教和资本主义萌芽的结合体。这种分析认为，鉴于欧洲大国（法国和西班牙）受君主专制统治，而其他国家则受教会的直接控制；因而只有意大利的独立城市共和国才能从僧院等级承袭资本主义的原则，进而引发了一场规模空前的商业革命，并为随后发生的文艺复兴运动打下了经济基础。\n",
      "\n",
      "起源\n",
      "绝大部分历史学家相信，对文艺复兴这一概念的阐述源于13世纪晚期的佛罗伦萨，特别是在但丁（1265年－1321年）、彼特拉克（1304年－1374年）的著作以及乔托（1267年－1337年）的绘画作品诞生的时代。有的学者非常明确地给出了文艺复兴开始的时间，最被人接受的是以1401年洛伦佐·吉贝尔蒂和菲利波·布鲁内莱斯基这两位天才雕塑家竞争佛罗伦萨圣母百花大教堂洗礼堂铜门的合约为标志。而其他学者则认为，是艺术家和博学家（包括布鲁内莱斯基、吉贝尔蒂、多那太罗和马萨乔等人）为获得艺术品创作委托的普遍竞争，激发了文艺复兴时期的创造力。但是，对于文艺复兴为什么兴起于意大利，以及发生于当时的原因，学界至今仍有着诸多争议；相应地，也有多种理论用于解释文艺复兴的起源问题。\n",
      "\n",
      "文艺复兴人文主义的拉丁语和希腊语时期\n",
      "中世纪盛期的拉丁语学者全身心地研究自然科学、哲学、数学的希腊语和阿拉伯文著作，与之形成鲜明对比的是文艺复兴时期的学者，他们对重寻和研究拉丁语及希腊语的文学、历史与演讲资料更感兴趣。概括而言，这一时期开始于14世纪，与拉丁语时期同步。彼特拉克、萨卢塔蒂（1331年－1406年）、尼科利（1364年－1437年）及波焦·布拉乔利尼（1380年－1459年）等文艺复兴学者，为了搜寻诸如西塞罗、李维和塞内卡等拉丁语作家的著作而找遍了欧洲的各大图书馆。截至15世纪早期，已有大部分这样的拉丁语文学作品被找到；而当西欧学者开始寻找古希腊的文学、历史、演讲及神学资料时，文艺复兴人文主义的希腊语时期也随之开始。\n",
      "\n",
      "在西欧，从古典时代后期就有对拉丁语文献的保存和研究，但对古希腊语文献的研究却在整个中世纪都极为有限。西欧和伊斯兰世界分别从其中世纪盛期和中世纪开始，都对古希腊语的科学、数学和哲学著作有所研究；但无论是在拉丁语地区还是伊斯兰世界，对希腊语文学、演讲及历史作品（如荷马、修昔底德以及其他古希腊的剧作家、雄辩家等）的研究都未曾有过：在中世纪，只有拜占庭的学者才研究过这些著作。文艺复兴时期学者的一大成就，就是自古典时代后期以来，第一次将希腊语文化作品从整体上引入了西欧。该运动让希腊语的文学、历史、演讲和神学资料重新进入了西欧学校的课程中：这通常会以萨卢塔蒂邀请拜占庭外交官和学者赫里索洛拉斯（约1355年－1415年）到佛罗伦萨讲授希腊语为标志，后者的希腊语造诣对此发挥了关键的作用。另一位重要的希腊语拜占庭学者是德美特里·卡尔孔狄利斯（1421年－1511年），他在意大利的帕多瓦、佩鲁贾、米兰和佛罗伦萨讲授了四十余年的希腊语和柏拉图哲学。他的学生有：约翰·罗伊希林、亚努斯·拉斯卡里斯、波利齐亚诺、利奥十世、巴尔达萨雷·卡斯蒂廖内、吉利奥·格雷戈里奥·吉拉尔迪、斯特凡诺·内格里（Stefano Negri）及乔瓦尼·马里亚·卡塔内奥（Giovanni Maria Cattaneo）。\n",
      "1453年，随着拜占庭帝国的彻底瓦解，奥斯曼土耳其关闭了它的高等学府。大批希腊语学者因而被迫流亡意大利乃至更远之处，同时也将他们的希腊语手稿和古希腊语文学造诣带到了西欧：其中的一部分已在西方失佚了数百年之久。\n",
      "\n",
      "意大利的社会与政治结构\n",
      "基于中世纪后期意大利的独特政治结构，部分学者推理说：当地与众不同的社会氛围为意大利出现罕见的文化繁荣提供了必要条件。在近代早期，意大利并非一个统一的政治实体，而是由一些城邦和领地组成：控制着南部的拿波里王国，位于中部的佛罗伦萨共和国和教宗国，分别位于北部和西部的热那亚与米兰，以及位于东部的威尼斯。15世纪的意大利是欧洲城市化水平最高的地区。许多意大利城市就建立在古罗马建筑的废墟之上；从表面上看，这就将文艺复兴的古典性及其发祥于罗马帝国心脏地带的事实联系在了一起。\n",
      "历史学与政治哲学家昆廷·斯金纳指出，弗赖辛主教奥托（1114年－1158年）在12世纪来到意大利时，曾注意到这里出现了一种新的政治和社会组织形态，并观察到意大利似乎已开始脱离封建制度，将商人和商业作为其社会基础。与此相关的，是壁画《好政府与坏政府的寓言》所表达出的反君主制思想；这幅著名的早期文艺复兴壁画位于锡耶纳，由安布罗焦·洛伦采蒂绘于1338年至1340年；他通过这幅画传达出了对公平、公正、共和与善治的强烈渴盼。尽管受到教廷与神圣罗马帝国的牵制，但这些城市共和国依旧不懈地追求着自由的理念。斯金纳指出当地有很多人都在极力维护自由，例如马泰奥·帕尔米耶里（1406年－1475年）不仅歌颂了佛罗伦萨艺术、雕塑及建筑方面的天才艺术家，还对“同时在佛罗伦萨出现的道德、社会及政治哲学的繁荣”发出了赞美之辞。\n",
      "即使是意大利中心以外的城市与城邦，亦因其商人共和国的政体而备受关注，譬如当时的佛罗伦萨共和国；而其中最为出色的当属威尼斯共和国。尽管这些政体在实际上仍是寡头政治，与现代的民主也鲜有类似之处；但他们确实具备了民主的特征，其响应型政府亦已具备了参与治理的形式及对自由的信念。这些城邦提供的相对政治自由，有利于学术和艺术的进步。同样地，威尼斯等位于重要贸易中心的意大利城市，也成为了智慧交汇的枢纽。世界各地的——尤其是累范特地区的——商人带着各自的观点来到这里。出产优质玻璃的威尼斯，在这时成为了欧洲与东方的贸易门户；而佛罗伦萨则成为了纺织业的中心。商业活动为意大利带来的巨大财富，让艺术家得以创作大型的公共及私人艺术作品，同时也让个人拥有了更多的闲暇时间用来学习。\n",
      "\n",
      "黑死病对文艺复兴的影响\n",
      "一种理论认为当时席卷欧洲的黑死病在佛罗伦萨造成的破坏加速了14世纪意大利人世界观的转变。该理论指出意大利在黑死病期间受到的重创迫使思想家和学者更多的思考活生生的人而不是靈性或是死后生命。不过也有人反对这种理论并指出黑死病引发了祈祷浪潮，并以该时期对宗教艺术品赞助的情况作为论据。不过，这些理论都没能圆满解释为什么文艺复兴在意大利率先出现：瘟疫当时影响了整个欧洲，而不仅仅是意大利。文艺复兴在意大利的出现的原因更有可能是以上所有因素的结合。\n",
      "一般认为黑死病是由从亚洲返回的商船上的跳蚤携带的病毒所致，由于欧洲当时缺乏适当的卫生设施，该病迅速蔓延：英格兰的人口由于黑死病从约4,200,000快速减少至约2,800,000；仅1347年一年，佛罗伦萨的人口减少了大概一半。人口的大量减少导致工人阶级的酬劳增高，平民变得更加自由，工人们开始寻找最合适的职位。\n",
      "\n",
      "作品思想\n",
      "文艺复兴时期的作品當中，体现了人文主义思想：主张个性解放，反对中世纪的禁欲主义和宗教观；提倡科学文化，反对蒙昧主义，摆脱教会对人们思想的束缚；肯定人权，反对神权，摒弃作为神學和经院哲学基础的一切权威和传统教条；创造一个在任何条件下都十分卓越的、普世的人而不是神；拥护中央集权，反对封建割据，这是人文主义的主要思想。其中，代表性作品有：但丁的《神曲》、薄伽丘的《十日谈》、马基维利的《君主论》、拉伯雷的《巨人传》、康帕内拉的《太阳城》等。\n",
      "文艺复兴时期的艺术歌颂了人体的美，主张人体比例是世界上最和谐的比例，并把它应用到建筑上，虽然它们都是一系列的仍以宗教故事为主题的绘画和雕塑，但表现的都是普通人的场景，将神拉到了地上。\n",
      "人文主义者开始用研究古典文学的方法研究《聖經》，将圣经翻译民族语言，导致了宗教改革运动的兴起。\n",
      "人文主义歌颂世俗、蔑视天堂，标榜理性以取代神启，肯定“人”是现世生活的创造者和享受者，要求文学艺术表现人的思想感情，科学为人谋福利，教育要发展人的个性，要求把人的思想感情和智慧从神学的束缚中解放出来，以及提倡个性自由，因此在历史发展上起了很大的进步作用。\n",
      "\n",
      "不同範疇中的文藝復興\n",
      "自然科學\n",
      "天文學：波蘭天文學家哥白尼1543年出版了《天體運行論》，在其中提出了與托勒密的地心說體系不同的日心說體系。意大利思想家布魯諾在《論無限性、宇宙和諸世界》、《論原因、本原和統一》等書中宣稱，宇宙在空間與時間上都是無限的，太陽只是太陽系的中心而非宇宙的中心。伽利略1609年發明了天文望遠鏡，1610年出版了《星際信使》，1632年出版了《關於托勒密和哥白尼兩大世界體系的對話》。德國天文學家開普勒通過對其師丹麥天文學家第谷的觀測數據的研究，在1609年的《新天文學》和1619年的《世界的和諧》提出了行星運動的三大定律，判定行星繞太陽運轉是沿著橢圓形軌道進行的，而且這樣的運動是不等速的。數學：代數學在文藝復興時期取得了重要發展，三、四次方程的解法被發現。意大利人卡爾達諾在他的著作《大術》中發表了三次方程的求根公式，但這一公式的發現實應歸功於另一學者塔爾塔利亞。四次方程的解法由卡爾達諾的學生費拉里發現，在《大術》中也有記載。邦貝利在他的著作中闡述了三次方程不可約的情形，並使用了虛數，還改進了當時流行的代數符號。符號代數學是由16世紀的法國數學家韋達確立的。他於1591年出版了《分析方法入門》，對代數學加以系統的整理，第一次自覺地使用字母來表示未知數和已知數。韋達在他的另一部著作《論方程的識別與訂正》中，改進了三、四次方程的解法，還建立了二次和三次方程方程根與係數之間的關係，現代稱之為韋達定理。三角學在文藝復興時期也獲得了較大的發展。德國數學家雷格蒙塔努斯的《論各種三角形》是歐洲第一部獨立於天文學的三角學著作。書中對平面三角和球面三角進行了系統的闡述，還有很精密的三角函數表。哥白尼的學生雷蒂庫斯在重新定義三角函數的基礎上，製作了更多精密的三角函數表。物理學：在物理學方面，伽利略通過多次實驗發現了落體、拋物體和振擺三大定律，使人對宇宙有了新的認識。他的學生托里拆利經過實驗證明了空氣壓力，發明了水銀柱氣壓計。法國科學家布萊士·帕斯卡發現液體和氣體中壓力的傳播定律。英國科學家羅伯特·波義耳發現氣體壓力定律。生理學和醫學：比利時醫生維塞利亞斯發表《人體的構造》一書，對蓋倫的「三位一體」學說提出了挑戰。西班牙醫生塞爾維特發現血液的小循環系統，證明血液從右心室流向肺部，通過曲折路線到達左心室。英國解剖學家威廉·哈維通過大量的動物解剖實驗，發表了《心血運動論》等論著，系統闡釋了血液運動的規律和心臟的工作原理。他指出，心臟是血液運動的中心和動力的來源。這一重大發現使他成為近代生理學的鼻祖。地理大發現：航海技術產生了一次革命性地飛躍，葡萄牙、西班牙、意大利的探險家們開始了一系列遠程航海活動。克里斯托弗·哥倫布和斐迪南·麥哲倫等人在地理方面的發現，為地圓說提供了有力的證據。印刷術：德国人古腾堡发明的现代印刷术使印刷品的价格大大降低，促进了知识的普及。\n",
      "\n",
      "文學\n",
      "各地的作家都開始使用自己的方言而非拉丁語進行文學創作，帶動了大眾文學，替各種語言注入大量文學作品，包括小說、詩、散文、民謠和戲劇等。\n",
      "在意大利，文藝復興前期出現了「文藝復興三傑」。但丁·亞利基利一生寫下了許多學術著作和詩歌，其中著名的是《新生》和《神曲》。彼特拉克是人文主義的鼻祖，被譽為「人文主義之父」。他第一個發出復興古典文化的號召，提出以「人學」反對「神學」。彼特拉克主要創作了許多優美的詩篇，代表作是抒情十四行詩詩集《歌集》。薄伽丘是意大利民族文學的奠基者，短篇小說集《十日談》是他的代表作。\n",
      "在法國，文藝復興運動明顯地形成兩派，一是以「七星詩社」為代表的貴族派，二是以拉伯雷為代表的民主派。「七星詩社」以龍沙和杜貝萊為代表，在語言和詩歌理論方面做出了突出的貢獻。他們最早提出統一民族語言的主張，促進了法國民族語言和民族文學的發展。然而，他們排斥民間詩歌，只為少數貴族服務。弗朗索瓦·拉伯雷是繼薄伽丘之後傑出的人文主義作家，是法國文藝復興民主派的代表。他用20年時間創作的《巨人傳》是一部現實與幻想交織的現實主義作品，在歐洲文學史和教育史上佔有重要地位。\n",
      "在英國，代表人物有托馬斯·莫爾和威廉·莎士比亞。托馬斯·莫爾是著名的人文主義思想家，也是空想社會主義的奠基人。1516年他用拉丁文寫成的《烏托邦》是空想社會主義的第一部作品。莎士比亞是天才的戲劇家和詩人，他同荷馬、但丁、歌德一起，被譽為歐洲劃時代的四大作家。他的的作品結構完整，情節生動，語言豐富精煉，人物個性突出，集中地代表歐洲文藝復興文學的最高成就，對歐洲現實主義文學的發展有深遠的影響。\n",
      "在西班牙，最傑出的代表人物是米格爾·德·塞萬提斯和維加。塞萬提斯是現實主義作家、戲劇家和詩人。他創作了大量的詩歌、戲劇和小說，其中以長篇諷刺小說《唐吉訶德》最著名，它對歐洲文學的發展產生了重大影響。維加是戲劇家、小說家和詩人，西班牙民族戲劇的奠基人，被譽為「西班牙戲劇之父」。他是世界上罕見的多產作家，一生共創作了兩千多個劇本，留傳至今的有600多個，有宗教劇、歷史劇、神話劇、袍劍劇、牧歌劇等多種形式，深刻反映了西班牙的社會現實，深受廣大群眾的喜愛。最傑出的代表作是《羊泉村》。\n",
      "\n",
      "繪畫\n",
      "文艺复兴时期的绘画发展以意大利为中心。文艺复兴时期的意大利城市国家中，最突出的有佛罗伦萨、米兰、那不勒斯、罗马、威尼斯。人们曾按地域把当时的画家分为各个画派。意大利以外，文艺复兴的绘画思潮也感染了北方的德国和尼德兰等地，乃至整个欧洲。。文艺复兴时期绘画的代表以文艺复兴三杰的作品最为突出，包括达芬奇、米开朗基罗和拉斐尔。此外杰出的画家还包括安吉利柯修士、馬薩其奧、菲利普·利皮、波提切利、吉爾蘭達約等等。达芬奇的绘画以《最后的晚餐》和《蒙娜丽莎》（现存法国卢浮宫）最为为世人瞩目，此外还包括他研究动物、植物、机械，以及首次研究人体胚胎的手绘手稿（重要部分现存英国的温莎城堡展厅）。米开朗基罗的绘画以西斯廷礼拜堂的壁画为代表，屋顶正中的部分是“创世纪”重要的各个场景，《最后的审判》也是西斯廷壁画的代表。拉斐尔绘画的代表作包括《西斯廷圣母》、《圣体争辩》以及《雅典学院》，拉斐尔也曾涉及毡幕图稿的设计，现存绘画手稿。除三杰以外，波提切利的绘画也达到了一定的高度，他的绘画以“妩媚”见称，他的代表作首推《春》与《维纳斯的诞生》，此外还包括《诽谤》。威尼斯的大师提香，其作品以华美丰满见称，代表作有《忏悔的马格琳达》、《乌尔比诺的维纳斯》。意大利以外的文艺复兴的绘画同样引人注目。比如，德国的丢勒，他的画在受到意大利文艺复兴的影响下，依旧保持鲜明的德意志民族特色，严肃缜密，可见其《自画像》。\n",
      "\n",
      "音樂\n",
      "音樂形式上的革新通常比其他藝術形式來得晚，文藝復興亦然：一般相信，音樂上的文藝復興運動大概比意大利文學或繪畫的文藝復興運動，晚了約兩百年。\n",
      "另外，音樂記譜法到了這個時代已發展至接近成熟階段。而作曲家們在創作精緻複雜的宗教音樂之餘，也開始寫作其他類型的音樂，例如牧歌（madrigal）、舞曲（Suite）等。速度慢且少有對比。\n",
      "文藝復興時期的主要樂派是福萊樂派（Franco-Flemish School）。文藝復興時期著名的作曲家有：義大利的帕莱斯特里纳、英國的威廉·伯德、托马斯·塔利斯、约翰·道兰德、西班牙的托马斯·路易斯·德·维多利亚、法蘭德斯的奥克冈以及法國的若斯坎。\n",
      "世俗音樂的牧歌（Madrigal）則簡單、曲調明亮。在這時期，由於樂器的設計和製造上有改進，所以器樂音樂開始擺脫聲樂獨立成曲，形成不同類型的器樂曲，主要為各類不同型式的舞曲。\n",
      "\n",
      "舞蹈\n",
      "欧洲文艺复兴以来，随着哲学、科学和艺术的发展，舞蹈逐渐成为一门独立艺术关于艺术起源及其本质，在美学史上有过种种解释：例如G.W.F.黑格尔认为是“绝对理念”发展的结果；H.泰纳认为是由心理活动产生的；H.斯宾塞认为产生于游戏；还有的学者认为艺术产生于巫术等。\n",
      "\n",
      "建築\n",
      "文艺复兴建筑是在公元14世纪在意大利随着文艺复兴这个文化运动而诞生的建筑风格。基于对中世纪神权至上的批判和对人道主义的肯定，建筑师希望借助古典的比例来重新塑造理想中古典社会的协调秩序。所以一般而言文艺复兴的建筑是讲究秩序和比例的，拥有严谨的立面和平面构图以及从古典建筑中继承下来的柱式系统。\n",
      "1485年建筑家阿尔伯蒂出版了《论建筑》，这是继古罗马建筑家和工程师维特鲁威《建筑十书》之后又一重要建筑设计著作。建筑家布拉曼特重新设计修建了圣彼得大教堂，恢复了古代混凝土结构的工程方式。\n",
      "\n",
      "當代国家特征\n",
      "意大利及其代表人物\n",
      "意大利佛罗伦萨作為文藝復興的发祥地，在诗歌、绘画、雕刻、建筑、音乐各方面均取得了突出的成就。\n",
      "佛罗伦萨著名的美第奇家族是当时最重要的艺术赞助人。\n",
      "著名的文艺复兴三杰全部诞生在意大利。\n",
      "代表人物：\n",
      "诗人：但丁·亞利基利、弗朗西斯克·彼特拉克；\n",
      "作家：乔万尼·薄伽丘、尼可罗·马基亚维利；\n",
      "画家：喬托·迪·邦多納、桑德罗·波提切利、列奥纳多·达·芬奇、拉斐爾、提香、米开朗基罗；\n",
      "雕刻家：米开朗基罗；\n",
      "建筑师：伯魯乃列斯基、阿尔伯蒂、布拉曼特、米开朗基罗、帕拉第奥；\n",
      "音乐家：帕莱斯特里那、拉索等。\n",
      "\n",
      "西班牙及其代表人物\n",
      "16世纪后半叶和17世纪初西班牙文艺复兴进入“黄金时期”，在小说和戏剧方面成绩显著。\n",
      "代表人物：作家米格尔·德·塞万提斯、戏剧家洛佩·德·维加\n",
      "\n",
      "葡萄牙及其代表人物\n",
      "從15世纪後期開始，葡萄牙為歐洲大幅地擴展了世界觀，可以說是她對文藝復興的最大貢獻。葡萄牙對香料貿易的壟斷，也造就了一批極其富有的君主與貴族，能夠大力地贊助藝術與文學，葡萄牙文藝復興一直維持到了17世紀。\n",
      "代表人物：文學家兼詩人賈梅士，代表作品是史詩路濟塔尼亞人之歌（《葡國魂》）。\n",
      "\n",
      "德國及其代表人物\n",
      "在德国：主要成就则表现在宗教改革、农民战争、讽刺文学以及科学技术发明等方面。\n",
      "代表人物：马丁·路德、杜勒等。\n",
      "\n",
      "法國及其代表人物\n",
      "法国文艺复兴：自由思想和怀疑思想相当发达。\n",
      "代表人物：散文家：蒙田、帕斯卡尔；小说家：弗朗索瓦·拉伯雷等。\n",
      "\n",
      "英格蘭及其代表人物\n",
      "英格蘭的文艺复兴时期约为1500年－1660年。1506年伊拉斯谟短暂访问英格兰；1660年，斯图亚特王朝复辟。\n",
      "\n",
      "在英格蘭：诗歌和戏剧空前的繁荣。\n",
      "代表人物：作家威廉·莎士比亚等。\n",
      "\n",
      "荷蘭及其代表人物\n",
      "弗兰德（約為今日的荷蘭與比利時一帶）在1496年因為哈布斯堡家族的勃艮第公爵腓力一世與卡斯蒂利亞王國的胡安娜的婚姻，主權轉到西班牙的哈布斯堡王朝。十六世紀時，宗教改革已經蔓延到弗兰德一帶，但西班牙的哈布斯堡王朝信奉天主教，再加上稅賦問題，雙方爆發八十年戰爭（1568－1648），弗兰德北部脫離西班牙控制而獨立，成為今日的荷蘭。戰爭使得弗兰德南部沒落，但卻沒有阻礙弗兰德北部的發展。荷蘭很快變成一個海上強權，經濟、文化也有顯著發展。\n",
      "\n",
      "人文主義發展。\n",
      "繪畫上接連出現許多有名的畫家。\n",
      "代表人物：伊拉斯謨、耶罗尼米斯·博斯等。\n",
      "\n",
      "波蘭及其代表人物\n",
      "尼古拉·哥白尼是波兰天文学家，是第一位提出太阳为中心——日心说的欧洲天文学家，一般认为他著的《天体运行论》是现代天文学的起步点。\n",
      "\n",
      "同時期中國\n",
      "明朝，重新建立長城，開展絲路路上貿易，鄭和下西洋等海上探索，更向世界踏出一步。\n",
      "\n",
      "歷史意义\n",
      "有一段时间，文艺复兴是简单地恢复了古典文化。其实，文艺复兴并不是真正要“恢复”古典的文化，而是當時歐洲新興階級借古諷今，此抨击当时僵化的文化和制度，以學習古羅馬的口號，建立新的文化和基礎，为建立新的社会制度体系製造舆论。\n",
      "文艺复兴是一次逐渐发展的时期，没有明确的分界线和事件。但文艺复兴使当时的人们思想发生了变化，导致了宗教改革和激烈的宗教战争，后来的启蒙运动更以文艺复兴的反思，做为自己的榜样。19世纪的历史学家认为后来的科学发展、地理大发现、民族国家的诞生都是源于文艺复兴。文艺复兴是“黑暗时代”的中世纪和近代的分水岭，是資產階級革命的舆论前提，也使欧洲摆脱腐朽的封建和宗教束缚，向全世界扩张。\n",
      "\n",
      "关于文艺复兴的不同意见\n",
      "“文艺复兴”（Renaissance）这个词在1855年为法国历史学家儒勒·米什莱首次提出，用以概括16世纪时“对世界与人类的探索”；自此以后历史学家们就对它的解释有很多不同意见。\n",
      "大部分观点认为文艺复兴起源于十五世纪的意大利，然后向整个欧洲扩展。文艺复兴代表了西方和古代（中世纪以前）的古典文化连接，是对阿拉伯人的知识（尤其是数学知识）的吸收。文艺复兴使人们开始专注于现世生活质量（如人文主义）。文艺复兴同时也是知识由于印刷和在艺术、诗歌、建筑等领域新技术的应用而导致的知识爆炸。这些新技术引起了艺术和文学在格式和内容上根本的变化。这个时期，这种观点认为，随着交流和探索的兴起，文艺复兴代表了欧洲从很长时期的一潭死水转变成了汹涌的江河。因此意大利的文艺复兴也常常认为是现代开端。\n",
      "今天大多数历史学家认为文艺复兴代表了理性思考和思想的巨大变化，而不是物质上的巨大变化。或许，对于文艺复兴最重要的观点是那些生活在文艺复兴时期的人认为他们生活在一个新时代，一个与中世纪彻底决裂的时代。\n",
      "约翰·赫伊津哈承认文艺复兴，但是质疑它是否带来有益的变化。他认为文艺复兴是一个从中世纪衰落的时代，并且毁坏了很多重要的东西。例如，那时在教会和其他一些人使用的拉丁语，从古典时代以来获得了很大发展，是一个活着的语言。但是，文艺复兴中痴迷于古典纯洁性的人们认为拉丁语与它的古典形式相抵触，于是拉丁语的自然进化停止了。Robert S. Lopez认为文艺复兴是一个经济萧条时期。然而乔治·萨顿和Lynn Thorndike认为文艺复兴使科学的进步速度放缓。\n",
      "\n",
      "注释\n",
      "參考文獻\n",
      "引用\n",
      "来源\n",
      "外部連結\n",
      "西方哲学史-意大利文艺复兴\n",
      "Society for Renaissance Studies\n",
      "\"The Renaissance\" In Our Time, BBC Radio 4 discussion with Francis Ames-Lewis, Peter Burke and Evelyn Welch (June 8, 2000).\n",
      "Notable Medieval and Renaissance Women\n",
      "Renaissance Style Guide互动类资源\n",
      "\n",
      "Florence: 3D Panoramas of Florentine Renaissance Sites(English/Italian) （页面存档备份，存于互联网档案馆）\n",
      "Interactive Glossary of Terms Relating to the Renaissance\n",
      "Multimedia Exploration of the Renaissance\n",
      "RSS News Feed: Get an entry from Leonardo's Journal delivered each day （页面存档备份，存于互联网档案馆）\n",
      "Virtual Journey to Renaissance Florence （页面存档备份，存于互联网档案馆）\n",
      "Exhibits Collection – Renaissance艺术作品和文化作品\n",
      "\n",
      "Leonardo da Vinci, Gallery of Paintings and Drawings\n",
      "The Bagatti Valsecchi Museum （页面存档备份，存于互联网档案馆）\n",
      "Renaissance in the \"History of Art\"\n",
      "The Society for Renaissance Studies\n",
      "Inquiring Eye: European Renaissance Art\n"
     ]
    }
   ],
   "source": [
    "print(page_py.text)"
   ]
  },
  {
   "cell_type": "code",
   "execution_count": 93,
   "metadata": {},
   "outputs": [],
   "source": [
    "def print_langlinks(page):\n",
    "        langlinks = page.langlinks\n",
    "        for k in sorted(langlinks.keys()):\n",
    "            v = langlinks[k]\n",
    "            print(\"%s: %s - %s: %s\" % (k, v.language, v.title, v.fullurl))"
   ]
  },
  {
   "cell_type": "code",
   "execution_count": 94,
   "metadata": {},
   "outputs": [
    {
     "name": "stdout",
     "output_type": "stream",
     "text": [
      "ace: ace - Roger Federer: https://ace.wikipedia.org/wiki/Roger_Federer\n",
      "af: af - Roger Federer: https://af.wikipedia.org/wiki/Roger_Federer\n",
      "als: als - Roger Federer: https://als.wikipedia.org/wiki/Roger_Federer\n",
      "am: am - ሮጀር ፌዴረር: https://am.wikipedia.org/wiki/%E1%88%AE%E1%8C%80%E1%88%AD_%E1%8D%8C%E1%8B%B4%E1%88%A8%E1%88%AD\n",
      "an: an - Roger Federer: https://an.wikipedia.org/wiki/Roger_Federer\n",
      "ang: ang - Roger Federer: https://ang.wikipedia.org/wiki/Roger_Federer\n",
      "ar: ar - روجر فيدرير: https://ar.wikipedia.org/wiki/%D8%B1%D9%88%D8%AC%D8%B1_%D9%81%D9%8A%D8%AF%D8%B1%D9%8A%D8%B1\n",
      "ary: ary - رودجر فيديرير: https://ary.wikipedia.org/wiki/%D8%B1%D9%88%D8%AF%D8%AC%D8%B1_%D9%81%D9%8A%D8%AF%D9%8A%D8%B1%D9%8A%D8%B1\n",
      "arz: arz - روجر فيديرار: https://arz.wikipedia.org/wiki/%D8%B1%D9%88%D8%AC%D8%B1_%D9%81%D9%8A%D8%AF%D9%8A%D8%B1%D8%A7%D8%B1\n",
      "ast: ast - Roger Federer: https://ast.wikipedia.org/wiki/Roger_Federer\n",
      "ay: ay - Roger Federer: https://ay.wikipedia.org/wiki/Roger_Federer\n",
      "az: az - Rocer Federer: https://az.wikipedia.org/wiki/Rocer_Federer\n",
      "azb: azb - راجر فدرر: https://azb.wikipedia.org/wiki/%D8%B1%D8%A7%D8%AC%D8%B1_%D9%81%D8%AF%D8%B1%D8%B1\n",
      "bar: bar - Roger Federer: https://bar.wikipedia.org/wiki/Roger_Federer\n",
      "bcl: bcl - Roger Federer: https://bcl.wikipedia.org/wiki/Roger_Federer\n",
      "be: be - Роджэр Федэрэр: https://be.wikipedia.org/wiki/%D0%A0%D0%BE%D0%B4%D0%B6%D1%8D%D1%80_%D0%A4%D0%B5%D0%B4%D1%8D%D1%80%D1%8D%D1%80\n",
      "be-x-old: be-x-old - Роджэр Фэдэрэр: https://be-tarask.wikipedia.org/wiki/%D0%A0%D0%BE%D0%B4%D0%B6%D1%8D%D1%80_%D0%A4%D1%8D%D0%B4%D1%8D%D1%80%D1%8D%D1%80\n",
      "bg: bg - Роджър Федерер: https://bg.wikipedia.org/wiki/%D0%A0%D0%BE%D0%B4%D0%B6%D1%8A%D1%80_%D0%A4%D0%B5%D0%B4%D0%B5%D1%80%D0%B5%D1%80\n",
      "bn: bn - রজার ফেদেরার: https://bn.wikipedia.org/wiki/%E0%A6%B0%E0%A6%9C%E0%A6%BE%E0%A6%B0_%E0%A6%AB%E0%A7%87%E0%A6%A6%E0%A7%87%E0%A6%B0%E0%A6%BE%E0%A6%B0\n",
      "br: br - Roger Federer: https://br.wikipedia.org/wiki/Roger_Federer\n",
      "bs: bs - Roger Federer: https://bs.wikipedia.org/wiki/Roger_Federer\n",
      "bxr: bxr - Роджер Федерер: https://bxr.wikipedia.org/wiki/%D0%A0%D0%BE%D0%B4%D0%B6%D0%B5%D1%80_%D0%A4%D0%B5%D0%B4%D0%B5%D1%80%D0%B5%D1%80\n",
      "ca: ca - Roger Federer: https://ca.wikipedia.org/wiki/Roger_Federer\n",
      "ceb: ceb - Roger Federer: https://ceb.wikipedia.org/wiki/Roger_Federer\n",
      "ckb: ckb - ڕۆجەر فێدێرێر: https://ckb.wikipedia.org/wiki/%DA%95%DB%86%D8%AC%DB%95%D8%B1_%D9%81%DB%8E%D8%AF%DB%8E%D8%B1%DB%8E%D8%B1\n",
      "cs: cs - Roger Federer: https://cs.wikipedia.org/wiki/Roger_Federer\n",
      "cv: cv - Роджер Федерер: https://cv.wikipedia.org/wiki/%D0%A0%D0%BE%D0%B4%D0%B6%D0%B5%D1%80_%D0%A4%D0%B5%D0%B4%D0%B5%D1%80%D0%B5%D1%80\n",
      "cy: cy - Roger Federer: https://cy.wikipedia.org/wiki/Roger_Federer\n",
      "da: da - Roger Federer: https://da.wikipedia.org/wiki/Roger_Federer\n",
      "de: de - Roger Federer: https://de.wikipedia.org/wiki/Roger_Federer\n",
      "diq: diq - Roger Federer: https://diq.wikipedia.org/wiki/Roger_Federer\n",
      "dsb: dsb - Roger Federer: https://dsb.wikipedia.org/wiki/Roger_Federer\n",
      "el: el - Ρότζερ Φέντερερ: https://el.wikipedia.org/wiki/%CE%A1%CF%8C%CF%84%CE%B6%CE%B5%CF%81_%CE%A6%CE%AD%CE%BD%CF%84%CE%B5%CF%81%CE%B5%CF%81\n",
      "eml: eml - Roger Federer: https://eml.wikipedia.org/wiki/Roger_Federer\n",
      "eo: eo - Roger Federer: https://eo.wikipedia.org/wiki/Roger_Federer\n",
      "es: es - Roger Federer: https://es.wikipedia.org/wiki/Roger_Federer\n",
      "et: et - Roger Federer: https://et.wikipedia.org/wiki/Roger_Federer\n",
      "eu: eu - Roger Federer: https://eu.wikipedia.org/wiki/Roger_Federer\n",
      "ext: ext - Roger Federer: https://ext.wikipedia.org/wiki/Roger_Federer\n",
      "fa: fa - راجر فدرر: https://fa.wikipedia.org/wiki/%D8%B1%D8%A7%D8%AC%D8%B1_%D9%81%D8%AF%D8%B1%D8%B1\n",
      "fi: fi - Roger Federer: https://fi.wikipedia.org/wiki/Roger_Federer\n",
      "fo: fo - Roger Federer: https://fo.wikipedia.org/wiki/Roger_Federer\n",
      "fr: fr - Roger Federer: https://fr.wikipedia.org/wiki/Roger_Federer\n",
      "fy: fy - Roger Federer: https://fy.wikipedia.org/wiki/Roger_Federer\n",
      "ga: ga - Roger Federer: https://ga.wikipedia.org/wiki/Roger_Federer\n",
      "gl: gl - Roger Federer: https://gl.wikipedia.org/wiki/Roger_Federer\n",
      "gu: gu - રોજર ફેડરર: https://gu.wikipedia.org/wiki/%E0%AA%B0%E0%AB%8B%E0%AA%9C%E0%AA%B0_%E0%AA%AB%E0%AB%87%E0%AA%A1%E0%AA%B0%E0%AA%B0\n",
      "gv: gv - Roger Federer: https://gv.wikipedia.org/wiki/Roger_Federer\n",
      "ha: ha - Roger Federer: https://ha.wikipedia.org/wiki/Roger_Federer\n",
      "he: he - רוג'ר פדרר: https://he.wikipedia.org/wiki/%D7%A8%D7%95%D7%92%27%D7%A8_%D7%A4%D7%93%D7%A8%D7%A8\n",
      "hi: hi - रोजर फ़ेडरर: https://hi.wikipedia.org/wiki/%E0%A4%B0%E0%A5%8B%E0%A4%9C%E0%A4%B0_%E0%A4%AB%E0%A4%BC%E0%A5%87%E0%A4%A1%E0%A4%B0%E0%A4%B0\n",
      "hif: hif - Roger Federer: https://hif.wikipedia.org/wiki/Roger_Federer\n",
      "hr: hr - Roger Federer: https://hr.wikipedia.org/wiki/Roger_Federer\n",
      "hsb: hsb - Roger Federer: https://hsb.wikipedia.org/wiki/Roger_Federer\n",
      "hu: hu - Roger Federer: https://hu.wikipedia.org/wiki/Roger_Federer\n",
      "hy: hy - Ռոջեր Ֆեդերեր: https://hy.wikipedia.org/wiki/%D5%8C%D5%B8%D5%BB%D5%A5%D6%80_%D5%96%D5%A5%D5%A4%D5%A5%D6%80%D5%A5%D6%80\n",
      "id: id - Roger Federer: https://id.wikipedia.org/wiki/Roger_Federer\n",
      "ie: ie - Roger Federer: https://ie.wikipedia.org/wiki/Roger_Federer\n",
      "io: io - Roger Federer: https://io.wikipedia.org/wiki/Roger_Federer\n",
      "is: is - Roger Federer: https://is.wikipedia.org/wiki/Roger_Federer\n",
      "it: it - Roger Federer: https://it.wikipedia.org/wiki/Roger_Federer\n",
      "ja: ja - ロジャー・フェデラー: https://ja.wikipedia.org/wiki/%E3%83%AD%E3%82%B8%E3%83%A3%E3%83%BC%E3%83%BB%E3%83%95%E3%82%A7%E3%83%87%E3%83%A9%E3%83%BC\n",
      "jv: jv - Roger Federer: https://jv.wikipedia.org/wiki/Roger_Federer\n",
      "ka: ka - როჯერ ფედერერი: https://ka.wikipedia.org/wiki/%E1%83%A0%E1%83%9D%E1%83%AF%E1%83%94%E1%83%A0_%E1%83%A4%E1%83%94%E1%83%93%E1%83%94%E1%83%A0%E1%83%94%E1%83%A0%E1%83%98\n",
      "kaa: kaa - Rodjer Federer: https://kaa.wikipedia.org/wiki/Rodjer_Federer\n",
      "kab: kab - Roger Federer: https://kab.wikipedia.org/wiki/Roger_Federer\n",
      "kk: kk - Роджер Федерер: https://kk.wikipedia.org/wiki/%D0%A0%D0%BE%D0%B4%D0%B6%D0%B5%D1%80_%D0%A4%D0%B5%D0%B4%D0%B5%D1%80%D0%B5%D1%80\n",
      "kn: kn - ರೋಜರ್ ಫೆಡರರ್: https://kn.wikipedia.org/wiki/%E0%B2%B0%E0%B3%8B%E0%B2%9C%E0%B2%B0%E0%B3%8D_%E0%B2%AB%E0%B3%86%E0%B2%A1%E0%B2%B0%E0%B2%B0%E0%B3%8D\n",
      "ko: ko - 로저 페더러: https://ko.wikipedia.org/wiki/%EB%A1%9C%EC%A0%80_%ED%8E%98%EB%8D%94%EB%9F%AC\n",
      "ksh: ksh - Roger Federer: https://ksh.wikipedia.org/wiki/Roger_Federer\n",
      "ku: ku - Roger Federer: https://ku.wikipedia.org/wiki/Roger_Federer\n",
      "ky: ky - Роджер Федерер: https://ky.wikipedia.org/wiki/%D0%A0%D0%BE%D0%B4%D0%B6%D0%B5%D1%80_%D0%A4%D0%B5%D0%B4%D0%B5%D1%80%D0%B5%D1%80\n",
      "la: la - Rogerius Federer: https://la.wikipedia.org/wiki/Rogerius_Federer\n",
      "lb: lb - Roger Federer: https://lb.wikipedia.org/wiki/Roger_Federer\n",
      "lez: lez - Роджер Федерер: https://lez.wikipedia.org/wiki/%D0%A0%D0%BE%D0%B4%D0%B6%D0%B5%D1%80_%D0%A4%D0%B5%D0%B4%D0%B5%D1%80%D0%B5%D1%80\n",
      "lt: lt - Roger Federer: https://lt.wikipedia.org/wiki/Roger_Federer\n",
      "lv: lv - Rodžers Federers: https://lv.wikipedia.org/wiki/Rod%C5%BEers_Federers\n",
      "mai: mai - रोजर फेडरर: https://mai.wikipedia.org/wiki/%E0%A4%B0%E0%A5%8B%E0%A4%9C%E0%A4%B0_%E0%A4%AB%E0%A5%87%E0%A4%A1%E0%A4%B0%E0%A4%B0\n",
      "mg: mg - Roger Federer: https://mg.wikipedia.org/wiki/Roger_Federer\n",
      "min: min - Roger Federer: https://min.wikipedia.org/wiki/Roger_Federer\n",
      "mk: mk - Роџер Федерер: https://mk.wikipedia.org/wiki/%D0%A0%D0%BE%D1%9F%D0%B5%D1%80_%D0%A4%D0%B5%D0%B4%D0%B5%D1%80%D0%B5%D1%80\n",
      "ml: ml - റോജർ ഫെഡറർ: https://ml.wikipedia.org/wiki/%E0%B4%B1%E0%B5%8B%E0%B4%9C%E0%B5%BC_%E0%B4%AB%E0%B5%86%E0%B4%A1%E0%B4%B1%E0%B5%BC\n",
      "mn: mn - Рожер Федерер: https://mn.wikipedia.org/wiki/%D0%A0%D0%BE%D0%B6%D0%B5%D1%80_%D0%A4%D0%B5%D0%B4%D0%B5%D1%80%D0%B5%D1%80\n",
      "mr: mr - रॉजर फेडरर: https://mr.wikipedia.org/wiki/%E0%A4%B0%E0%A5%89%E0%A4%9C%E0%A4%B0_%E0%A4%AB%E0%A5%87%E0%A4%A1%E0%A4%B0%E0%A4%B0\n",
      "ms: ms - Roger Federer: https://ms.wikipedia.org/wiki/Roger_Federer\n",
      "my: my - ရော်ဂျာ ဖက်ဒရာ: https://my.wikipedia.org/wiki/%E1%80%9B%E1%80%B1%E1%80%AC%E1%80%BA%E1%80%82%E1%80%BB%E1%80%AC_%E1%80%96%E1%80%80%E1%80%BA%E1%80%92%E1%80%9B%E1%80%AC\n",
      "nb: nb - Roger Federer: https://no.wikipedia.org/wiki/Roger_Federer\n",
      "nds: nds - Roger Federer: https://nds.wikipedia.org/wiki/Roger_Federer\n",
      "ne: ne - रोजर फेडरर: https://ne.wikipedia.org/wiki/%E0%A4%B0%E0%A5%8B%E0%A4%9C%E0%A4%B0_%E0%A4%AB%E0%A5%87%E0%A4%A1%E0%A4%B0%E0%A4%B0\n",
      "nl: nl - Roger Federer: https://nl.wikipedia.org/wiki/Roger_Federer\n",
      "nn: nn - Roger Federer: https://nn.wikipedia.org/wiki/Roger_Federer\n",
      "oc: oc - Roger Federer: https://oc.wikipedia.org/wiki/Roger_Federer\n",
      "os: os - Федерер, Роджер: https://os.wikipedia.org/wiki/%D0%A4%D0%B5%D0%B4%D0%B5%D1%80%D0%B5%D1%80,_%D0%A0%D0%BE%D0%B4%D0%B6%D0%B5%D1%80\n",
      "pa: pa - ਰਾਜਰ ਫੈਡਰਰ: https://pa.wikipedia.org/wiki/%E0%A8%B0%E0%A8%BE%E0%A8%9C%E0%A8%B0_%E0%A8%AB%E0%A9%88%E0%A8%A1%E0%A8%B0%E0%A8%B0\n",
      "pam: pam - Roger Federer: https://pam.wikipedia.org/wiki/Roger_Federer\n",
      "pl: pl - Roger Federer: https://pl.wikipedia.org/wiki/Roger_Federer\n",
      "pms: pms - Roger Federer: https://pms.wikipedia.org/wiki/Roger_Federer\n",
      "pt: pt - Roger Federer: https://pt.wikipedia.org/wiki/Roger_Federer\n",
      "qu: qu - Roger Federer: https://qu.wikipedia.org/wiki/Roger_Federer\n",
      "rm: rm - Roger Federer: https://rm.wikipedia.org/wiki/Roger_Federer\n",
      "ro: ro - Roger Federer: https://ro.wikipedia.org/wiki/Roger_Federer\n",
      "ru: ru - Федерер, Роджер: https://ru.wikipedia.org/wiki/%D0%A4%D0%B5%D0%B4%D0%B5%D1%80%D0%B5%D1%80,_%D0%A0%D0%BE%D0%B4%D0%B6%D0%B5%D1%80\n",
      "scn: scn - Roger Federer: https://scn.wikipedia.org/wiki/Roger_Federer\n",
      "sco: sco - Roger Federer: https://sco.wikipedia.org/wiki/Roger_Federer\n",
      "sh: sh - Roger Federer: https://sh.wikipedia.org/wiki/Roger_Federer\n",
      "si: si - රොජර් ෆෙඩරර්: https://si.wikipedia.org/wiki/%E0%B6%BB%E0%B7%9C%E0%B6%A2%E0%B6%BB%E0%B7%8A_%E0%B7%86%E0%B7%99%E0%B6%A9%E0%B6%BB%E0%B6%BB%E0%B7%8A\n",
      "simple: simple - Roger Federer: https://simple.wikipedia.org/wiki/Roger_Federer\n",
      "sk: sk - Roger Federer: https://sk.wikipedia.org/wiki/Roger_Federer\n",
      "sl: sl - Roger Federer: https://sl.wikipedia.org/wiki/Roger_Federer\n",
      "sq: sq - Roger Federer: https://sq.wikipedia.org/wiki/Roger_Federer\n",
      "sr: sr - Роџер Федерер: https://sr.wikipedia.org/wiki/%D0%A0%D0%BE%D1%9F%D0%B5%D1%80_%D0%A4%D0%B5%D0%B4%D0%B5%D1%80%D0%B5%D1%80\n",
      "sv: sv - Roger Federer: https://sv.wikipedia.org/wiki/Roger_Federer\n",
      "sw: sw - Roger Federer: https://sw.wikipedia.org/wiki/Roger_Federer\n",
      "ta: ta - ரொஜர் பெடரர்: https://ta.wikipedia.org/wiki/%E0%AE%B0%E0%AF%8A%E0%AE%9C%E0%AE%B0%E0%AF%8D_%E0%AE%AA%E0%AF%86%E0%AE%9F%E0%AE%B0%E0%AE%B0%E0%AF%8D\n",
      "te: te - రోజర్ ఫెడరర్: https://te.wikipedia.org/wiki/%E0%B0%B0%E0%B1%8B%E0%B0%9C%E0%B0%B0%E0%B1%8D_%E0%B0%AB%E0%B1%86%E0%B0%A1%E0%B0%B0%E0%B0%B0%E0%B1%8D\n",
      "th: th - โรเจอร์ เฟเดอเรอร์: https://th.wikipedia.org/wiki/%E0%B9%82%E0%B8%A3%E0%B9%80%E0%B8%88%E0%B8%AD%E0%B8%A3%E0%B9%8C_%E0%B9%80%E0%B8%9F%E0%B9%80%E0%B8%94%E0%B8%AD%E0%B9%80%E0%B8%A3%E0%B8%AD%E0%B8%A3%E0%B9%8C\n",
      "tk: tk - Rojer Federer: https://tk.wikipedia.org/wiki/Rojer_Federer\n",
      "tl: tl - Roger Federer: https://tl.wikipedia.org/wiki/Roger_Federer\n",
      "tr: tr - Roger Federer: https://tr.wikipedia.org/wiki/Roger_Federer\n",
      "tt: tt - Rocer Federer: https://tt.wikipedia.org/wiki/Rocer_Federer\n",
      "tw: tw - Roger Federer: https://tw.wikipedia.org/wiki/Roger_Federer\n",
      "tyv: tyv - Федерер, Роджер: https://tyv.wikipedia.org/wiki/%D0%A4%D0%B5%D0%B4%D0%B5%D1%80%D0%B5%D1%80,_%D0%A0%D0%BE%D0%B4%D0%B6%D0%B5%D1%80\n",
      "uk: uk - Роджер Федерер: https://uk.wikipedia.org/wiki/%D0%A0%D0%BE%D0%B4%D0%B6%D0%B5%D1%80_%D0%A4%D0%B5%D0%B4%D0%B5%D1%80%D0%B5%D1%80\n",
      "ur: ur - روجر فیڈرر: https://ur.wikipedia.org/wiki/%D8%B1%D9%88%D8%AC%D8%B1_%D9%81%DB%8C%DA%88%D8%B1%D8%B1\n",
      "uz: uz - Roger Federer: https://uz.wikipedia.org/wiki/Roger_Federer\n",
      "vi: vi - Roger Federer: https://vi.wikipedia.org/wiki/Roger_Federer\n",
      "vo: vo - Roger Federer: https://vo.wikipedia.org/wiki/Roger_Federer\n",
      "wa: wa - Roger Federer: https://wa.wikipedia.org/wiki/Roger_Federer\n",
      "wuu: wuu - 罗杰·费德勒: https://wuu.wikipedia.org/wiki/%E7%BD%97%E6%9D%B0%C2%B7%E8%B4%B9%E5%BE%B7%E5%8B%92\n",
      "yo: yo - Roger Federer: https://yo.wikipedia.org/wiki/Roger_Federer\n",
      "zh: zh - 罗杰·费德勒: https://zh.wikipedia.org/wiki/%E7%BD%97%E6%9D%B0%C2%B7%E8%B4%B9%E5%BE%B7%E5%8B%92\n",
      "zh-min-nan: zh-min-nan - Roger Federer: https://zh-min-nan.wikipedia.org/wiki/Roger_Federer\n",
      "zh-yue: zh-yue - 費達拿: https://zh-yue.wikipedia.org/wiki/%E8%B2%BB%E9%81%94%E6%8B%BF\n"
     ]
    }
   ],
   "source": [
    "print_langlinks(page_py)"
   ]
  },
  {
   "cell_type": "code",
   "execution_count": 71,
   "metadata": {},
   "outputs": [
    {
     "data": {
      "text/plain": [
       "[' 磁碟區 G 中的磁碟是 Google Drive\\n',\n",
       " ' 磁碟區序號:  1983-1116\\n',\n",
       " '\\n',\n",
       " ' G:\\\\我的雲端硬碟\\\\Python\\\\Project\\\\test 的目錄\\n',\n",
       " '\\n',\n",
       " '2021/04/29  下午 06:01    <DIR>          .\\n',\n",
       " '2021/04/26  下午 02:01    <DIR>          ..\\n',\n",
       " '2021/04/28  下午 03:13    <DIR>          .ipynb_checkpoints\\n',\n",
       " '2021/04/26  下午 03:09            13,143 re.ipynb\\n',\n",
       " '2021/04/29  下午 05:41             5,738 stock.ipynb\\n',\n",
       " '2021/04/26  下午 02:16    <DIR>          .git\\n',\n",
       " '2021/04/22  下午 05:36            12,251 googlesheet.ipynb\\n',\n",
       " '2021/04/22  下午 04:30             2,327 credentials_gs.json\\n',\n",
       " '2021/04/24  下午 01:44    <DIR>          .idea\\n',\n",
       " '2021/04/26  下午 03:56             1,769 datetime.ipynb\\n',\n",
       " '2021/04/28  上午 09:58             5,125 gtranslation.ipynb\\n',\n",
       " '2021/04/29  下午 06:01            44,462 gsearch.ipynb\\n',\n",
       " '2021/04/27  下午 08:55               761 .google-cookie\\n',\n",
       " '2021/04/29  下午 05:51            58,615 wiki.ipynb\\n',\n",
       " '               9 個檔案         144,191 位元組\\n',\n",
       " '               5 個目錄  195,897,872,384 位元組可用\\n']"
      ]
     },
     "execution_count": 71,
     "metadata": {},
     "output_type": "execute_result"
    }
   ],
   "source": [
    "import os   \n",
    "tmp = os.popen( 'dir' ).readlines()\n",
    "tmp"
   ]
  },
  {
   "cell_type": "code",
   "execution_count": null,
   "metadata": {},
   "outputs": [],
   "source": []
  }
 ],
 "metadata": {
  "kernelspec": {
   "display_name": "Python 3",
   "language": "python",
   "name": "python3"
  },
  "language_info": {
   "codemirror_mode": {
    "name": "ipython",
    "version": 3
   },
   "file_extension": ".py",
   "mimetype": "text/x-python",
   "name": "python",
   "nbconvert_exporter": "python",
   "pygments_lexer": "ipython3",
   "version": "3.8.5"
  }
 },
 "nbformat": 4,
 "nbformat_minor": 4
}
