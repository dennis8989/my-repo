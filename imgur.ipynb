{
 "cells": [
  {
   "cell_type": "code",
   "execution_count": 8,
   "metadata": {
    "collapsed": true,
    "jupyter": {
     "outputs_hidden": true
    },
    "tags": []
   },
   "outputs": [
    {
     "name": "stdout",
     "output_type": "stream",
     "text": [
      "Requirement already satisfied: imgurpython in c:\\programdata\\anaconda3\\lib\\site-packages (1.1.7)\n",
      "Requirement already satisfied: requests in c:\\users\\dennis89.huang\\appdata\\roaming\\python\\python38\\site-packages (from imgurpython) (2.25.1)\n",
      "Requirement already satisfied: certifi>=2017.4.17 in c:\\users\\dennis89.huang\\appdata\\roaming\\python\\python38\\site-packages (from requests->imgurpython) (2020.12.5)\n",
      "Requirement already satisfied: idna<3,>=2.5 in c:\\programdata\\anaconda3\\lib\\site-packages (from requests->imgurpython) (2.10)\n",
      "Requirement already satisfied: chardet<5,>=3.0.2 in c:\\users\\dennis89.huang\\appdata\\roaming\\python\\python38\\site-packages (from requests->imgurpython) (4.0.0)\n",
      "Requirement already satisfied: urllib3<1.27,>=1.21.1 in c:\\users\\dennis89.huang\\appdata\\roaming\\python\\python38\\site-packages (from requests->imgurpython) (1.26.3)\n",
      "Collecting pyimgur\n",
      "  Downloading pyimgur-0.6.0.tar.gz (33 kB)\n",
      "Requirement already satisfied: requests in c:\\users\\dennis89.huang\\appdata\\roaming\\python\\python38\\site-packages (from pyimgur) (2.25.1)\n",
      "Requirement already satisfied: idna<3,>=2.5 in c:\\programdata\\anaconda3\\lib\\site-packages (from requests->pyimgur) (2.10)\n",
      "Requirement already satisfied: chardet<5,>=3.0.2 in c:\\users\\dennis89.huang\\appdata\\roaming\\python\\python38\\site-packages (from requests->pyimgur) (4.0.0)\n",
      "Requirement already satisfied: certifi>=2017.4.17 in c:\\users\\dennis89.huang\\appdata\\roaming\\python\\python38\\site-packages (from requests->pyimgur) (2020.12.5)\n",
      "Requirement already satisfied: urllib3<1.27,>=1.21.1 in c:\\users\\dennis89.huang\\appdata\\roaming\\python\\python38\\site-packages (from requests->pyimgur) (1.26.3)\n",
      "Building wheels for collected packages: pyimgur\n",
      "  Building wheel for pyimgur (setup.py): started\n",
      "  Building wheel for pyimgur (setup.py): finished with status 'done'\n",
      "  Created wheel for pyimgur: filename=pyimgur-0.6.0-py3-none-any.whl size=32432 sha256=de7dc748ce5fbf8c13ffaeacc4d3cf7641a67a3c91725c11037bb839eff2a684\n",
      "  Stored in directory: c:\\users\\dennis89.huang\\appdata\\local\\pip\\cache\\wheels\\c1\\68\\e5\\11eaa2e180e5601aac5554057a29714f91a058a68396e943f0\n",
      "Successfully built pyimgur\n",
      "Installing collected packages: pyimgur\n",
      "Successfully installed pyimgur-0.6.0\n"
     ]
    }
   ],
   "source": [
    "!pip install imgurpython\n",
    "!pip install pyimgur"
   ]
  },
  {
   "cell_type": "code",
   "execution_count": 11,
   "metadata": {
    "tags": []
   },
   "outputs": [
    {
     "name": "stdout",
     "output_type": "stream",
     "text": [
      "https://imgur.com/a/WkHV4cp\n",
      "https://imgur.com/a/7x8cAK8\n",
      "https://imgur.com/a/hEkuJdi\n",
      "https://imgur.com/a/dcD3Go1\n",
      "https://imgur.com/a/3E17f9E\n",
      "https://imgur.com/a/0xim2Y8\n",
      "https://i.imgur.com/cEPZVse.mp4\n",
      "https://imgur.com/a/EYul9TB\n",
      "https://imgur.com/a/EnXQfkj\n",
      "https://imgur.com/a/yGw99TU\n",
      "https://imgur.com/a/ntbHcwM\n",
      "https://i.imgur.com/RUjtn0C.jpg\n",
      "https://i.imgur.com/ak52ook.png\n",
      "https://imgur.com/a/z18Gv7a\n",
      "https://imgur.com/a/g3FFPid\n",
      "https://imgur.com/a/BBO7ir8\n",
      "https://imgur.com/a/eKybCcb\n",
      "https://imgur.com/a/2XQWVRU\n",
      "https://imgur.com/a/EVlZ2Vw\n",
      "https://imgur.com/a/WNevEly\n",
      "https://imgur.com/a/9xuyypg\n",
      "https://imgur.com/a/UU9SFYA\n",
      "https://imgur.com/a/O4QGcJN\n",
      "https://imgur.com/a/JghgqUR\n",
      "https://imgur.com/a/MiMV542\n",
      "https://imgur.com/a/FAsn5nM\n",
      "https://imgur.com/a/6Ua2BlD\n",
      "https://imgur.com/a/LXT8m5D\n",
      "https://imgur.com/a/yQyaloJ\n",
      "https://imgur.com/a/1z0Fb2V\n",
      "https://imgur.com/a/0cvzmgT\n",
      "https://imgur.com/a/m1ose09\n",
      "https://imgur.com/a/yC4jvos\n",
      "https://imgur.com/a/hsuCimi\n",
      "https://imgur.com/a/KF58qLv\n",
      "https://imgur.com/a/9Q9P9HY\n",
      "https://imgur.com/a/hJvmz5C\n",
      "https://imgur.com/a/6xyk5vT\n",
      "https://imgur.com/a/N65UDoZ\n",
      "https://imgur.com/a/3pRN4Hu\n",
      "https://imgur.com/a/uVVoopD\n",
      "https://imgur.com/a/Hh7M2Qa\n",
      "https://imgur.com/a/0Am6ZuR\n",
      "https://imgur.com/a/Uzf7YTa\n",
      "https://imgur.com/a/aEMUChh\n",
      "https://imgur.com/a/nmqhIxP\n",
      "https://imgur.com/a/VHzZgcA\n",
      "https://imgur.com/a/6UQsqH4\n",
      "https://imgur.com/a/DkxWQaU\n",
      "https://imgur.com/a/xhN3Hdq\n",
      "https://imgur.com/a/p0JxK72\n",
      "https://imgur.com/a/6tZVnS2\n",
      "https://imgur.com/a/gt6eodY\n",
      "https://imgur.com/a/9pEAuzv\n",
      "https://imgur.com/a/VCxGpXp\n",
      "https://imgur.com/a/ihSg3vt\n",
      "https://imgur.com/a/k9mmKZr\n",
      "https://imgur.com/a/tSSghOm\n",
      "https://imgur.com/a/x1UJisZ\n",
      "https://imgur.com/a/EpszPDa\n"
     ]
    }
   ],
   "source": [
    "from imgurpython import ImgurClient\n",
    "client_id ='71e42bd3406a3af'\n",
    "client_secret = 'da58e1592caa24fd007d1bfed44d8a1a55de0fe3'\n",
    "\n",
    "client = ImgurClient(client_id, client_secret)\n",
    "\n",
    "# Example request\n",
    "items = client.gallery()\n",
    "for item in items:\n",
    "    print(item.link)"
   ]
  },
  {
   "cell_type": "code",
   "execution_count": 10,
   "metadata": {},
   "outputs": [
    {
     "name": "stdout",
     "output_type": "stream",
     "text": [
      "Uploaded with PyImgur\n",
      "https://i.imgur.com/oU7z8C6.png\n",
      "image/png\n"
     ]
    }
   ],
   "source": [
    "#上傳圖片\n",
    "import pyimgur\n",
    "\n",
    "CLIENT_ID = \"71e42bd3406a3af\"\n",
    "PATH = \"./day20_01.png\" #A Filepath to an image on your computer\"\n",
    "\n",
    "im = pyimgur.Imgur(CLIENT_ID)\n",
    "uploaded_image = im.upload_image(PATH, title=\"Uploaded with PyImgur\")\n",
    "print(uploaded_image.title)\n",
    "print(uploaded_image.link)\n",
    "print(uploaded_image.type)"
   ]
  },
  {
   "cell_type": "code",
   "execution_count": null,
   "metadata": {},
   "outputs": [],
   "source": []
  }
 ],
 "metadata": {
  "kernelspec": {
   "display_name": "Python 3",
   "language": "python",
   "name": "python3"
  },
  "language_info": {
   "codemirror_mode": {
    "name": "ipython",
    "version": 3
   },
   "file_extension": ".py",
   "mimetype": "text/x-python",
   "name": "python",
   "nbconvert_exporter": "python",
   "pygments_lexer": "ipython3",
   "version": "3.8.5"
  }
 },
 "nbformat": 4,
 "nbformat_minor": 4
}
