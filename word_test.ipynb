{
 "cells": [
  {
   "cell_type": "code",
   "execution_count": 4,
   "metadata": {},
   "outputs": [],
   "source": [
    "from __future__ import print_function\n",
    "import datetime\n",
    "import os.path\n",
    "from googleapiclient.discovery import build\n",
    "from google_auth_oauthlib.flow import InstalledAppFlow\n",
    "from google.auth.transport.requests import Request\n",
    "from google.oauth2.credentials import Credentials\n",
    "from IPython.core.interactiveshell import InteractiveShell\n",
    "InteractiveShell.ast_node_interactivity = \"all\"\n",
    "import pandas as pd\n",
    "import re\n",
    "import random\n",
    "# ! pip install gspread_formatting\n",
    "# import gspread to op google sheet\n",
    "import gspread\n",
    "from oauth2client.service_account import ServiceAccountCredentials\n",
    "\n",
    "#gsprade_* for save and  get data from goole sheet\n",
    "# from  import get_as_dataframe, set_with_dataframe\n",
    "# from gspread_formatting.dataframe import format_with_dataframe"
   ]
  },
  {
   "cell_type": "code",
   "execution_count": 7,
   "metadata": {},
   "outputs": [],
   "source": [
    "def save_to_gs():\n",
    "        # --------------authorize google sheet---------------------\n",
    "    scopes = [\"https://spreadsheets.google.com/feeds\"]\n",
    "    credentials = ServiceAccountCredentials.from_json_keyfile_name(\"credentials_gs.json\", scopes)\n",
    "    gc = gspread.authorize(credentials)\n",
    "#     sh = gc.open_by_key(\"1590Pln7GfV3vvcvvsRNLbMHJzM78Bmtnh9mvTpXBVi4\")#juhao\n",
    "    sh = gc.open_by_key(\"1LMoh8cbY2-KdP40Z98DYGWs6r5Dd0aDJWSgxo2f6AII\")#english word\n",
    "    Sheet1 = sh.worksheet(\"Sheet1\")\n",
    "    Sheet2 = sh.worksheet(\"Sheet2\")\n",
    "    return Sheet1, Sheet2"
   ]
  },
  {
   "cell_type": "code",
   "execution_count": 9,
   "metadata": {},
   "outputs": [
    {
     "name": "stdout",
     "output_type": "stream",
     "text": [
      "683\n",
      "gaffe\n",
      "{'Noun': ['a socially awkward or tactless act']}\n",
      "https://www.youtube.com/watch?v=PWorwnGdRXI\n"
     ]
    }
   ],
   "source": [
    "values_list = worksheet.get_all_records()\n",
    "Sheet1,Sheet2 = save_to_gs()\n",
    "def get_question():\n",
    "    i = random.randint(1,len(values_list))\n",
    "    if Sheet1.acell('A'+str(i)).value== '':\n",
    "        get_question()\n",
    "    else:\n",
    "        print(i)\n",
    "        print(Sheet1.acell('B'+str(i)).value)\n",
    "        Sheet2.update('A1', i)\n",
    "def get_ans():\n",
    "    i = Sheet2.acell('A1').value\n",
    "    meaning = Sheet1.acell('D'+str(i)).value\n",
    "    link = Sheet1.acell('C'+str(i)).value\n",
    "    print(meaning)\n",
    "    print(link)\n",
    "get_question()\n",
    "get_ans()"
   ]
  },
  {
   "cell_type": "code",
   "execution_count": null,
   "metadata": {},
   "outputs": [],
   "source": []
  }
 ],
 "metadata": {
  "kernelspec": {
   "display_name": "Python 3",
   "language": "python",
   "name": "python3"
  },
  "language_info": {
   "codemirror_mode": {
    "name": "ipython",
    "version": 3
   },
   "file_extension": ".py",
   "mimetype": "text/x-python",
   "name": "python",
   "nbconvert_exporter": "python",
   "pygments_lexer": "ipython3",
   "version": "3.8.5"
  }
 },
 "nbformat": 4,
 "nbformat_minor": 4
}
